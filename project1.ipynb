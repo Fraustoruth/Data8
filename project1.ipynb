{
 "cells": [
  {
   "cell_type": "code",
   "execution_count": 209,
   "metadata": {
    "deletable": false,
    "editable": false
   },
   "outputs": [
    {
     "name": "stdout",
     "output_type": "stream",
     "text": [
      "=====================================================================\n",
      "Assignment: Project 1: World Progress\n",
      "OK, version v1.12.5\n",
      "=====================================================================\n",
      "\n"
     ]
    }
   ],
   "source": [
    "# Initialize OK\n",
    "from client.api.notebook import Notebook\n",
    "ok = Notebook('project1.ok')"
   ]
  },
  {
   "cell_type": "markdown",
   "metadata": {},
   "source": [
    "## Project 1: World Progress"
   ]
  },
  {
   "cell_type": "markdown",
   "metadata": {},
   "source": [
    "In this project, you'll explore data from [Gapminder.org](http://gapminder.org), a website dedicated to providing a fact-based view of the world and how it has changed. That site includes several data visualizations and presentations, but also publishes the raw data that we will use in this project to recreate and extend some of their most famous visualizations.\n",
    "\n",
    "The Gapminder website collects data from many sources and compiles them into tables that describe many countries around the world. All of the data they aggregate are published in the [Systema Globalis](https://github.com/open-numbers/ddf--gapminder--systema_globalis/blob/master/README.md). Their goal is \"to compile all public statistics; Social, Economic and Environmental; into a comparable total dataset.\" All data sets in this project are copied directly from the Systema Globalis without any changes.\n",
    "\n",
    "This project is dedicated to [Hans Rosling](https://en.wikipedia.org/wiki/Hans_Rosling) (1948-2017), who championed the use of data to understand and prioritize global development challenges."
   ]
  },
  {
   "cell_type": "markdown",
   "metadata": {},
   "source": [
    "### Logistics\n",
    "\n",
    "**Deadline.** This project is due at 11:59pm on Friday 10/4. Projects will be accepted up to 2 days (48 hours) late; a project submitted less than 24 hours after the deadline will receive 2/3 credit, a project submitted between 24 and 48 hours after the deadline will receive 1/3 credit, and a project submitted 48 hours or more after the deadline will receive no credit. It's **much** better to be early than late, so start working now.\n",
    "\n",
    "**Checkpoint.** For full credit, you must also complete the first 8 questions, pass all public autograder tests, and submit to okpy by 11:59pm on Friday 9/27. After you've submitted the checkpoint, you may still change your answers before the project deadline - only your final submission will be graded for correctness. You will have some lab time to work on these questions, but we recommend that you start the project before lab and leave time to finish the checkpoint afterward.\n",
    "\n",
    "**Partners.** You may work with one other partner; your partner must be from your assigned lab section. Only one of you is required to submit the project. On [okpy.org](http://okpy.org), the person who submits should also designate their partner so that both of you receive credit.\n",
    "\n",
    "**Rules.** Don't share your code with anybody but your partner. You are welcome to discuss questions with other students, but don't share the answers. The experience of solving the problems in this project will prepare you for exams (and life). If someone asks you for the answer, resist! Instead, you can demonstrate how you would solve a similar problem.\n",
    "\n",
    "**Support.** You are not alone! Come to office hours, post on Piazza, and talk to your classmates. If you want to ask about the details of your solution to a problem, make a private Piazza post and the staff will respond. If you're ever feeling overwhelmed or don't know how to make progress, email your TA or tutor for help. You can find contact information for the staff on the [course website](http://data8.org/fa19/staff.html).\n",
    "\n",
    "**Tests.** The tests that are given are **not comprehensive** and passing the tests for a question **does not** mean that you answered the question correctly. Tests usually only check that your table has the correct column labels. However, more tests will be applied to verify the correctness of your submission in order to assign your final score, so be careful and check your work! You might want to create your own checks along the way to see if your answers make sense. Additionally, before you submit, make sure that none of your cells take a very long time to run (several minutes).\n",
    "\n",
    "**Free Response Questions:** Make sure that you put the answers to the written questions in the indicated cell we provide. Check to make sure that you have a [Gradescope](http://gradescope.com) account, which is where the scores to the free response questions will be posted. If you do not, make sure to reach out to your assigned (u)GSI.\n",
    "\n",
    "**Advice.** Develop your answers incrementally. To perform a complicated table manipulation, break it up into steps, perform each step on a different line, give a new name to each result, and check that each intermediate result is what you expect. You can add any additional names or functions you want to the provided cells. Make sure that you are using distinct and meaningful variable names throughout the notebook. Along that line, **DO NOT** reuse the variable names that we use when we grade your answers. For example, in Question 1 of the Global Poverty section, we ask you to assign an answer to `latest`. Do not reassign the variable name `latest` to anything else in your notebook, otherwise there is the chance that our tests grade against what `latest` was reassigned to.\n",
    "\n",
    "You **never** have to use just one line in this project or any others. Use intermediate variables and multiple lines as much as you would like!  \n",
    "\n",
    "To get started, load `datascience`, `numpy`, `plots`, and `ok`."
   ]
  },
  {
   "cell_type": "code",
   "execution_count": 1,
   "metadata": {},
   "outputs": [
    {
     "name": "stdout",
     "output_type": "stream",
     "text": [
      "=====================================================================\n",
      "Assignment: Project 1: World Progress\n",
      "OK, version v1.18.1\n",
      "=====================================================================\n",
      "\n"
     ]
    }
   ],
   "source": [
    "from datascience import *\n",
    "import numpy as np\n",
    "\n",
    "%matplotlib inline\n",
    "import matplotlib.pyplot as plots\n",
    "plots.style.use('fivethirtyeight')\n",
    "\n",
    "from client.api.notebook import Notebook\n",
    "ok = Notebook('project1.ok')"
   ]
  },
  {
   "cell_type": "markdown",
   "metadata": {},
   "source": [
    "Before continuing the assignment, select \"Save and Checkpoint\" in the File menu and then execute the submit cell below. The result will contain a link that you can use to check that your assignment has been submitted successfully. If you submit more than once before the deadline, we will only grade your final submission. If you mistakenly submit the wrong one, you can head to okpy.org and flag the correct version. There will be another submit cell at the end of the assignment when you finish!"
   ]
  },
  {
   "cell_type": "code",
   "execution_count": 2,
   "metadata": {},
   "outputs": [
    {
     "data": {
      "application/javascript": [
       "IPython.notebook.save_checkpoint();"
      ],
      "text/plain": [
       "<IPython.core.display.Javascript object>"
      ]
     },
     "metadata": {},
     "output_type": "display_data"
    },
    {
     "data": {
      "application/javascript": [
       "IPython.notebook.save_notebook();"
      ],
      "text/plain": [
       "<IPython.core.display.Javascript object>"
      ]
     },
     "metadata": {},
     "output_type": "display_data"
    },
    {
     "name": "stdout",
     "output_type": "stream",
     "text": [
      "Saving notebook... Could not automatically save 'project1.ipynb'\n",
      "Make sure your notebook is correctly named and saved before submitting to OK!\n",
      "Making a best attempt to submit latest 'project1.ipynb', last modified at Sat Oct 16 12:54:44 2021\n"
     ]
    },
    {
     "name": "stderr",
     "output_type": "stream",
     "text": [
      "ERROR  | auth.py:102 | {'error': 'invalid_grant'}\n"
     ]
    },
    {
     "name": "stdout",
     "output_type": "stream",
     "text": [
      "Performing authentication\n",
      "Please enter your school email (.edu): fraustoruth96@berkeley.edu\n",
      "\n",
      "Copy the following URL and open it in a web browser. To copy,\n",
      "highlight the URL, right-click, and select \"Copy\".\n",
      "\n",
      "https://okpy.org/client/login/\n",
      "\n",
      "After logging in, copy the code from the web page, paste it below,\n",
      "and press Enter. To paste, right-click and select \"Paste\".\n",
      "\n",
      "Paste your code here: 5TX8org4ai9yABDv19N9xzxOjQvjYN\n",
      "Successfully logged in as fraustoruth96@berkeley.edu\n",
      "Submit... 0.0% complete\n",
      "Could not submit: Late Submission of cal/data8/fa19/project1\n",
      "\n"
     ]
    }
   ],
   "source": [
    "_ = ok.submit()"
   ]
  },
  {
   "cell_type": "markdown",
   "metadata": {
    "deletable": false,
    "editable": false
   },
   "source": [
    "## 1. Global Population Growth\n"
   ]
  },
  {
   "cell_type": "markdown",
   "metadata": {
    "deletable": false,
    "editable": false
   },
   "source": [
    "The global population of humans reached 1 billion around 1800, 3 billion around 1960, and 7 billion around 2011. The potential impact of exponential population growth has concerned scientists, economists, and politicians alike.\n",
    "\n",
    "The UN Population Division estimates that the world population will likely continue to grow throughout the 21st century, but at a slower rate, perhaps reaching 11 billion by 2100. However, the UN does not rule out scenarios of more extreme growth.\n",
    "\n",
    "<a href=\"http://www.pewresearch.org/fact-tank/2015/06/08/scientists-more-worried-than-public-about-worlds-growing-population/ft_15-06-04_popcount/\"> \n",
    " <img src=\"pew_population_projection.png\"/> \n",
    "</a>\n",
    "\n",
    "In this section, we will examine some of the factors that influence population growth and how they are changing around the world.\n",
    "\n",
    "The first table we will consider is the total population of each country over time. Run the cell below."
   ]
  },
  {
   "cell_type": "code",
   "execution_count": 4,
   "metadata": {
    "deletable": false,
    "editable": false
   },
   "outputs": [
    {
     "data": {
      "text/html": [
       "<table border=\"1\" class=\"dataframe\">\n",
       "    <thead>\n",
       "        <tr>\n",
       "            <th>geo</th> <th>time</th> <th>population_total</th>\n",
       "        </tr>\n",
       "    </thead>\n",
       "    <tbody>\n",
       "        <tr>\n",
       "            <td>abw </td> <td>1800</td> <td>19286           </td>\n",
       "        </tr>\n",
       "        <tr>\n",
       "            <td>abw </td> <td>1801</td> <td>19286           </td>\n",
       "        </tr>\n",
       "        <tr>\n",
       "            <td>abw </td> <td>1802</td> <td>19286           </td>\n",
       "        </tr>\n",
       "    </tbody>\n",
       "</table>\n",
       "<p>... (87792 rows omitted)</p>"
      ],
      "text/plain": [
       "<IPython.core.display.HTML object>"
      ]
     },
     "metadata": {},
     "output_type": "display_data"
    }
   ],
   "source": [
    "population = Table.read_table('population.csv')\n",
    "population.show(3)"
   ]
  },
  {
   "cell_type": "markdown",
   "metadata": {},
   "source": [
    "**Note:** The population csv file can also be found [here](https://github.com/open-numbers/ddf--gapminder--systema_globalis/raw/master/ddf--datapoints--population_total--by--geo--time.csv). The data for this project was downloaded in February 2017."
   ]
  },
  {
   "cell_type": "markdown",
   "metadata": {
    "deletable": false,
    "editable": false
   },
   "source": [
    "### Bangladesh\n",
    "\n",
    "In the `population` table, the `geo` column contains three-letter codes established by the [International Organization for Standardization](https://en.wikipedia.org/wiki/International_Organization_for_Standardization) (ISO) in the [Alpha-3](https://en.wikipedia.org/wiki/ISO_3166-1_alpha-3#Current_codes) standard. We will begin by taking a close look at Bangladesh. Inspect the standard to find the 3-letter code for Bangladesh."
   ]
  },
  {
   "cell_type": "markdown",
   "metadata": {
    "deletable": false,
    "editable": false
   },
   "source": [
    "**Question 1.** Create a table called `b_pop` that has two columns labeled `time` and `population_total`. The first column should contain the years from 1970 through 2015 (including both 1970 and 2015) and the second should contain the population of Bangladesh in each of those years.\n",
    "\n",
    "<!--\n",
    "BEGIN QUESTION\n",
    "name: q1_1\n",
    "-->"
   ]
  },
  {
   "cell_type": "code",
   "execution_count": 7,
   "metadata": {
    "deletable": false
   },
   "outputs": [
    {
     "data": {
      "text/html": [
       "<table border=\"1\" class=\"dataframe\">\n",
       "    <thead>\n",
       "        <tr>\n",
       "            <th>time</th> <th>population_total</th>\n",
       "        </tr>\n",
       "    </thead>\n",
       "    <tbody>\n",
       "        <tr>\n",
       "            <td>1970</td> <td>65048701        </td>\n",
       "        </tr>\n",
       "        <tr>\n",
       "            <td>1971</td> <td>66417450        </td>\n",
       "        </tr>\n",
       "        <tr>\n",
       "            <td>1972</td> <td>67578486        </td>\n",
       "        </tr>\n",
       "        <tr>\n",
       "            <td>1973</td> <td>68658472        </td>\n",
       "        </tr>\n",
       "        <tr>\n",
       "            <td>1974</td> <td>69837960        </td>\n",
       "        </tr>\n",
       "        <tr>\n",
       "            <td>1975</td> <td>71247153        </td>\n",
       "        </tr>\n",
       "        <tr>\n",
       "            <td>1976</td> <td>72930206        </td>\n",
       "        </tr>\n",
       "        <tr>\n",
       "            <td>1977</td> <td>74848466        </td>\n",
       "        </tr>\n",
       "        <tr>\n",
       "            <td>1978</td> <td>76948378        </td>\n",
       "        </tr>\n",
       "        <tr>\n",
       "            <td>1979</td> <td>79141947        </td>\n",
       "        </tr>\n",
       "    </tbody>\n",
       "</table>\n",
       "<p>... (36 rows omitted)</p>"
      ],
      "text/plain": [
       "time | population_total\n",
       "1970 | 65048701\n",
       "1971 | 66417450\n",
       "1972 | 67578486\n",
       "1973 | 68658472\n",
       "1974 | 69837960\n",
       "1975 | 71247153\n",
       "1976 | 72930206\n",
       "1977 | 74848466\n",
       "1978 | 76948378\n",
       "1979 | 79141947\n",
       "... (36 rows omitted)"
      ]
     },
     "execution_count": 7,
     "metadata": {},
     "output_type": "execute_result"
    }
   ],
   "source": [
    "\n",
    "b_pop = population.where('geo',are.equal_to('bgd')).sort('time',descending= False).where('time',are.between(1970,2016)).select('time','population_total')\n",
    "b_pop"
   ]
  },
  {
   "cell_type": "code",
   "execution_count": 8,
   "metadata": {
    "deletable": false,
    "editable": false
   },
   "outputs": [
    {
     "name": "stdout",
     "output_type": "stream",
     "text": [
      "~~~~~~~~~~~~~~~~~~~~~~~~~~~~~~~~~~~~~~~~~~~~~~~~~~~~~~~~~~~~~~~~~~~~~\n",
      "Running tests\n",
      "\n",
      "---------------------------------------------------------------------\n",
      "Test summary\n",
      "    Passed: 2\n",
      "    Failed: 0\n",
      "[ooooooooook] 100.0% passed\n",
      "\n"
     ]
    }
   ],
   "source": [
    "ok.grade(\"q1_1\");"
   ]
  },
  {
   "cell_type": "markdown",
   "metadata": {
    "deletable": false,
    "editable": false
   },
   "source": [
    "Run the following cell to create a table called `b_five` that has the population of Bangladesh every five years. At a glance, it appears that the population of Bangladesh has been growing quickly indeed!"
   ]
  },
  {
   "cell_type": "code",
   "execution_count": 9,
   "metadata": {
    "deletable": false,
    "editable": false
   },
   "outputs": [
    {
     "data": {
      "text/html": [
       "<table border=\"1\" class=\"dataframe\">\n",
       "    <thead>\n",
       "        <tr>\n",
       "            <th>time</th> <th>population_total</th>\n",
       "        </tr>\n",
       "    </thead>\n",
       "    <tbody>\n",
       "        <tr>\n",
       "            <td>1970</td> <td>65,048,701      </td>\n",
       "        </tr>\n",
       "        <tr>\n",
       "            <td>1975</td> <td>71,247,153      </td>\n",
       "        </tr>\n",
       "        <tr>\n",
       "            <td>1980</td> <td>81,364,176      </td>\n",
       "        </tr>\n",
       "        <tr>\n",
       "            <td>1985</td> <td>93,015,182      </td>\n",
       "        </tr>\n",
       "        <tr>\n",
       "            <td>1990</td> <td>105,983,136     </td>\n",
       "        </tr>\n",
       "        <tr>\n",
       "            <td>1995</td> <td>118,427,768     </td>\n",
       "        </tr>\n",
       "        <tr>\n",
       "            <td>2000</td> <td>131,280,739     </td>\n",
       "        </tr>\n",
       "        <tr>\n",
       "            <td>2005</td> <td>142,929,979     </td>\n",
       "        </tr>\n",
       "        <tr>\n",
       "            <td>2010</td> <td>151,616,777     </td>\n",
       "        </tr>\n",
       "        <tr>\n",
       "            <td>2015</td> <td>160,995,642     </td>\n",
       "        </tr>\n",
       "    </tbody>\n",
       "</table>"
      ],
      "text/plain": [
       "time | population_total\n",
       "1970 | 65,048,701\n",
       "1975 | 71,247,153\n",
       "1980 | 81,364,176\n",
       "1985 | 93,015,182\n",
       "1990 | 105,983,136\n",
       "1995 | 118,427,768\n",
       "2000 | 131,280,739\n",
       "2005 | 142,929,979\n",
       "2010 | 151,616,777\n",
       "2015 | 160,995,642"
      ]
     },
     "execution_count": 9,
     "metadata": {},
     "output_type": "execute_result"
    }
   ],
   "source": [
    "b_pop.set_format('population_total', NumberFormatter)\n",
    "\n",
    "fives = np.arange(1970, 2016, 5) # 1970, 1975, 1980, ...\n",
    "b_five = b_pop.sort('time').where('time', are.contained_in(fives))\n",
    "b_five"
   ]
  },
  {
   "cell_type": "markdown",
   "metadata": {
    "deletable": false,
    "editable": false
   },
   "source": [
    "**Question 2.** Assign `initial` to an array that contains the population for every five year interval from 1970 to 2010. Then, assign `changed` to an array that contains the population for every five year interval from 1975 to 2015. You should use the `b_five` table to create both arrays, first filtering the table to only contain the relevant years.\n",
    "\n",
    "We have provided the code below that uses  `initial` and `changed` in order to add a column to `b_five` called `annual_growth`. Don't worry about the calculation of the growth rates; run the test below to test your solution.\n",
    "\n",
    "If you are interested in how we came up with the formula for growth rates, consult the [growth rates](https://www.inferentialthinking.com/chapters/03/2/1/growth) section of the textbook.\n",
    "\n",
    "<!--\n",
    "BEGIN QUESTION\n",
    "name: q1_2\n",
    "-->"
   ]
  },
  {
   "cell_type": "code",
   "execution_count": 10,
   "metadata": {
    "deletable": false
   },
   "outputs": [
    {
     "data": {
      "text/html": [
       "<table border=\"1\" class=\"dataframe\">\n",
       "    <thead>\n",
       "        <tr>\n",
       "            <th>time</th> <th>population_total</th> <th>annual_growth</th>\n",
       "        </tr>\n",
       "    </thead>\n",
       "    <tbody>\n",
       "        <tr>\n",
       "            <td>1970</td> <td>65,048,701      </td> <td>1.84%        </td>\n",
       "        </tr>\n",
       "        <tr>\n",
       "            <td>1975</td> <td>71,247,153      </td> <td>2.69%        </td>\n",
       "        </tr>\n",
       "        <tr>\n",
       "            <td>1980</td> <td>81,364,176      </td> <td>2.71%        </td>\n",
       "        </tr>\n",
       "        <tr>\n",
       "            <td>1985</td> <td>93,015,182      </td> <td>2.64%        </td>\n",
       "        </tr>\n",
       "        <tr>\n",
       "            <td>1990</td> <td>105,983,136     </td> <td>2.25%        </td>\n",
       "        </tr>\n",
       "        <tr>\n",
       "            <td>1995</td> <td>118,427,768     </td> <td>2.08%        </td>\n",
       "        </tr>\n",
       "        <tr>\n",
       "            <td>2000</td> <td>131,280,739     </td> <td>1.71%        </td>\n",
       "        </tr>\n",
       "        <tr>\n",
       "            <td>2005</td> <td>142,929,979     </td> <td>1.19%        </td>\n",
       "        </tr>\n",
       "        <tr>\n",
       "            <td>2010</td> <td>151,616,777     </td> <td>1.21%        </td>\n",
       "        </tr>\n",
       "    </tbody>\n",
       "</table>"
      ],
      "text/plain": [
       "time | population_total | annual_growth\n",
       "1970 | 65,048,701       | 1.84%\n",
       "1975 | 71,247,153       | 2.69%\n",
       "1980 | 81,364,176       | 2.71%\n",
       "1985 | 93,015,182       | 2.64%\n",
       "1990 | 105,983,136      | 2.25%\n",
       "1995 | 118,427,768      | 2.08%\n",
       "2000 | 131,280,739      | 1.71%\n",
       "2005 | 142,929,979      | 1.19%\n",
       "2010 | 151,616,777      | 1.21%"
      ]
     },
     "execution_count": 10,
     "metadata": {},
     "output_type": "execute_result"
    }
   ],
   "source": [
    "ray_1970_2010 = np.arange(1970,2015,5)\n",
    "ray_1975_2015 = np.arange(1975,2020,5)\n",
    "\n",
    "initial = b_five.where('time',are.contained_in(ray_1970_2010)).column('population_total')\n",
    "changed = b_five.where('time', are.contained_in(ray_1975_2015)).column('population_total')\n",
    "\n",
    "b_1970_through_2010 = b_five.where('time', are.below_or_equal_to(2010)) \n",
    "\n",
    "b_five_growth = b_1970_through_2010.with_column('annual_growth', (changed/initial)**0.2-1)\n",
    "\n",
    "b_five_growth.set_format('annual_growth', PercentFormatter)"
   ]
  },
  {
   "cell_type": "code",
   "execution_count": 11,
   "metadata": {
    "deletable": false,
    "editable": false
   },
   "outputs": [
    {
     "name": "stdout",
     "output_type": "stream",
     "text": [
      "~~~~~~~~~~~~~~~~~~~~~~~~~~~~~~~~~~~~~~~~~~~~~~~~~~~~~~~~~~~~~~~~~~~~~\n",
      "Running tests\n",
      "\n",
      "---------------------------------------------------------------------\n",
      "Test summary\n",
      "    Passed: 2\n",
      "    Failed: 0\n",
      "[ooooooooook] 100.0% passed\n",
      "\n"
     ]
    }
   ],
   "source": [
    "ok.grade(\"q1_2\");"
   ]
  },
  {
   "cell_type": "markdown",
   "metadata": {
    "deletable": false,
    "editable": false
   },
   "source": [
    "While the population has grown every five years since 1970, the annual growth rate decreased dramatically from 1985 to 2005. Let's look at some other information in order to develop a possible explanation. Run the next cell to load three additional tables of measurements about countries over time."
   ]
  },
  {
   "cell_type": "code",
   "execution_count": 13,
   "metadata": {
    "deletable": false,
    "editable": false
   },
   "outputs": [],
   "source": [
    "life_expectancy = Table.read_table('life_expectancy.csv')\n",
    "child_mortality = Table.read_table('child_mortality.csv').relabel(2, 'child_mortality_under_5_per_1000_born')\n",
    "fertility = Table.read_table('fertility.csv')"
   ]
  },
  {
   "cell_type": "markdown",
   "metadata": {
    "deletable": false,
    "editable": false
   },
   "source": [
    "The `life_expectancy` table contains a statistic that is often used to measure how long people live, called *life expectancy at birth*. This number, for a country in a given year, [does not measure how long babies born in that year are expected to live](http://blogs.worldbank.org/opendata/what-does-life-expectancy-birth-really-mean). Instead, it measures how long someone would live, on average, if the *mortality conditions* in that year persisted throughout their lifetime. These \"mortality conditions\" describe what fraction of people at each age survived the year. So, it is a way of measuring the proportion of people that are staying alive, aggregated over different age groups in the population."
   ]
  },
  {
   "cell_type": "markdown",
   "metadata": {},
   "source": [
    "Run the following cells below to see `life_expectancy`, `child_mortality`, and `fertility`. Refer back to these tables as they will be helpful for answering further questions!"
   ]
  },
  {
   "cell_type": "code",
   "execution_count": 14,
   "metadata": {},
   "outputs": [
    {
     "data": {
      "text/html": [
       "<table border=\"1\" class=\"dataframe\">\n",
       "    <thead>\n",
       "        <tr>\n",
       "            <th>geo</th> <th>time</th> <th>life_expectancy_years</th>\n",
       "        </tr>\n",
       "    </thead>\n",
       "    <tbody>\n",
       "        <tr>\n",
       "            <td>afg </td> <td>1800</td> <td>28.21                </td>\n",
       "        </tr>\n",
       "        <tr>\n",
       "            <td>afg </td> <td>1801</td> <td>28.2                 </td>\n",
       "        </tr>\n",
       "        <tr>\n",
       "            <td>afg </td> <td>1802</td> <td>28.19                </td>\n",
       "        </tr>\n",
       "        <tr>\n",
       "            <td>afg </td> <td>1803</td> <td>28.18                </td>\n",
       "        </tr>\n",
       "        <tr>\n",
       "            <td>afg </td> <td>1804</td> <td>28.17                </td>\n",
       "        </tr>\n",
       "        <tr>\n",
       "            <td>afg </td> <td>1805</td> <td>28.16                </td>\n",
       "        </tr>\n",
       "        <tr>\n",
       "            <td>afg </td> <td>1806</td> <td>28.15                </td>\n",
       "        </tr>\n",
       "        <tr>\n",
       "            <td>afg </td> <td>1807</td> <td>28.14                </td>\n",
       "        </tr>\n",
       "        <tr>\n",
       "            <td>afg </td> <td>1808</td> <td>28.13                </td>\n",
       "        </tr>\n",
       "        <tr>\n",
       "            <td>afg </td> <td>1809</td> <td>28.12                </td>\n",
       "        </tr>\n",
       "    </tbody>\n",
       "</table>\n",
       "<p>... (43847 rows omitted)</p>"
      ],
      "text/plain": [
       "geo  | time | life_expectancy_years\n",
       "afg  | 1800 | 28.21\n",
       "afg  | 1801 | 28.2\n",
       "afg  | 1802 | 28.19\n",
       "afg  | 1803 | 28.18\n",
       "afg  | 1804 | 28.17\n",
       "afg  | 1805 | 28.16\n",
       "afg  | 1806 | 28.15\n",
       "afg  | 1807 | 28.14\n",
       "afg  | 1808 | 28.13\n",
       "afg  | 1809 | 28.12\n",
       "... (43847 rows omitted)"
      ]
     },
     "execution_count": 14,
     "metadata": {},
     "output_type": "execute_result"
    }
   ],
   "source": [
    "life_expectancy"
   ]
  },
  {
   "cell_type": "code",
   "execution_count": 15,
   "metadata": {},
   "outputs": [
    {
     "data": {
      "text/html": [
       "<table border=\"1\" class=\"dataframe\">\n",
       "    <thead>\n",
       "        <tr>\n",
       "            <th>geo</th> <th>time</th> <th>child_mortality_under_5_per_1000_born</th>\n",
       "        </tr>\n",
       "    </thead>\n",
       "    <tbody>\n",
       "        <tr>\n",
       "            <td>afg </td> <td>1800</td> <td>468.6                                </td>\n",
       "        </tr>\n",
       "        <tr>\n",
       "            <td>afg </td> <td>1801</td> <td>468.6                                </td>\n",
       "        </tr>\n",
       "        <tr>\n",
       "            <td>afg </td> <td>1802</td> <td>468.6                                </td>\n",
       "        </tr>\n",
       "        <tr>\n",
       "            <td>afg </td> <td>1803</td> <td>468.6                                </td>\n",
       "        </tr>\n",
       "        <tr>\n",
       "            <td>afg </td> <td>1804</td> <td>468.6                                </td>\n",
       "        </tr>\n",
       "        <tr>\n",
       "            <td>afg </td> <td>1805</td> <td>468.6                                </td>\n",
       "        </tr>\n",
       "        <tr>\n",
       "            <td>afg </td> <td>1806</td> <td>470                                  </td>\n",
       "        </tr>\n",
       "        <tr>\n",
       "            <td>afg </td> <td>1807</td> <td>470                                  </td>\n",
       "        </tr>\n",
       "        <tr>\n",
       "            <td>afg </td> <td>1808</td> <td>470                                  </td>\n",
       "        </tr>\n",
       "        <tr>\n",
       "            <td>afg </td> <td>1809</td> <td>470                                  </td>\n",
       "        </tr>\n",
       "    </tbody>\n",
       "</table>\n",
       "<p>... (40746 rows omitted)</p>"
      ],
      "text/plain": [
       "geo  | time | child_mortality_under_5_per_1000_born\n",
       "afg  | 1800 | 468.6\n",
       "afg  | 1801 | 468.6\n",
       "afg  | 1802 | 468.6\n",
       "afg  | 1803 | 468.6\n",
       "afg  | 1804 | 468.6\n",
       "afg  | 1805 | 468.6\n",
       "afg  | 1806 | 470\n",
       "afg  | 1807 | 470\n",
       "afg  | 1808 | 470\n",
       "afg  | 1809 | 470\n",
       "... (40746 rows omitted)"
      ]
     },
     "execution_count": 15,
     "metadata": {},
     "output_type": "execute_result"
    }
   ],
   "source": [
    "child_mortality"
   ]
  },
  {
   "cell_type": "code",
   "execution_count": 18,
   "metadata": {},
   "outputs": [
    {
     "data": {
      "text/html": [
       "<table border=\"1\" class=\"dataframe\">\n",
       "    <thead>\n",
       "        <tr>\n",
       "            <th>geo</th> <th>time</th> <th>children_per_woman_total_fertility</th>\n",
       "        </tr>\n",
       "    </thead>\n",
       "    <tbody>\n",
       "        <tr>\n",
       "            <td>afg </td> <td>1800</td> <td>7                                 </td>\n",
       "        </tr>\n",
       "        <tr>\n",
       "            <td>afg </td> <td>1801</td> <td>7                                 </td>\n",
       "        </tr>\n",
       "        <tr>\n",
       "            <td>afg </td> <td>1802</td> <td>7                                 </td>\n",
       "        </tr>\n",
       "        <tr>\n",
       "            <td>afg </td> <td>1803</td> <td>7                                 </td>\n",
       "        </tr>\n",
       "        <tr>\n",
       "            <td>afg </td> <td>1804</td> <td>7                                 </td>\n",
       "        </tr>\n",
       "        <tr>\n",
       "            <td>afg </td> <td>1805</td> <td>7                                 </td>\n",
       "        </tr>\n",
       "        <tr>\n",
       "            <td>afg </td> <td>1806</td> <td>7                                 </td>\n",
       "        </tr>\n",
       "        <tr>\n",
       "            <td>afg </td> <td>1807</td> <td>7                                 </td>\n",
       "        </tr>\n",
       "        <tr>\n",
       "            <td>afg </td> <td>1808</td> <td>7                                 </td>\n",
       "        </tr>\n",
       "        <tr>\n",
       "            <td>afg </td> <td>1809</td> <td>7                                 </td>\n",
       "        </tr>\n",
       "    </tbody>\n",
       "</table>\n",
       "<p>... (43402 rows omitted)</p>"
      ],
      "text/plain": [
       "geo  | time | children_per_woman_total_fertility\n",
       "afg  | 1800 | 7\n",
       "afg  | 1801 | 7\n",
       "afg  | 1802 | 7\n",
       "afg  | 1803 | 7\n",
       "afg  | 1804 | 7\n",
       "afg  | 1805 | 7\n",
       "afg  | 1806 | 7\n",
       "afg  | 1807 | 7\n",
       "afg  | 1808 | 7\n",
       "afg  | 1809 | 7\n",
       "... (43402 rows omitted)"
      ]
     },
     "execution_count": 18,
     "metadata": {},
     "output_type": "execute_result"
    }
   ],
   "source": [
    "fertility"
   ]
  },
  {
   "cell_type": "markdown",
   "metadata": {
    "deletable": false,
    "editable": false
   },
   "source": [
    "**Question 3.** Perhaps population is growing more slowly because people aren't living as long. Use the `life_expectancy` table to draw a line graph with the years 1970 and later on the horizontal axis that shows how the *life expectancy at birth* has changed in Bangladesh.\n",
    "\n",
    "<!--\n",
    "BEGIN QUESTION\n",
    "name: q1_3\n",
    "manual: true\n",
    "-->\n",
    "<!-- EXPORT TO PDF -->"
   ]
  },
  {
   "cell_type": "code",
   "execution_count": 19,
   "metadata": {
    "deletable": false,
    "export_pdf": true,
    "manual_grade": true,
    "manual_problem_id": "global_pop_3"
   },
   "outputs": [
    {
     "data": {
      "image/png": "[encoded data removed]",
      "text/plain": [
       "<Figure size 432x432 with 1 Axes>"
      ]
     },
     "metadata": {},
     "output_type": "display_data"
    }
   ],
   "source": [
    "life_expectancy_filtered= life_expectancy.where('geo', are.equal_to('bgd')).sort('time', descending= False).where('time', are.above(1969))\n",
    "#life_expectancy_filtered\n",
    "life_expectancy_filtered.plot('time','life_expectancy_years')"
   ]
  },
  {
   "cell_type": "markdown",
   "metadata": {
    "deletable": false,
    "editable": false
   },
   "source": [
    "**Question 4.** Assuming everything else stays the same, do the trends in life expectancy in the graph above directly explain why the population growth rate decreased from 1985 to 2010 in Bangladesh? Why or why not? \n",
    "\n",
    "Hint: What happened in Bangladesh in 1991, and does that event explain the overall change in population growth rate?\n",
    "\n",
    "<!--\n",
    "BEGIN QUESTION\n",
    "name: q1_4\n",
    "manual: true\n",
    "-->\n",
    "<!-- EXPORT TO PDF -->"
   ]
  },
  {
   "cell_type": "markdown",
   "metadata": {
    "collapsed": true,
    "deletable": false,
    "export_pdf": true,
    "manual_grade": true,
    "manual_problem_id": "global_pop_4"
   },
   "source": [
    "Considering the cyclone that took place the year of 1991 in Bangladesh and erraditaced at least 138,866 people, leaving as many as 10 million homeless; the event itself had a direct effect in population growth given it affected the total population and the predictions of population growth rate. However, it is not suffient evidence to conclude that a single factor could have affected the population growth rate in 25 year interval."
   ]
  },
  {
   "cell_type": "markdown",
   "metadata": {
    "deletable": false,
    "editable": false
   },
   "source": [
    "The `fertility` table contains a statistic that is often used to measure how many babies are being born, the *total fertility rate*. This number describes the [number of children a woman would have in her lifetime](https://www.measureevaluation.org/prh/rh_indicators/specific/fertility/total-fertility-rate), on average, if the current rates of birth by age of the mother persisted throughout her child bearing years, assuming she survived through age 49. "
   ]
  },
  {
   "cell_type": "markdown",
   "metadata": {
    "deletable": false,
    "editable": false
   },
   "source": [
    "**Question 5.** Write a function `fertility_over_time` that takes the Alpha-3 code of a `country` and a `start` year. It returns a two-column table with labels `Year` and `Children per woman` that can be used to generate a line chart of the country's fertility rate each year, starting at the `start` year. The plot should include the `start` year and all later years that appear in the `fertility` table. \n",
    "\n",
    "Then, in the next cell, call your `fertility_over_time` function on the Alpha-3 code for Bangladesh and the year 1970 in order to plot how Bangladesh's fertility rate has changed since 1970. Note that the function `fertility_over_time` should not return the plot itself. **The expression that draws the line plot is provided for you; please don't change it.**\n",
    "\n",
    "<!--\n",
    "BEGIN QUESTION\n",
    "name: q1_5\n",
    "-->"
   ]
  },
  {
   "cell_type": "code",
   "execution_count": 20,
   "metadata": {
    "deletable": false
   },
   "outputs": [
    {
     "data": {
      "image/png": "[encoded data removed]",
      "text/plain": [
       "<Figure size 432x432 with 1 Axes>"
      ]
     },
     "metadata": {},
     "output_type": "display_data"
    }
   ],
   "source": [
    "def fertility_over_time(country, start):\n",
    "    \"\"\"Create a two-column table that describes a country's total fertility rate each year.\"\"\"\n",
    "    year = np.arange(start, 2016)\n",
    "    country_fertility = fertility.sort('time', descending= False).where('time', are.contained_in(year)).where('geo', are.equal_to(country))\n",
    "    country_fertility_after_start = country_fertility.drop('geo')\n",
    "    cleaned_table = country_fertility_after_start.relabel('time','Year').relabel('children_per_woman_total_fertility','Children per woman')\n",
    "    return cleaned_table\n",
    "\n",
    "bangladesh_code = 'bgd'\n",
    "fertility_over_time(bangladesh_code, 1970).plot(0, 1) # You should *not* change this line."
   ]
  },
  {
   "cell_type": "code",
   "execution_count": 21,
   "metadata": {
    "deletable": false,
    "editable": false
   },
   "outputs": [
    {
     "name": "stdout",
     "output_type": "stream",
     "text": [
      "~~~~~~~~~~~~~~~~~~~~~~~~~~~~~~~~~~~~~~~~~~~~~~~~~~~~~~~~~~~~~~~~~~~~~\n",
      "Running tests\n",
      "\n",
      "---------------------------------------------------------------------\n",
      "Test summary\n",
      "    Passed: 3\n",
      "    Failed: 0\n",
      "[ooooooooook] 100.0% passed\n",
      "\n"
     ]
    }
   ],
   "source": [
    "ok.grade(\"q1_5\");"
   ]
  },
  {
   "cell_type": "markdown",
   "metadata": {
    "deletable": false,
    "editable": false
   },
   "source": [
    "**Question 6.** Assuming everything else is constant, do the trends in fertility in the graph above help directly explain why the population growth rate decreased from 1985 to 2010 in Bangladesh? Why or why not?\n",
    "\n",
    "<!--\n",
    "BEGIN QUESTION\n",
    "name: q1_6\n",
    "manual: true\n",
    "-->\n",
    "<!-- EXPORT TO PDF -->"
   ]
  },
  {
   "cell_type": "markdown",
   "metadata": {
    "deletable": false,
    "export_pdf": true,
    "manual_grade": true,
    "manual_problem_id": "global_pop_6"
   },
   "source": [
    "According to the graph displayed above, the data shows women are having less children by the year, therefore having a correlation with population growth decrease.\n"
   ]
  },
  {
   "cell_type": "markdown",
   "metadata": {
    "deletable": false,
    "editable": false
   },
   "source": [
    "It has been observed that lower fertility rates are often associated with lower child mortality rates. The link has been attributed to family planning: if parents can expect that their children will all survive into adulthood, then they will choose to have fewer children. We can see if this association is evident in Bangladesh by plotting the relationship between total fertility rate and [child mortality rate per 1000 children](https://en.wikipedia.org/wiki/Child_mortality)."
   ]
  },
  {
   "cell_type": "markdown",
   "metadata": {
    "deletable": false,
    "editable": false
   },
   "source": [
    "**Question 7.** Using both the `fertility` and `child_mortality` tables, draw a scatter diagram that has Bangladesh's total fertility on the horizontal axis and its child mortality on the vertical axis with one point for each year, starting with 1970.\n",
    "\n",
    "**The expression that draws the scatter diagram is provided for you; please don't change it.** Instead, create a table called `post_1969_fertility_and_child_mortality` with the appropriate column labels and data in order to generate the chart correctly. Use the label `Children per woman` to describe total fertility and the label `Child deaths per 1000 born` to describe child mortality.\n",
    "\n",
    "<!--\n",
    "BEGIN QUESTION\n",
    "name: q1_7\n",
    "manual: false\n",
    "-->"
   ]
  },
  {
   "cell_type": "code",
   "execution_count": 22,
   "metadata": {
    "deletable": false
   },
   "outputs": [
    {
     "data": {
      "image/png": "[encoded data removed]",
      "text/plain": [
       "<Figure size 360x360 with 1 Axes>"
      ]
     },
     "metadata": {},
     "output_type": "display_data"
    }
   ],
   "source": [
    "bgd_fertility = fertility.where('geo', are.equal_to('bgd')).sort('time', descending= False).where('time', are.above(1969))\n",
    "bgd_child_mortality = child_mortality.where('geo', are.equal_to('bgd')).sort('time', descending= False).where('time', are.above(1969))\n",
    "fertility_and_child_mortality = bgd_fertility.join('time',bgd_child_mortality, 'time').drop('geo').drop('geo_2')\n",
    "post_1969_fertility_and_child_mortality = fertility_and_child_mortality.relabel('children_per_woman_total_fertility',\"Children per woman\").relabel('child_mortality_under_5_per_1000_born','Child deaths per 1000 born')\n",
    "#fertility_and_child_mortality\n",
    "post_1969_fertility_and_child_mortality.scatter(\"Children per woman\", 'Child deaths per 1000 born') # You should *not* change this line."
   ]
  },
  {
   "cell_type": "code",
   "execution_count": 23,
   "metadata": {
    "deletable": false,
    "editable": false
   },
   "outputs": [
    {
     "name": "stdout",
     "output_type": "stream",
     "text": [
      "~~~~~~~~~~~~~~~~~~~~~~~~~~~~~~~~~~~~~~~~~~~~~~~~~~~~~~~~~~~~~~~~~~~~~\n",
      "Running tests\n",
      "\n",
      "---------------------------------------------------------------------\n",
      "Test summary\n",
      "    Passed: 2\n",
      "    Failed: 0\n",
      "[ooooooooook] 100.0% passed\n",
      "\n"
     ]
    }
   ],
   "source": [
    "ok.grade(\"q1_7\");"
   ]
  },
  {
   "cell_type": "markdown",
   "metadata": {
    "deletable": false,
    "editable": false
   },
   "source": [
    "**Question 8.** In one or two sentences, describe the association (if any) that is illustrated by this scatter diagram. Does the diagram show that reduced child mortality causes parents to choose to have fewer children?\n",
    "\n",
    "<!--\n",
    "BEGIN QUESTION\n",
    "name: q1_8\n",
    "manual: true\n",
    "-->\n",
    "<!-- EXPORT TO PDF -->"
   ]
  },
  {
   "cell_type": "markdown",
   "metadata": {
    "deletable": false,
    "export_pdf": true,
    "manual_grade": true,
    "manual_problem_id": "global_pop_8"
   },
   "source": [
    "The relation between children per woman and child deaths per 1000 born have a positive association. Meaning it directly correlates with the fact that the more children a woman decides to have, it is more likely for some of the children to not survive or live until adulthood.\n"
   ]
  },
  {
   "cell_type": "markdown",
   "metadata": {},
   "source": [
    "### Checkpoint (due Friday 9/27)\n",
    "#### Congratulations, you have reached the checkpoint! Run the submit cell below to generate the checkpoint submission."
   ]
  },
  {
   "cell_type": "code",
   "execution_count": 24,
   "metadata": {},
   "outputs": [
    {
     "data": {
      "application/javascript": [
       "IPython.notebook.save_checkpoint();"
      ],
      "text/plain": [
       "<IPython.core.display.Javascript object>"
      ]
     },
     "metadata": {},
     "output_type": "display_data"
    },
    {
     "data": {
      "application/javascript": [
       "IPython.notebook.save_notebook();"
      ],
      "text/plain": [
       "<IPython.core.display.Javascript object>"
      ]
     },
     "metadata": {},
     "output_type": "display_data"
    },
    {
     "name": "stdout",
     "output_type": "stream",
     "text": [
      "Saving notebook... Saved 'project1.ipynb'.\n",
      "Submit... 0.0% complete\n",
      "Could not submit: Late Submission of cal/data8/fa19/project1\n",
      "Backup... 100% complete\n",
      "Backup past deadline by 742 days, 13 hours, 25 minutes, and 39 seconds\n",
      "\n"
     ]
    }
   ],
   "source": [
    "_ = ok.submit()"
   ]
  },
  {
   "cell_type": "markdown",
   "metadata": {
    "deletable": false,
    "editable": false
   },
   "source": [
    "### The World\n",
    "\n",
    "The change observed in Bangladesh since 1970 can also be observed in many other developing countries: health services improve, life expectancy increases, and child mortality decreases. At the same time, the fertility rate often plummets, and so the population growth rate decreases despite increasing longevity."
   ]
  },
  {
   "cell_type": "markdown",
   "metadata": {
    "deletable": false,
    "editable": false
   },
   "source": [
    "Run the cell below to generate two overlaid histograms, one for 1960 and one for 2010, that show the distributions of total fertility rates for these two years among all 201 countries in the `fertility` table."
   ]
  },
  {
   "cell_type": "code",
   "execution_count": 25,
   "metadata": {
    "deletable": false
   },
   "outputs": [
    {
     "data": {
      "image/png": "[encoded data removed]",
      "text/plain": [
       "<Figure size 432x288 with 1 Axes>"
      ]
     },
     "metadata": {},
     "output_type": "display_data"
    }
   ],
   "source": [
    "Table().with_columns(\n",
    "    '1960', fertility.where('time', 1960).column(2),\n",
    "    '2010', fertility.where('time', 2010).column(2)\n",
    ").hist(bins=np.arange(0, 10, 0.5), unit='child per woman')\n",
    "_ = plots.xlabel('Children per woman')\n",
    "_ = plots.ylabel('Percent per children per woman')\n",
    "_ = plots.xticks(np.arange(10))"
   ]
  },
  {
   "cell_type": "markdown",
   "metadata": {
    "deletable": false,
    "editable": false
   },
   "source": [
    "**Question 9.** Assign `fertility_statements` to an array of the numbers of each statement below that can be correctly inferred from these histograms.\n",
    "1. About the same number of countries had a fertility rate between 3.5 and 4.5 in both 1960 and 2010.\n",
    "1. In 2010, about 40% of countries had a fertility rate between 1.5 and 2.\n",
    "1. In 1960, less than 20% of countries had a fertility rate below 3.\n",
    "1. More countries had a fertility rate above 3 in 1960 than in 2010.\n",
    "1. At least half of countries had a fertility rate between 5 and 8 in 1960.\n",
    "1. At least half of countries had a fertility rate below 3 in 2010.\n",
    "\n",
    "<!--\n",
    "BEGIN QUESTION\n",
    "name: q1_9\n",
    "-->"
   ]
  },
  {
   "cell_type": "code",
   "execution_count": 26,
   "metadata": {
    "deletable": false
   },
   "outputs": [],
   "source": [
    "fertility_statements = make_array(1,3,4,5,6)"
   ]
  },
  {
   "cell_type": "code",
   "execution_count": 230,
   "metadata": {
    "deletable": false,
    "editable": false
   },
   "outputs": [
    {
     "name": "stdout",
     "output_type": "stream",
     "text": [
      "~~~~~~~~~~~~~~~~~~~~~~~~~~~~~~~~~~~~~~~~~~~~~~~~~~~~~~~~~~~~~~~~~~~~~\n",
      "Running tests\n",
      "\n",
      "---------------------------------------------------------------------\n",
      "Test summary\n",
      "    Passed: 1\n",
      "    Failed: 0\n",
      "[ooooooooook] 100.0% passed\n",
      "\n"
     ]
    }
   ],
   "source": [
    "ok.grade(\"q1_9\");"
   ]
  },
  {
   "cell_type": "markdown",
   "metadata": {
    "deletable": false,
    "editable": false
   },
   "source": [
    "**Question 10.** Draw a line plot of the world population from 1800 through 2005. The world population is the sum of all the country's populations. \n",
    "\n",
    "<!--\n",
    "BEGIN QUESTION\n",
    "name: q1_10\n",
    "manual: true\n",
    "-->\n",
    "<!-- EXPORT TO PDF -->"
   ]
  },
  {
   "cell_type": "code",
   "execution_count": 27,
   "metadata": {
    "deletable": false,
    "export_pdf": true,
    "manual_grade": true,
    "manual_problem_id": "global_pop_10"
   },
   "outputs": [
    {
     "data": {
      "image/png": "[encoded data removed]",
      "text/plain": [
       "<Figure size 432x432 with 1 Axes>"
      ]
     },
     "metadata": {},
     "output_type": "display_data"
    }
   ],
   "source": [
    "total = population.where('time', are.between(1800,2006)).group('time',sum)\n",
    "total.plot('time', 'population_total sum')"
   ]
  },
  {
   "cell_type": "markdown",
   "metadata": {
    "deletable": false,
    "editable": false
   },
   "source": [
    "**Question 11.** Create a function `stats_for_year` that takes a `year` and returns a table of statistics. The table it returns should have four columns: `geo`, `population_total`, `children_per_woman_total_fertility`, and `child_mortality_under_5_per_1000_born`. Each row should contain one Alpha-3 country code and three statistics: population, fertility rate, and child mortality for that `year` from the `population`, `fertility` and `child_mortality` tables. Only include rows for which all three statistics are available for the country and year.\n",
    "\n",
    "In addition, restrict the result to country codes that appears in `big_50`, an array of the 50 most populous countries in 2010. This restriction will speed up computations later in the project.\n",
    "\n",
    "After you write `stats_for_year`, try calling `stats_for_year` on any year between 1960 and 2010. Try to understand the output of stats_for_year.\n",
    "\n",
    "*Hint*: The tests for this question are quite comprehensive, so if you pass the tests, your function is probably correct. However, without calling your function yourself and looking at the output, it will be very difficult to understand any problems you have, so try your best to write the function correctly and check that it works before you rely on the `ok` tests to confirm your work.\n",
    "\n",
    "<!--\n",
    "BEGIN QUESTION\n",
    "name: q1_11\n",
    "manual: false\n",
    "-->"
   ]
  },
  {
   "cell_type": "code",
   "execution_count": null,
   "metadata": {},
   "outputs": [],
   "source": []
  },
  {
   "cell_type": "code",
   "execution_count": 232,
   "metadata": {
    "deletable": false
   },
   "outputs": [
    {
     "data": {
      "text/html": [
       "<table border=\"1\" class=\"dataframe\">\n",
       "    <thead>\n",
       "        <tr>\n",
       "            <th>geo</th> <th>population_total</th> <th>children_per_woman_total_fertility</th> <th>child_mortality_under_5_per_1000_born</th>\n",
       "        </tr>\n",
       "    </thead>\n",
       "    <tbody>\n",
       "        <tr>\n",
       "            <td>afg </td> <td>11375768        </td> <td>7.68                              </td> <td>195                                  </td>\n",
       "        </tr>\n",
       "        <tr>\n",
       "            <td>arg </td> <td>31795515        </td> <td>3.04                              </td> <td>29.7                                 </td>\n",
       "        </tr>\n",
       "        <tr>\n",
       "            <td>bgd </td> <td>100779551       </td> <td>4.93                              </td> <td>155.8                                </td>\n",
       "        </tr>\n",
       "        <tr>\n",
       "            <td>bra </td> <td>145150468       </td> <td>3.04                              </td> <td>66.3                                 </td>\n",
       "        </tr>\n",
       "        <tr>\n",
       "            <td>can </td> <td>26919036        </td> <td>1.6                               </td> <td>8.8                                  </td>\n",
       "        </tr>\n",
       "        <tr>\n",
       "            <td>chn </td> <td>1114162025      </td> <td>2.63                              </td> <td>53.9                                 </td>\n",
       "        </tr>\n",
       "        <tr>\n",
       "            <td>cod </td> <td>32688708        </td> <td>7.02                              </td> <td>190.8                                </td>\n",
       "        </tr>\n",
       "        <tr>\n",
       "            <td>col </td> <td>32975533        </td> <td>3.21                              </td> <td>37.4                                 </td>\n",
       "        </tr>\n",
       "        <tr>\n",
       "            <td>deu </td> <td>78146938        </td> <td>1.41                              </td> <td>9.5                                  </td>\n",
       "        </tr>\n",
       "        <tr>\n",
       "            <td>dza </td> <td>24591493        </td> <td>5.26                              </td> <td>51.2                                 </td>\n",
       "        </tr>\n",
       "    </tbody>\n",
       "</table>\n",
       "<p>... (40 rows omitted)</p>"
      ],
      "text/plain": [
       "geo  | population_total | children_per_woman_total_fertility | child_mortality_under_5_per_1000_born\n",
       "afg  | 11375768         | 7.68                               | 195\n",
       "arg  | 31795515         | 3.04                               | 29.7\n",
       "bgd  | 100779551        | 4.93                               | 155.8\n",
       "bra  | 145150468        | 3.04                               | 66.3\n",
       "can  | 26919036         | 1.6                                | 8.8\n",
       "chn  | 1114162025       | 2.63                               | 53.9\n",
       "cod  | 32688708         | 7.02                               | 190.8\n",
       "col  | 32975533         | 3.21                               | 37.4\n",
       "deu  | 78146938         | 1.41                               | 9.5\n",
       "dza  | 24591493         | 5.26                               | 51.2\n",
       "... (40 rows omitted)"
      ]
     },
     "execution_count": 232,
     "metadata": {},
     "output_type": "execute_result"
    }
   ],
   "source": [
    "# We first create a population table that only includes the \n",
    "# 50 countries with the largest 2010 populations. We focus on \n",
    "# these 50 countries only so that plotting later will run faster.\n",
    "big_50 = population.where('time', are.equal_to(2010)).sort(\"population_total\", descending=True).take(np.arange(50)).column('geo')\n",
    "population_of_big_50 = population.where('time', are.above(1959)).where('geo', are.contained_in(big_50))\n",
    "\n",
    "def stats_for_year(year):\n",
    "    \"\"\"Return a table of the stats for each country that year.\"\"\"\n",
    "    p = population_of_big_50.where('time', are.equal_to(year)).drop('time')\n",
    "    f = fertility.where('time', are.equal_to(year)).drop('time')\n",
    "    c = child_mortality.where('time', are.equal_to(year)).drop('time')\n",
    "    #g = population_of_big_50.where('time', are.equal_to(year)).select('geo')\n",
    "    return p.join('geo',f).join('geo',c)\n",
    "#Table().with_columns('population_total', p, 'children_per_woman_total_fertility', f,'child_mortality_under_5_per_1000_born', c)\n",
    "\n",
    "stats_for_year(1988)"
   ]
  },
  {
   "cell_type": "code",
   "execution_count": 233,
   "metadata": {
    "deletable": false,
    "editable": false
   },
   "outputs": [
    {
     "name": "stdout",
     "output_type": "stream",
     "text": [
      "~~~~~~~~~~~~~~~~~~~~~~~~~~~~~~~~~~~~~~~~~~~~~~~~~~~~~~~~~~~~~~~~~~~~~\n",
      "Running tests\n",
      "\n",
      "---------------------------------------------------------------------\n",
      "Test summary\n",
      "    Passed: 4\n",
      "    Failed: 0\n",
      "[ooooooooook] 100.0% passed\n",
      "\n"
     ]
    }
   ],
   "source": [
    "ok.grade(\"q1_11\");"
   ]
  },
  {
   "cell_type": "markdown",
   "metadata": {
    "deletable": false,
    "editable": false
   },
   "source": [
    "**Question 12.** Create a table called `pop_by_decade` with two columns called `decade` and `population`. It has a row for each `year` since 1960 that starts a decade. The `population` column contains the total population of all countries included in the result of `stats_for_year(year)` for the first `year` of the decade. For example, 1960 is the first year of the 1960's decade. You should see that these countries contain most of the world's population.\n",
    "\n",
    "*Hint:* One approach is to define a function `pop_for_year` that computes this total population, then `apply` it to the `decade` column.  The `stats_for_year` function from the previous question may be useful here.\n",
    "\n",
    "This first test is just a sanity check for your helper function if you choose to use it. You will not lose points for not implementing the function `pop_for_year`.\n",
    "\n",
    "**Note:** The cell where you will generate the `pop_by_decade` table is below the cell where you can choose to define the helper function `pop_for_year`. You should define your `pop_by_decade` table in the cell that starts with the table `decades` being defined. \n",
    "\n",
    "<!--\n",
    "BEGIN QUESTION\n",
    "name: q1_12_0\n",
    "manual: false\n",
    "points: 0\n",
    "-->"
   ]
  },
  {
   "cell_type": "code",
   "execution_count": 234,
   "metadata": {},
   "outputs": [],
   "source": [
    "#sum(population_of_big_50.where('time', are.equal_to(1972)).column('population_total'))\n",
    "#pop_for_year(1972)"
   ]
  },
  {
   "cell_type": "code",
   "execution_count": 235,
   "metadata": {},
   "outputs": [],
   "source": [
    "def pop_for_year(year):\n",
    "    return sum(population_of_big_50.where('time', are.equal_to(year)).column('population_total'))\n"
   ]
  },
  {
   "cell_type": "code",
   "execution_count": 236,
   "metadata": {
    "deletable": false,
    "editable": false
   },
   "outputs": [
    {
     "name": "stdout",
     "output_type": "stream",
     "text": [
      "~~~~~~~~~~~~~~~~~~~~~~~~~~~~~~~~~~~~~~~~~~~~~~~~~~~~~~~~~~~~~~~~~~~~~\n",
      "Running tests\n",
      "\n",
      "---------------------------------------------------------------------\n",
      "Test summary\n",
      "    Passed: 3\n",
      "    Failed: 0\n",
      "[ooooooooook] 100.0% passed\n",
      "\n"
     ]
    }
   ],
   "source": [
    "ok.grade(\"q1_12_0\");"
   ]
  },
  {
   "cell_type": "markdown",
   "metadata": {
    "deletable": false,
    "editable": false
   },
   "source": [
    "Now that you've defined your helper function (if you've chosen to do so), define the `pop_by_decade` table.\n",
    "\n",
    "<!--\n",
    "BEGIN QUESTION\n",
    "name: q1_12\n",
    "manual: false\n",
    "-->"
   ]
  },
  {
   "cell_type": "code",
   "execution_count": 237,
   "metadata": {
    "deletable": false
   },
   "outputs": [
    {
     "data": {
      "text/html": [
       "<table border=\"1\" class=\"dataframe\">\n",
       "    <thead>\n",
       "        <tr>\n",
       "            <th>decade</th> <th>population</th>\n",
       "        </tr>\n",
       "    </thead>\n",
       "    <tbody>\n",
       "        <tr>\n",
       "            <td>1960  </td> <td>2,624,944,597</td>\n",
       "        </tr>\n",
       "        <tr>\n",
       "            <td>1970  </td> <td>3,211,487,418</td>\n",
       "        </tr>\n",
       "        <tr>\n",
       "            <td>1980  </td> <td>3,880,722,003</td>\n",
       "        </tr>\n",
       "        <tr>\n",
       "            <td>1990  </td> <td>4,648,434,558</td>\n",
       "        </tr>\n",
       "        <tr>\n",
       "            <td>2000  </td> <td>5,367,553,063</td>\n",
       "        </tr>\n",
       "        <tr>\n",
       "            <td>2010  </td> <td>6,040,810,517</td>\n",
       "        </tr>\n",
       "    </tbody>\n",
       "</table>"
      ],
      "text/plain": [
       "decade | population\n",
       "1960   | 2,624,944,597\n",
       "1970   | 3,211,487,418\n",
       "1980   | 3,880,722,003\n",
       "1990   | 4,648,434,558\n",
       "2000   | 5,367,553,063\n",
       "2010   | 6,040,810,517"
      ]
     },
     "execution_count": 237,
     "metadata": {},
     "output_type": "execute_result"
    }
   ],
   "source": [
    "decades = Table().with_column('decade', np.arange(1960, 2011, 10))\n",
    "tot_pop = decades.apply(pop_for_year)\n",
    "pop_by_decade = decades.with_column('population', tot_pop)\n",
    "pop_by_decade.set_format(1, NumberFormatter)"
   ]
  },
  {
   "cell_type": "code",
   "execution_count": 238,
   "metadata": {
    "deletable": false,
    "editable": false
   },
   "outputs": [
    {
     "name": "stdout",
     "output_type": "stream",
     "text": [
      "~~~~~~~~~~~~~~~~~~~~~~~~~~~~~~~~~~~~~~~~~~~~~~~~~~~~~~~~~~~~~~~~~~~~~\n",
      "Running tests\n",
      "\n",
      "---------------------------------------------------------------------\n",
      "Test summary\n",
      "    Passed: 2\n",
      "    Failed: 0\n",
      "[ooooooooook] 100.0% passed\n",
      "\n"
     ]
    }
   ],
   "source": [
    "ok.grade(\"q1_12\");"
   ]
  },
  {
   "cell_type": "markdown",
   "metadata": {
    "deletable": false,
    "editable": false
   },
   "source": [
    "The `countries` table describes various characteristics of countries. The `country` column contains the same codes as the `geo` column in each of the other data tables (`population`, `fertility`, and `child_mortality`). The `world_6region` column classifies each country into a region of the world. Run the cell below to inspect the data."
   ]
  },
  {
   "cell_type": "code",
   "execution_count": 239,
   "metadata": {},
   "outputs": [
    {
     "data": {
      "text/html": [
       "<table border=\"1\" class=\"dataframe\">\n",
       "    <thead>\n",
       "        <tr>\n",
       "            <th>country</th> <th>name</th> <th>world_6region</th>\n",
       "        </tr>\n",
       "    </thead>\n",
       "    <tbody>\n",
       "        <tr>\n",
       "            <td>afg      </td> <td>Afghanistan          </td> <td>south_asia              </td>\n",
       "        </tr>\n",
       "        <tr>\n",
       "            <td>akr_a_dhe</td> <td>Akrotiri and Dhekelia</td> <td>europe_central_asia     </td>\n",
       "        </tr>\n",
       "        <tr>\n",
       "            <td>alb      </td> <td>Albania              </td> <td>europe_central_asia     </td>\n",
       "        </tr>\n",
       "        <tr>\n",
       "            <td>dza      </td> <td>Algeria              </td> <td>middle_east_north_africa</td>\n",
       "        </tr>\n",
       "        <tr>\n",
       "            <td>asm      </td> <td>American Samoa       </td> <td>east_asia_pacific       </td>\n",
       "        </tr>\n",
       "        <tr>\n",
       "            <td>and      </td> <td>Andorra              </td> <td>europe_central_asia     </td>\n",
       "        </tr>\n",
       "        <tr>\n",
       "            <td>ago      </td> <td>Angola               </td> <td>sub_saharan_africa      </td>\n",
       "        </tr>\n",
       "        <tr>\n",
       "            <td>aia      </td> <td>Anguilla             </td> <td>america                 </td>\n",
       "        </tr>\n",
       "        <tr>\n",
       "            <td>atg      </td> <td>Antigua and Barbuda  </td> <td>america                 </td>\n",
       "        </tr>\n",
       "        <tr>\n",
       "            <td>arg      </td> <td>Argentina            </td> <td>america                 </td>\n",
       "        </tr>\n",
       "    </tbody>\n",
       "</table>\n",
       "<p>... (245 rows omitted)</p>"
      ],
      "text/plain": [
       "country   | name                  | world_6region\n",
       "afg       | Afghanistan           | south_asia\n",
       "akr_a_dhe | Akrotiri and Dhekelia | europe_central_asia\n",
       "alb       | Albania               | europe_central_asia\n",
       "dza       | Algeria               | middle_east_north_africa\n",
       "asm       | American Samoa        | east_asia_pacific\n",
       "and       | Andorra               | europe_central_asia\n",
       "ago       | Angola                | sub_saharan_africa\n",
       "aia       | Anguilla              | america\n",
       "atg       | Antigua and Barbuda   | america\n",
       "arg       | Argentina             | america\n",
       "... (245 rows omitted)"
      ]
     },
     "execution_count": 239,
     "metadata": {},
     "output_type": "execute_result"
    }
   ],
   "source": [
    "countries = Table.read_table('countries.csv').where('country', are.contained_in(population.group('geo').column('geo')))\n",
    "countries_cleaned = countries.select('country', 'name', 'world_6region')\n",
    "countries_cleaned"
   ]
  },
  {
   "cell_type": "code",
   "execution_count": null,
   "metadata": {},
   "outputs": [],
   "source": []
  },
  {
   "cell_type": "markdown",
   "metadata": {
    "deletable": false,
    "editable": false
   },
   "source": [
    "**Question 13.** Create a table called `region_counts` that has two columns, `region` and `count`. It should contain two columns: a region column and a count column that contains the number of countries in each region that appear in the result of `stats_for_year(1960)`. For example, one row would have `south_asia` as its `world_6region` value and an integer as its `count` value: the number of large South Asian countries for which we have population, fertility, and child mortality numbers from 1960.\n",
    "\n",
    "<!--\n",
    "BEGIN QUESTION\n",
    "name: q1_13\n",
    "-->"
   ]
  },
  {
   "cell_type": "code",
   "execution_count": 240,
   "metadata": {
    "deletable": false
   },
   "outputs": [
    {
     "data": {
      "text/html": [
       "<table border=\"1\" class=\"dataframe\">\n",
       "    <thead>\n",
       "        <tr>\n",
       "            <th>region</th> <th>count</th>\n",
       "        </tr>\n",
       "    </thead>\n",
       "    <tbody>\n",
       "        <tr>\n",
       "            <td>america                 </td> <td>8    </td>\n",
       "        </tr>\n",
       "        <tr>\n",
       "            <td>east_asia_pacific       </td> <td>10   </td>\n",
       "        </tr>\n",
       "        <tr>\n",
       "            <td>europe_central_asia     </td> <td>10   </td>\n",
       "        </tr>\n",
       "        <tr>\n",
       "            <td>middle_east_north_africa</td> <td>7    </td>\n",
       "        </tr>\n",
       "        <tr>\n",
       "            <td>south_asia              </td> <td>5    </td>\n",
       "        </tr>\n",
       "        <tr>\n",
       "            <td>sub_saharan_africa      </td> <td>10   </td>\n",
       "        </tr>\n",
       "    </tbody>\n",
       "</table>"
      ],
      "text/plain": [
       "region                   | count\n",
       "america                  | 8\n",
       "east_asia_pacific        | 10\n",
       "europe_central_asia      | 10\n",
       "middle_east_north_africa | 7\n",
       "south_asia               | 5\n",
       "sub_saharan_africa       | 10"
      ]
     },
     "execution_count": 240,
     "metadata": {},
     "output_type": "execute_result"
    }
   ],
   "source": [
    "countries_cleaned = countries_cleaned.relabel('country','geo')\n",
    "\n",
    "region_counts = stats_for_year(1960).join('geo',countries_cleaned).relabel('world_6region', 'region')\n",
    "region_counts = region_counts.group('region')\n",
    "region_counts"
   ]
  },
  {
   "cell_type": "code",
   "execution_count": 241,
   "metadata": {
    "deletable": false,
    "editable": false
   },
   "outputs": [
    {
     "name": "stdout",
     "output_type": "stream",
     "text": [
      "~~~~~~~~~~~~~~~~~~~~~~~~~~~~~~~~~~~~~~~~~~~~~~~~~~~~~~~~~~~~~~~~~~~~~\n",
      "Running tests\n",
      "\n",
      "---------------------------------------------------------------------\n",
      "Test summary\n",
      "    Passed: 2\n",
      "    Failed: 0\n",
      "[ooooooooook] 100.0% passed\n",
      "\n"
     ]
    }
   ],
   "source": [
    "ok.grade(\"q1_13\");"
   ]
  },
  {
   "cell_type": "markdown",
   "metadata": {
    "deletable": false,
    "editable": false
   },
   "source": [
    "The following scatter diagram compares total fertility rate and child mortality rate for each country in 1960. The area of each dot represents the population of the country, and the color represents its region of the world. Run the cell. Do you think you can identify any of the dots?"
   ]
  },
  {
   "cell_type": "code",
   "execution_count": 242,
   "metadata": {
    "deletable": false
   },
   "outputs": [
    {
     "data": {
      "image/png": "[encoded data removed]",
      "text/plain": [
       "<Figure size 360x360 with 1 Axes>"
      ]
     },
     "metadata": {},
     "output_type": "display_data"
    }
   ],
   "source": [
    "from functools import lru_cache as cache\n",
    "\n",
    "# This cache annotation makes sure that if the same year\n",
    "# is passed as an argument twice, the work of computing\n",
    "# the result is only carried out once.\n",
    "@cache(None)\n",
    "def stats_relabeled(year):\n",
    "    \"\"\"Relabeled and cached version of stats_for_year.\"\"\"\n",
    "    return stats_for_year(year).relabel(2, 'Children per woman').relabel(3, 'Child deaths per 1000 born')\n",
    "\n",
    "def fertility_vs_child_mortality(year):\n",
    "    \"\"\"Draw a color scatter diagram comparing child mortality and fertility.\"\"\"\n",
    "    with_region = stats_relabeled(year).join('geo', countries.select('country', 'world_6region'), 'country')\n",
    "    with_region.scatter(2, 3, sizes=1, group=4, s=500)\n",
    "    plots.xlim(0,10)\n",
    "    plots.ylim(-50, 500)\n",
    "    plots.title(year)\n",
    "\n",
    "fertility_vs_child_mortality(1960)"
   ]
  },
  {
   "cell_type": "markdown",
   "metadata": {
    "deletable": false,
    "editable": false
   },
   "source": [
    "**Question 14.** Assign `scatter_statements` to an array of the numbers of each statement below that can be inferred from this scatter diagram for 1960. \n",
    "1. As a whole, the `europe_central_asia` region had the lowest child mortality rate.\n",
    "1. The lowest child mortality rate of any country was from an `east_asia_pacific` country.\n",
    "1. Most countries had a fertility rate above 5.\n",
    "1. There was an association between child mortality and fertility.\n",
    "1. The two largest countries by population also had the two highest child mortality rate.\n",
    "\n",
    "<!--\n",
    "BEGIN QUESTION\n",
    "name: q1_14\n",
    "-->"
   ]
  },
  {
   "cell_type": "code",
   "execution_count": 243,
   "metadata": {
    "deletable": false
   },
   "outputs": [],
   "source": [
    "scatter_statements = make_array(1,2,3,4,5)"
   ]
  },
  {
   "cell_type": "code",
   "execution_count": 244,
   "metadata": {
    "deletable": false,
    "editable": false
   },
   "outputs": [
    {
     "name": "stdout",
     "output_type": "stream",
     "text": [
      "~~~~~~~~~~~~~~~~~~~~~~~~~~~~~~~~~~~~~~~~~~~~~~~~~~~~~~~~~~~~~~~~~~~~~\n",
      "Running tests\n",
      "\n",
      "---------------------------------------------------------------------\n",
      "Test summary\n",
      "    Passed: 1\n",
      "    Failed: 0\n",
      "[ooooooooook] 100.0% passed\n",
      "\n"
     ]
    }
   ],
   "source": [
    "ok.grade(\"q1_14\");"
   ]
  },
  {
   "cell_type": "markdown",
   "metadata": {
    "deletable": false
   },
   "source": [
    "The result of the cell below is interactive. Drag the slider to the right to see how countries have changed over time. You'll find that the great divide between so-called \"Western\" and \"developing\" countries that existed in the 1960's has nearly disappeared. This shift in fertility rates is the reason that the global population is expected to grow more slowly in the 21st century than it did in the 19th and 20th centuries.\n",
    "\n",
    "**Note:** Don't worry if a red warning pops up when running the cell below. You'll still be able to run the cell!"
   ]
  },
  {
   "cell_type": "code",
   "execution_count": 245,
   "metadata": {
    "deletable": false,
    "scrolled": false
   },
   "outputs": [
    {
     "name": "stderr",
     "output_type": "stream",
     "text": [
      "/srv/app/venv/lib/python3.6/site-packages/datascience/tables.py:193: FutureWarning: Implicit column method lookup is deprecated.\n",
      "  warnings.warn(\"Implicit column method lookup is deprecated.\", FutureWarning)\n"
     ]
    },
    {
     "data": {
      "application/vnd.jupyter.widget-view+json": {
       "model_id": "a5c37951ae9c40d8a46d41cf37338bb6",
       "version_major": 2,
       "version_minor": 0
      },
      "text/plain": [
       "interactive(children=(IntSlider(value=1960, description='year', max=2015, min=1960), Output()), _dom_classes=(…"
      ]
     },
     "metadata": {},
     "output_type": "display_data"
    }
   ],
   "source": [
    "import ipywidgets as widgets\n",
    "\n",
    "# This part takes a few minutes to run because it \n",
    "# computes 55 tables in advance: one for each year.\n",
    "Table().with_column('Year', np.arange(1960, 2016)).apply(stats_relabeled, 'Year')\n",
    "\n",
    "_ = widgets.interact(fertility_vs_child_mortality, \n",
    "                     year=widgets.IntSlider(min=1960, max=2015, value=1960))"
   ]
  },
  {
   "cell_type": "markdown",
   "metadata": {
    "deletable": false,
    "editable": false
   },
   "source": [
    "Now is a great time to take a break and watch the same data presented by [Hans Rosling in a 2010 TEDx talk](https://www.gapminder.org/videos/reducing-child-mortality-a-moral-and-environmental-imperative) with smoother animation and witty commentary."
   ]
  },
  {
   "cell_type": "markdown",
   "metadata": {
    "deletable": false,
    "editable": false
   },
   "source": [
    "## 2. Global Poverty\n"
   ]
  },
  {
   "cell_type": "markdown",
   "metadata": {
    "deletable": false,
    "editable": false
   },
   "source": [
    "In 1800, 85% of the world's 1 billion people lived in *extreme poverty*, defined by the United Nations as \"a condition characterized by severe deprivation of basic human needs, including food, safe drinking water, sanitation facilities, health, shelter, education and information.\" A common measure of extreme poverty is a person living on less than \\$1.25 per day.\n",
    "\n",
    "In 2018, the proportion of people living in extreme poverty was estimated to be 8%. Although the world rate of extreme poverty has declined consistently for hundreds of years, the number of people living in extreme poverty is still over 600 million. The United Nations recently adopted an [ambitious goal](http://www.un.org/sustainabledevelopment/poverty/): \"By 2030, eradicate extreme poverty for all people everywhere.\"\n",
    "In this section, we will examine extreme poverty trends around the world."
   ]
  },
  {
   "cell_type": "markdown",
   "metadata": {
    "deletable": false,
    "editable": false
   },
   "source": [
    "First, load the population and poverty rate by country and year and the country descriptions. While the `population` table has values for every recent year for many countries, the `poverty` table only includes certain years for each country in which a measurement of the rate of extreme poverty was available."
   ]
  },
  {
   "cell_type": "code",
   "execution_count": 247,
   "metadata": {},
   "outputs": [
    {
     "data": {
      "text/html": [
       "<table border=\"1\" class=\"dataframe\">\n",
       "    <thead>\n",
       "        <tr>\n",
       "            <th>geo</th> <th>time</th> <th>extreme_poverty_percent_people_below_125_a_day</th>\n",
       "        </tr>\n",
       "    </thead>\n",
       "    <tbody>\n",
       "        <tr>\n",
       "            <td>alb </td> <td>1996</td> <td>0.2                                           </td>\n",
       "        </tr>\n",
       "        <tr>\n",
       "            <td>alb </td> <td>2002</td> <td>0.73                                          </td>\n",
       "        </tr>\n",
       "        <tr>\n",
       "            <td>alb </td> <td>2004</td> <td>0.53                                          </td>\n",
       "        </tr>\n",
       "    </tbody>\n",
       "</table>\n",
       "<p>... (1096 rows omitted)</p>"
      ],
      "text/plain": [
       "<IPython.core.display.HTML object>"
      ]
     },
     "metadata": {},
     "output_type": "display_data"
    }
   ],
   "source": [
    "population = Table.read_table('population.csv')\n",
    "countries = Table.read_table('countries.csv').where('country', are.contained_in(population.group('geo').column('geo')))\n",
    "poverty = Table.read_table('poverty.csv')\n",
    "poverty.show(3)"
   ]
  },
  {
   "cell_type": "markdown",
   "metadata": {
    "deletable": false,
    "editable": false
   },
   "source": [
    "**Question 1.** Assign `latest_poverty` to a three-column table with one row for each country that appears in the `poverty` table. The first column should contain the 3-letter code for the country. The second column should contain the most recent year for which an extreme poverty rate is available for the country. The third column should contain the poverty rate in that year. **Do not change the last line, so that the labels of your table are set correctly.**\n",
    "\n",
    "*Hint*: think about how ```group``` works: it does a sequential search of the table (from top to bottom) and collects values in the array in the order in which they appear, and then applies a function to that array. The `first` function may be helpful, but you are not required to use it.\n",
    "\n",
    "<!--\n",
    "BEGIN QUESTION\n",
    "name: q2_1\n",
    "-->"
   ]
  },
  {
   "cell_type": "code",
   "execution_count": null,
   "metadata": {},
   "outputs": [],
   "source": []
  },
  {
   "cell_type": "code",
   "execution_count": 248,
   "metadata": {
    "deletable": false
   },
   "outputs": [
    {
     "data": {
      "text/html": [
       "<table border=\"1\" class=\"dataframe\">\n",
       "    <thead>\n",
       "        <tr>\n",
       "            <th>geo</th> <th>time</th> <th>poverty_percent</th>\n",
       "        </tr>\n",
       "    </thead>\n",
       "    <tbody>\n",
       "        <tr>\n",
       "            <td>ago </td> <td>2009</td> <td>43.37          </td>\n",
       "        </tr>\n",
       "        <tr>\n",
       "            <td>alb </td> <td>2012</td> <td>0.46           </td>\n",
       "        </tr>\n",
       "        <tr>\n",
       "            <td>arg </td> <td>2011</td> <td>1.41           </td>\n",
       "        </tr>\n",
       "        <tr>\n",
       "            <td>arm </td> <td>2012</td> <td>1.75           </td>\n",
       "        </tr>\n",
       "        <tr>\n",
       "            <td>aus </td> <td>2003</td> <td>1.36           </td>\n",
       "        </tr>\n",
       "        <tr>\n",
       "            <td>aut </td> <td>2004</td> <td>0.34           </td>\n",
       "        </tr>\n",
       "        <tr>\n",
       "            <td>aze </td> <td>2008</td> <td>0.31           </td>\n",
       "        </tr>\n",
       "        <tr>\n",
       "            <td>bdi </td> <td>2006</td> <td>81.32          </td>\n",
       "        </tr>\n",
       "        <tr>\n",
       "            <td>bel </td> <td>2000</td> <td>0.5            </td>\n",
       "        </tr>\n",
       "        <tr>\n",
       "            <td>ben </td> <td>2012</td> <td>51.61          </td>\n",
       "        </tr>\n",
       "    </tbody>\n",
       "</table>\n",
       "<p>... (135 rows omitted)</p>"
      ],
      "text/plain": [
       "geo  | time | poverty_percent\n",
       "ago  | 2009 | 43.37\n",
       "alb  | 2012 | 0.46\n",
       "arg  | 2011 | 1.41\n",
       "arm  | 2012 | 1.75\n",
       "aus  | 2003 | 1.36\n",
       "aut  | 2004 | 0.34\n",
       "aze  | 2008 | 0.31\n",
       "bdi  | 2006 | 81.32\n",
       "bel  | 2000 | 0.5\n",
       "ben  | 2012 | 51.61\n",
       "... (135 rows omitted)"
      ]
     },
     "execution_count": 248,
     "metadata": {},
     "output_type": "execute_result"
    }
   ],
   "source": [
    "def first(values):\n",
    "    return values.item(0)\n",
    "latest_poverty = poverty.sort('time',descending = True).group('geo', first)\n",
    "\n",
    "latest_poverty = latest_poverty.relabeled(0, 'geo').relabeled(1, 'time').relabeled(2, 'poverty_percent') # You should *not* change this line.\n",
    "latest_poverty"
   ]
  },
  {
   "cell_type": "code",
   "execution_count": 249,
   "metadata": {
    "deletable": false,
    "editable": false
   },
   "outputs": [
    {
     "name": "stdout",
     "output_type": "stream",
     "text": [
      "~~~~~~~~~~~~~~~~~~~~~~~~~~~~~~~~~~~~~~~~~~~~~~~~~~~~~~~~~~~~~~~~~~~~~\n",
      "Running tests\n",
      "\n",
      "---------------------------------------------------------------------\n",
      "Test summary\n",
      "    Passed: 2\n",
      "    Failed: 0\n",
      "[ooooooooook] 100.0% passed\n",
      "\n"
     ]
    }
   ],
   "source": [
    "ok.grade(\"q2_1\");"
   ]
  },
  {
   "cell_type": "markdown",
   "metadata": {
    "deletable": false,
    "editable": false
   },
   "source": [
    "**Question 2.** Using both `latest_poverty` and `population`, create a four-column table called `recent_poverty_total` with one row for each country in `latest_poverty`. The four columns should have the following labels and contents:\n",
    "1. `geo` contains the 3-letter country code,\n",
    "1. `poverty_percent` contains the most recent poverty percent,\n",
    "1. `population_total` contains the population of the country in 2010,\n",
    "1. `poverty_total` contains the number of people in poverty **rounded to the nearest integer**, based on the 2010 population and most recent poverty rate.\n",
    "\n",
    "<!--\n",
    "BEGIN QUESTION\n",
    "name: q2_2\n",
    "-->"
   ]
  },
  {
   "cell_type": "code",
   "execution_count": 250,
   "metadata": {
    "deletable": false
   },
   "outputs": [
    {
     "data": {
      "text/html": [
       "<table border=\"1\" class=\"dataframe\">\n",
       "    <thead>\n",
       "        <tr>\n",
       "            <th>geo</th> <th>poverty_percent</th> <th>population_total</th> <th>poverty_total</th>\n",
       "        </tr>\n",
       "    </thead>\n",
       "    <tbody>\n",
       "        <tr>\n",
       "            <td>ago </td> <td>43.37          </td> <td>21219954        </td> <td>9.20309e+06  </td>\n",
       "        </tr>\n",
       "        <tr>\n",
       "            <td>alb </td> <td>0.46           </td> <td>2901883         </td> <td>13349        </td>\n",
       "        </tr>\n",
       "        <tr>\n",
       "            <td>arg </td> <td>1.41           </td> <td>41222875        </td> <td>581243       </td>\n",
       "        </tr>\n",
       "        <tr>\n",
       "            <td>arm </td> <td>1.75           </td> <td>2963496         </td> <td>51861        </td>\n",
       "        </tr>\n",
       "        <tr>\n",
       "            <td>aus </td> <td>1.36           </td> <td>22162863        </td> <td>301415       </td>\n",
       "        </tr>\n",
       "        <tr>\n",
       "            <td>aut </td> <td>0.34           </td> <td>8391986         </td> <td>28533        </td>\n",
       "        </tr>\n",
       "        <tr>\n",
       "            <td>aze </td> <td>0.31           </td> <td>9099893         </td> <td>28210        </td>\n",
       "        </tr>\n",
       "        <tr>\n",
       "            <td>bdi </td> <td>81.32          </td> <td>9461117         </td> <td>7.69378e+06  </td>\n",
       "        </tr>\n",
       "        <tr>\n",
       "            <td>bel </td> <td>0.5            </td> <td>10929978        </td> <td>54650        </td>\n",
       "        </tr>\n",
       "        <tr>\n",
       "            <td>ben </td> <td>51.61          </td> <td>9509798         </td> <td>4.90801e+06  </td>\n",
       "        </tr>\n",
       "    </tbody>\n",
       "</table>\n",
       "<p>... (135 rows omitted)</p>"
      ],
      "text/plain": [
       "geo  | poverty_percent | population_total | poverty_total\n",
       "ago  | 43.37           | 21219954         | 9.20309e+06\n",
       "alb  | 0.46            | 2901883          | 13349\n",
       "arg  | 1.41            | 41222875         | 581243\n",
       "arm  | 1.75            | 2963496          | 51861\n",
       "aus  | 1.36            | 22162863         | 301415\n",
       "aut  | 0.34            | 8391986          | 28533\n",
       "aze  | 0.31            | 9099893          | 28210\n",
       "bdi  | 81.32           | 9461117          | 7.69378e+06\n",
       "bel  | 0.5             | 10929978         | 54650\n",
       "ben  | 51.61           | 9509798          | 4.90801e+06\n",
       "... (135 rows omitted)"
      ]
     },
     "execution_count": 250,
     "metadata": {},
     "output_type": "execute_result"
    }
   ],
   "source": [
    "t = latest_poverty.drop('time')\n",
    "pop = population.where('time', are.equal_to(2010))\n",
    "s = t.join('geo', pop)\n",
    "\n",
    "pov_total = s.column('population_total')*(s.column('poverty_percent'))\n",
    "pov_total = np.round(pov_total/100)\n",
    "\n",
    "\n",
    "recent_poverty_total_with_time =  s.with_column('poverty_total', pov_total)\n",
    "recent_poverty_total = recent_poverty_total_with_time.drop('time')\n",
    "\n",
    "recent_poverty_total"
   ]
  },
  {
   "cell_type": "code",
   "execution_count": 251,
   "metadata": {
    "deletable": false,
    "editable": false
   },
   "outputs": [
    {
     "name": "stdout",
     "output_type": "stream",
     "text": [
      "~~~~~~~~~~~~~~~~~~~~~~~~~~~~~~~~~~~~~~~~~~~~~~~~~~~~~~~~~~~~~~~~~~~~~\n",
      "Running tests\n",
      "\n",
      "---------------------------------------------------------------------\n",
      "Test summary\n",
      "    Passed: 3\n",
      "    Failed: 0\n",
      "[ooooooooook] 100.0% passed\n",
      "\n"
     ]
    }
   ],
   "source": [
    "ok.grade(\"q2_2\");"
   ]
  },
  {
   "cell_type": "markdown",
   "metadata": {
    "deletable": false,
    "editable": false
   },
   "source": [
    "**Question 3.** Assign the name `poverty_percent` to the known percentage of the world’s 2010 population that were living in extreme poverty. Assume that the `poverty_total` numbers in the `recent_poverty_total` table describe **all** people in 2010 living in extreme poverty. You should find a number that is above the 2018 global estimate of 8%, since many country-specific poverty rates are older than 2018.\n",
    "\n",
    "*Hint*: The sum of the `population_total` column in the `recent_poverty_total` table is not the world population, because only a subset of the world's countries are included in the `recent_poverty_total` table (only some countries have known poverty rates). Use the `population` table to compute the world's 2010 total population..\n",
    "\n",
    "<!--\n",
    "BEGIN QUESTION\n",
    "name: q2_3\n",
    "-->"
   ]
  },
  {
   "cell_type": "code",
   "execution_count": 252,
   "metadata": {},
   "outputs": [],
   "source": [
    "s = sum(recent_poverty_total.column('poverty_total'))\n",
    "x = sum(population.where('time', are.equal_to(2010)).column('population_total')) \n",
    "percent = (s/x)*100\n",
    "\n",
    "\n"
   ]
  },
  {
   "cell_type": "code",
   "execution_count": null,
   "metadata": {},
   "outputs": [],
   "source": []
  },
  {
   "cell_type": "raw",
   "metadata": {},
   "source": []
  },
  {
   "cell_type": "code",
   "execution_count": 253,
   "metadata": {
    "deletable": false
   },
   "outputs": [
    {
     "data": {
      "text/plain": [
       "14.299370218520854"
      ]
     },
     "execution_count": 253,
     "metadata": {},
     "output_type": "execute_result"
    }
   ],
   "source": [
    "poverty_percent = percent\n",
    "poverty_percent"
   ]
  },
  {
   "cell_type": "code",
   "execution_count": 254,
   "metadata": {
    "deletable": false,
    "editable": false
   },
   "outputs": [
    {
     "name": "stdout",
     "output_type": "stream",
     "text": [
      "~~~~~~~~~~~~~~~~~~~~~~~~~~~~~~~~~~~~~~~~~~~~~~~~~~~~~~~~~~~~~~~~~~~~~\n",
      "Running tests\n",
      "\n",
      "---------------------------------------------------------------------\n",
      "Test summary\n",
      "    Passed: 1\n",
      "    Failed: 0\n",
      "[ooooooooook] 100.0% passed\n",
      "\n"
     ]
    }
   ],
   "source": [
    "ok.grade(\"q2_3\");"
   ]
  },
  {
   "cell_type": "markdown",
   "metadata": {
    "deletable": false,
    "editable": false
   },
   "source": [
    "The `countries` table includes not only the name and region of countries, but also their positions on the globe."
   ]
  },
  {
   "cell_type": "code",
   "execution_count": null,
   "metadata": {},
   "outputs": [],
   "source": []
  },
  {
   "cell_type": "code",
   "execution_count": 255,
   "metadata": {
    "deletable": false,
    "editable": false
   },
   "outputs": [
    {
     "data": {
      "text/html": [
       "<table border=\"1\" class=\"dataframe\">\n",
       "    <thead>\n",
       "        <tr>\n",
       "            <th>country</th> <th>name</th> <th>world_4region</th> <th>latitude</th> <th>longitude</th>\n",
       "        </tr>\n",
       "    </thead>\n",
       "    <tbody>\n",
       "        <tr>\n",
       "            <td>afg      </td> <td>Afghanistan          </td> <td>asia         </td> <td>33      </td> <td>66       </td>\n",
       "        </tr>\n",
       "        <tr>\n",
       "            <td>akr_a_dhe</td> <td>Akrotiri and Dhekelia</td> <td>europe       </td> <td>nan     </td> <td>nan      </td>\n",
       "        </tr>\n",
       "        <tr>\n",
       "            <td>alb      </td> <td>Albania              </td> <td>europe       </td> <td>41      </td> <td>20       </td>\n",
       "        </tr>\n",
       "        <tr>\n",
       "            <td>dza      </td> <td>Algeria              </td> <td>africa       </td> <td>28      </td> <td>3        </td>\n",
       "        </tr>\n",
       "        <tr>\n",
       "            <td>asm      </td> <td>American Samoa       </td> <td>asia         </td> <td>-11.056 </td> <td>-171.082 </td>\n",
       "        </tr>\n",
       "        <tr>\n",
       "            <td>and      </td> <td>Andorra              </td> <td>europe       </td> <td>42.5078 </td> <td>1.52109  </td>\n",
       "        </tr>\n",
       "        <tr>\n",
       "            <td>ago      </td> <td>Angola               </td> <td>africa       </td> <td>-12.5   </td> <td>18.5     </td>\n",
       "        </tr>\n",
       "        <tr>\n",
       "            <td>aia      </td> <td>Anguilla             </td> <td>americas     </td> <td>18.2167 </td> <td>-63.05   </td>\n",
       "        </tr>\n",
       "        <tr>\n",
       "            <td>atg      </td> <td>Antigua and Barbuda  </td> <td>americas     </td> <td>17.05   </td> <td>-61.8    </td>\n",
       "        </tr>\n",
       "        <tr>\n",
       "            <td>arg      </td> <td>Argentina            </td> <td>americas     </td> <td>-34     </td> <td>-64      </td>\n",
       "        </tr>\n",
       "    </tbody>\n",
       "</table>\n",
       "<p>... (245 rows omitted)</p>"
      ],
      "text/plain": [
       "country   | name                  | world_4region | latitude | longitude\n",
       "afg       | Afghanistan           | asia          | 33       | 66\n",
       "akr_a_dhe | Akrotiri and Dhekelia | europe        | nan      | nan\n",
       "alb       | Albania               | europe        | 41       | 20\n",
       "dza       | Algeria               | africa        | 28       | 3\n",
       "asm       | American Samoa        | asia          | -11.056  | -171.082\n",
       "and       | Andorra               | europe        | 42.5078  | 1.52109\n",
       "ago       | Angola                | africa        | -12.5    | 18.5\n",
       "aia       | Anguilla              | americas      | 18.2167  | -63.05\n",
       "atg       | Antigua and Barbuda   | americas      | 17.05    | -61.8\n",
       "arg       | Argentina             | americas      | -34      | -64\n",
       "... (245 rows omitted)"
      ]
     },
     "execution_count": 255,
     "metadata": {},
     "output_type": "execute_result"
    }
   ],
   "source": [
    "countries.select('country', 'name', 'world_4region', 'latitude', 'longitude')"
   ]
  },
  {
   "cell_type": "markdown",
   "metadata": {
    "deletable": false,
    "editable": false
   },
   "source": [
    "**Question 4.** Using both `countries` and `recent_poverty_total`, create a five-column table called `poverty_map` with one row for every country in `recent_poverty_total`.  The five columns should have the following labels and contents:\n",
    "1. `latitude` contains the country's latitude,\n",
    "1. `longitude` contains the country's longitude,\n",
    "1. `name` contains the country's name,\n",
    "1. `region` contains the country's region from the `world_4region` column of `countries`,\n",
    "1. `poverty_total` contains the country's poverty total.\n",
    "\n",
    "<!--\n",
    "BEGIN QUESTION\n",
    "name: q2_4\n",
    "-->"
   ]
  },
  {
   "cell_type": "code",
   "execution_count": 256,
   "metadata": {
    "deletable": false
   },
   "outputs": [
    {
     "data": {
      "text/html": [
       "<table border=\"1\" class=\"dataframe\">\n",
       "    <thead>\n",
       "        <tr>\n",
       "            <th>latitude</th> <th>longitude</th> <th>name</th> <th>region</th> <th>poverty_total</th>\n",
       "        </tr>\n",
       "    </thead>\n",
       "    <tbody>\n",
       "        <tr>\n",
       "            <td>-12.5   </td> <td>18.5     </td> <td>Angola    </td> <td>africa  </td> <td>9.20309e+06  </td>\n",
       "        </tr>\n",
       "        <tr>\n",
       "            <td>41      </td> <td>20       </td> <td>Albania   </td> <td>europe  </td> <td>13349        </td>\n",
       "        </tr>\n",
       "        <tr>\n",
       "            <td>-34     </td> <td>-64      </td> <td>Argentina </td> <td>americas</td> <td>581243       </td>\n",
       "        </tr>\n",
       "        <tr>\n",
       "            <td>40.25   </td> <td>45       </td> <td>Armenia   </td> <td>europe  </td> <td>51861        </td>\n",
       "        </tr>\n",
       "        <tr>\n",
       "            <td>-25     </td> <td>135      </td> <td>Australia </td> <td>asia    </td> <td>301415       </td>\n",
       "        </tr>\n",
       "        <tr>\n",
       "            <td>47.3333 </td> <td>13.3333  </td> <td>Austria   </td> <td>europe  </td> <td>28533        </td>\n",
       "        </tr>\n",
       "        <tr>\n",
       "            <td>40.5    </td> <td>47.5     </td> <td>Azerbaijan</td> <td>europe  </td> <td>28210        </td>\n",
       "        </tr>\n",
       "        <tr>\n",
       "            <td>-3.5    </td> <td>30       </td> <td>Burundi   </td> <td>africa  </td> <td>7.69378e+06  </td>\n",
       "        </tr>\n",
       "        <tr>\n",
       "            <td>50.75   </td> <td>4.5      </td> <td>Belgium   </td> <td>europe  </td> <td>54650        </td>\n",
       "        </tr>\n",
       "        <tr>\n",
       "            <td>9.5     </td> <td>2.25     </td> <td>Benin     </td> <td>africa  </td> <td>4.90801e+06  </td>\n",
       "        </tr>\n",
       "    </tbody>\n",
       "</table>\n",
       "<p>... (135 rows omitted)</p>"
      ],
      "text/plain": [
       "latitude | longitude | name       | region   | poverty_total\n",
       "-12.5    | 18.5      | Angola     | africa   | 9.20309e+06\n",
       "41       | 20        | Albania    | europe   | 13349\n",
       "-34      | -64       | Argentina  | americas | 581243\n",
       "40.25    | 45        | Armenia    | europe   | 51861\n",
       "-25      | 135       | Australia  | asia     | 301415\n",
       "47.3333  | 13.3333   | Austria    | europe   | 28533\n",
       "40.5     | 47.5      | Azerbaijan | europe   | 28210\n",
       "-3.5     | 30        | Burundi    | africa   | 7.69378e+06\n",
       "50.75    | 4.5       | Belgium    | europe   | 54650\n",
       "9.5      | 2.25      | Benin      | africa   | 4.90801e+06\n",
       "... (135 rows omitted)"
      ]
     },
     "execution_count": 256,
     "metadata": {},
     "output_type": "execute_result"
    }
   ],
   "source": [
    "s = recent_poverty_total.relabel('geo','country')\n",
    "z = countries.select('country', 'name', 'world_4region', 'latitude', 'longitude')\n",
    "table = s.join('country',z)\n",
    "a = table.column('name')\n",
    "b= table.column('world_4region')\n",
    "c = table.column('latitude')\n",
    "d = table.column('longitude')\n",
    "e = table.column('poverty_total')\n",
    "poverty_map = Table().with_columns('latitude', c, 'longitude',d, 'name', a, 'region', b, 'poverty_total', e)\n",
    "poverty_map"
   ]
  },
  {
   "cell_type": "code",
   "execution_count": 257,
   "metadata": {
    "deletable": false,
    "editable": false
   },
   "outputs": [
    {
     "name": "stdout",
     "output_type": "stream",
     "text": [
      "~~~~~~~~~~~~~~~~~~~~~~~~~~~~~~~~~~~~~~~~~~~~~~~~~~~~~~~~~~~~~~~~~~~~~\n",
      "Running tests\n",
      "\n",
      "---------------------------------------------------------------------\n",
      "Test summary\n",
      "    Passed: 2\n",
      "    Failed: 0\n",
      "[ooooooooook] 100.0% passed\n",
      "\n"
     ]
    }
   ],
   "source": [
    "ok.grade(\"q2_4\");"
   ]
  },
  {
   "cell_type": "markdown",
   "metadata": {
    "deletable": false,
    "editable": false
   },
   "source": [
    "Run the cell below to draw a map of the world in which the areas of circles represent the number of people living in extreme poverty. Double-click on the map to zoom in."
   ]
  },
  {
   "cell_type": "code",
   "execution_count": 258,
   "metadata": {
    "deletable": false,
    "editable": false
   },
   "outputs": [
    {
     "data": {
      "text/html": [
       "<div style=\"width:100%;\"><div style=\"position:relative;width:100%;height:0;padding-bottom:60%;\"><iframe src=\"data:text/html;charset=utf-8;base64,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\" style=\"position:absolute;width:100%;height:100%;left:0;top:0;border:none !important;\" allowfullscreen webkitallowfullscreen mozallowfullscreen></iframe></div></div>"
      ],
      "text/plain": [
       "<datascience.maps.Map at 0x7f2c3d86dba8>"
      ]
     },
     "execution_count": 258,
     "metadata": {},
     "output_type": "execute_result"
    }
   ],
   "source": [
    "# It may take a few seconds to generate this map.\n",
    "colors = {'africa': 'blue', 'europe': 'black', 'asia': 'red', 'americas': 'green'}\n",
    "scaled = poverty_map.with_columns(\n",
    "    'poverty_total', 1e-4 * poverty_map.column('poverty_total'),\n",
    "    'region', poverty_map.apply(colors.get, 'region')\n",
    ")\n",
    "Circle.map_table(scaled)"
   ]
  },
  {
   "cell_type": "markdown",
   "metadata": {
    "deletable": false,
    "editable": false
   },
   "source": [
    "Although people live in extreme poverty throughout the world (with more than 5 million in the United States), the largest numbers are in Asia and Africa."
   ]
  },
  {
   "cell_type": "markdown",
   "metadata": {
    "deletable": false,
    "editable": false
   },
   "source": [
    "**Question 5.** Assign `largest` to a two-column table with the `name` (not the 3-letter code) and `poverty_total` of the 10 countries with the largest number of people living in extreme poverty.\n",
    "\n",
    "<!--\n",
    "BEGIN QUESTION\n",
    "name: q2_5\n",
    "-->"
   ]
  },
  {
   "cell_type": "code",
   "execution_count": 259,
   "metadata": {},
   "outputs": [
    {
     "data": {
      "text/html": [
       "<table border=\"1\" class=\"dataframe\">\n",
       "    <thead>\n",
       "        <tr>\n",
       "            <th>latitude</th> <th>longitude</th> <th>name</th> <th>region</th> <th>poverty_total</th> <th>rank</th>\n",
       "        </tr>\n",
       "    </thead>\n",
       "    <tbody>\n",
       "        <tr>\n",
       "            <td>22      </td> <td>79       </td> <td>India           </td> <td>asia  </td> <td>2.90882e+08  </td> <td>1   </td>\n",
       "        </tr>\n",
       "        <tr>\n",
       "            <td>10      </td> <td>8        </td> <td>Nigeria         </td> <td>africa</td> <td>9.88912e+07  </td> <td>2   </td>\n",
       "        </tr>\n",
       "        <tr>\n",
       "            <td>35      </td> <td>105      </td> <td>China           </td> <td>asia  </td> <td>8.39446e+07  </td> <td>3   </td>\n",
       "        </tr>\n",
       "        <tr>\n",
       "            <td>24      </td> <td>90       </td> <td>Bangladesh      </td> <td>asia  </td> <td>6.55743e+07  </td> <td>4   </td>\n",
       "        </tr>\n",
       "        <tr>\n",
       "            <td>-2.5    </td> <td>23.5     </td> <td>Congo, Dem. Rep.</td> <td>africa</td> <td>5.78414e+07  </td> <td>5   </td>\n",
       "        </tr>\n",
       "        <tr>\n",
       "            <td>-5      </td> <td>120      </td> <td>Indonesia       </td> <td>asia  </td> <td>3.91413e+07  </td> <td>6   </td>\n",
       "        </tr>\n",
       "        <tr>\n",
       "            <td>9       </td> <td>39.5     </td> <td>Ethiopia        </td> <td>africa</td> <td>3.2214e+07   </td> <td>7   </td>\n",
       "        </tr>\n",
       "        <tr>\n",
       "            <td>30      </td> <td>70       </td> <td>Pakistan        </td> <td>asia  </td> <td>2.16636e+07  </td> <td>8   </td>\n",
       "        </tr>\n",
       "        <tr>\n",
       "            <td>-6      </td> <td>35       </td> <td>Tanzania        </td> <td>africa</td> <td>1.9848e+07   </td> <td>9   </td>\n",
       "        </tr>\n",
       "        <tr>\n",
       "            <td>-20     </td> <td>47       </td> <td>Madagascar      </td> <td>africa</td> <td>1.84804e+07  </td> <td>10  </td>\n",
       "        </tr>\n",
       "    </tbody>\n",
       "</table>\n",
       "<p>... (135 rows omitted)</p>"
      ],
      "text/plain": [
       "latitude | longitude | name             | region | poverty_total | rank\n",
       "22       | 79        | India            | asia   | 2.90882e+08   | 1\n",
       "10       | 8         | Nigeria          | africa | 9.88912e+07   | 2\n",
       "35       | 105       | China            | asia   | 8.39446e+07   | 3\n",
       "24       | 90        | Bangladesh       | asia   | 6.55743e+07   | 4\n",
       "-2.5     | 23.5      | Congo, Dem. Rep. | africa | 5.78414e+07   | 5\n",
       "-5       | 120       | Indonesia        | asia   | 3.91413e+07   | 6\n",
       "9        | 39.5      | Ethiopia         | africa | 3.2214e+07    | 7\n",
       "30       | 70        | Pakistan         | asia   | 2.16636e+07   | 8\n",
       "-6       | 35        | Tanzania         | africa | 1.9848e+07    | 9\n",
       "-20      | 47        | Madagascar       | africa | 1.84804e+07   | 10\n",
       "... (135 rows omitted)"
      ]
     },
     "execution_count": 259,
     "metadata": {},
     "output_type": "execute_result"
    }
   ],
   "source": [
    "y = poverty_map.sort('poverty_total', descending = True)\n",
    "o = np.arange(1,146,1)\n",
    "f = y.with_column('rank', o)\n",
    "f\n"
   ]
  },
  {
   "cell_type": "code",
   "execution_count": 260,
   "metadata": {
    "deletable": false
   },
   "outputs": [
    {
     "data": {
      "text/html": [
       "<table border=\"1\" class=\"dataframe\">\n",
       "    <thead>\n",
       "        <tr>\n",
       "            <th>name</th> <th>poverty_total</th>\n",
       "        </tr>\n",
       "    </thead>\n",
       "    <tbody>\n",
       "        <tr>\n",
       "            <td>India           </td> <td>2.90882e+08  </td>\n",
       "        </tr>\n",
       "        <tr>\n",
       "            <td>Nigeria         </td> <td>9.88912e+07  </td>\n",
       "        </tr>\n",
       "        <tr>\n",
       "            <td>China           </td> <td>8.39446e+07  </td>\n",
       "        </tr>\n",
       "        <tr>\n",
       "            <td>Bangladesh      </td> <td>6.55743e+07  </td>\n",
       "        </tr>\n",
       "        <tr>\n",
       "            <td>Congo, Dem. Rep.</td> <td>5.78414e+07  </td>\n",
       "        </tr>\n",
       "        <tr>\n",
       "            <td>Indonesia       </td> <td>3.91413e+07  </td>\n",
       "        </tr>\n",
       "        <tr>\n",
       "            <td>Ethiopia        </td> <td>3.2214e+07   </td>\n",
       "        </tr>\n",
       "        <tr>\n",
       "            <td>Pakistan        </td> <td>2.16636e+07  </td>\n",
       "        </tr>\n",
       "        <tr>\n",
       "            <td>Tanzania        </td> <td>1.9848e+07   </td>\n",
       "        </tr>\n",
       "        <tr>\n",
       "            <td>Madagascar      </td> <td>1.84804e+07  </td>\n",
       "        </tr>\n",
       "    </tbody>\n",
       "</table>"
      ],
      "text/plain": [
       "name             | poverty_total\n",
       "India            | 2.90882e+08\n",
       "Nigeria          | 9.88912e+07\n",
       "China            | 8.39446e+07\n",
       "Bangladesh       | 6.55743e+07\n",
       "Congo, Dem. Rep. | 5.78414e+07\n",
       "Indonesia        | 3.91413e+07\n",
       "Ethiopia         | 3.2214e+07\n",
       "Pakistan         | 2.16636e+07\n",
       "Tanzania         | 1.9848e+07\n",
       "Madagascar       | 1.84804e+07"
      ]
     },
     "execution_count": 260,
     "metadata": {},
     "output_type": "execute_result"
    }
   ],
   "source": [
    "largest = f.where('rank',are.below(11)).select('name','poverty_total')\n",
    "largest"
   ]
  },
  {
   "cell_type": "code",
   "execution_count": 261,
   "metadata": {
    "deletable": false,
    "editable": false
   },
   "outputs": [
    {
     "name": "stdout",
     "output_type": "stream",
     "text": [
      "~~~~~~~~~~~~~~~~~~~~~~~~~~~~~~~~~~~~~~~~~~~~~~~~~~~~~~~~~~~~~~~~~~~~~\n",
      "Running tests\n",
      "\n",
      "---------------------------------------------------------------------\n",
      "Test summary\n",
      "    Passed: 3\n",
      "    Failed: 0\n",
      "[ooooooooook] 100.0% passed\n",
      "\n"
     ]
    }
   ],
   "source": [
    "ok.grade(\"q2_5\");"
   ]
  },
  {
   "cell_type": "markdown",
   "metadata": {
    "deletable": false
   },
   "source": [
    "**Question 6.** Write a function called `poverty_timeline` that takes **the name of a country** as its argument. It should draw a line plot of the number of people living in poverty in that country with time on the horizontal axis. The line plot should have a point for each row in the `poverty` table for that country. To compute the population living in poverty from a poverty percentage, multiply by the population of the country **in that year**.\n",
    "\n",
    "*Hint:* This question is long. Feel free to create cells and experiment. "
   ]
  },
  {
   "cell_type": "code",
   "execution_count": null,
   "metadata": {},
   "outputs": [],
   "source": []
  },
  {
   "cell_type": "code",
   "execution_count": null,
   "metadata": {},
   "outputs": [],
   "source": [
    "\n"
   ]
  },
  {
   "cell_type": "code",
   "execution_count": 262,
   "metadata": {},
   "outputs": [
    {
     "data": {
      "image/png": "[encoded data removed]",
      "text/plain": [
       "<Figure size 432x288 with 1 Axes>"
      ]
     },
     "metadata": {},
     "output_type": "display_data"
    }
   ],
   "source": [
    "h = countries.where('name', are.equal_to('India')).column('country').item(0) #find geo for country name\n",
    "\n",
    "j=poverty.where('geo', are.equal_to(h)).drop('geo') #poverty based on geo found from countries\n",
    "\n",
    "popu = population.where('geo', are.equal_to(h)) #finding total population based on geo code\n",
    "popu = popu.join('time', j)#joining by time found in poverty table \n",
    "pop_array = popu.column('population_total')#array of population total \n",
    "pov_array  = popu.column('extreme_poverty_percent_people_below_125_a_day')/100 #array of poverty %\n",
    "total_pop_in_pov = pop_array *pov_array #population in poverty\n",
    "population_and_time = popu.with_column('population living in poverty', total_pop_in_pov ).select('time','population living in poverty')\n",
    "population_and_time.plot('time','population living in poverty')"
   ]
  },
  {
   "cell_type": "code",
   "execution_count": null,
   "metadata": {},
   "outputs": [],
   "source": []
  },
  {
   "cell_type": "code",
   "execution_count": 263,
   "metadata": {},
   "outputs": [
    {
     "data": {
      "image/png": "[encoded data removed]",
      "text/plain": [
       "<Figure size 432x288 with 1 Axes>"
      ]
     },
     "metadata": {},
     "output_type": "display_data"
    }
   ],
   "source": [
    "def poverty_timeline(country):\n",
    "    '''Draw a timeline of people living in extreme poverty in a country.'''\n",
    "    h = countries.where('name', are.equal_to(country)).column('country').item(0)\n",
    "    j=   poverty.where('geo', are.equal_to(h)).drop('geo')\n",
    "    popu = population.where('geo', are.equal_to(h)) #finding total population based on geo code\n",
    "    popu = popu.join('time', j)#joining by time found in poverty table \n",
    "    pop_array = popu.column('population_total')#array of population total \n",
    "    pov_array  = popu.column('extreme_poverty_percent_people_below_125_a_day')/100 #array of poverty %\n",
    "    total_pop_in_pov = pop_array *pov_array #population in poverty\n",
    "    population_and_time = popu.with_column('population living in poverty', total_pop_in_pov ).select('time','population living in poverty')\n",
    "    \n",
    "    \n",
    "    return population_and_time.plot('time','population living in poverty')\n",
    "    # This solution will take multiple lines of code. Use as many as you need\n",
    "    \n",
    "poverty_timeline('Algeria')"
   ]
  },
  {
   "cell_type": "markdown",
   "metadata": {
    "deletable": false,
    "editable": false
   },
   "source": [
    "Finally, draw the timelines below to see how the world is changing. You can check your work by comparing your graphs to the ones on [gapminder.org](https://www.gapminder.org/tools/#$state$entities$show$country$/$in@=ind;;;;&marker$axis_y$which=number_of_people_in_poverty&scaleType=linear&spaceRef:null;;;&chart-type=linechart).\n",
    "\n",
    "<!--\n",
    "BEGIN QUESTION\n",
    "name: q2_6\n",
    "manual: true\n",
    "-->\n",
    "<!-- EXPORT TO PDF -->"
   ]
  },
  {
   "cell_type": "code",
   "execution_count": 264,
   "metadata": {
    "export_pdf": true
   },
   "outputs": [
    {
     "data": {
      "image/png": "[encoded data removed]",
      "text/plain": [
       "<Figure size 432x288 with 1 Axes>"
      ]
     },
     "metadata": {},
     "output_type": "display_data"
    },
    {
     "data": {
      "image/png": "[encoded data removed]",
      "text/plain": [
       "<Figure size 432x288 with 1 Axes>"
      ]
     },
     "metadata": {},
     "output_type": "display_data"
    },
    {
     "data": {
      "image/png": "[encoded data removed]",
      "text/plain": [
       "<Figure size 432x288 with 1 Axes>"
      ]
     },
     "metadata": {},
     "output_type": "display_data"
    },
    {
     "data": {
      "image/png": "[encoded data removed]",
      "text/plain": [
       "<Figure size 432x288 with 1 Axes>"
      ]
     },
     "metadata": {},
     "output_type": "display_data"
    }
   ],
   "source": [
    "poverty_timeline('India')\n",
    "poverty_timeline('Nigeria')\n",
    "poverty_timeline('China')\n",
    "poverty_timeline('United States')"
   ]
  },
  {
   "cell_type": "markdown",
   "metadata": {
    "deletable": false,
    "editable": false
   },
   "source": [
    "Although the number of people living in extreme poverty has been increasing in Nigeria and the United States, the massive decreases in China and India have shaped the overall trend that extreme poverty is decreasing worldwide, both in percentage and in absolute number. \n",
    "\n",
    "To learn more, watch [Hans Rosling in a 2015 film](https://www.gapminder.org/videos/dont-panic-end-poverty/) about the UN goal of eradicating extreme poverty from the world. \n",
    "\n",
    "Below, we've also added an interactive dropdown menu for you to visualize `poverty_timeline` graphs for other countries. Note that each dropdown menu selection may take a few seconds to run."
   ]
  },
  {
   "cell_type": "code",
   "execution_count": 265,
   "metadata": {
    "deletable": false,
    "editable": false
   },
   "outputs": [
    {
     "data": {
      "application/vnd.jupyter.widget-view+json": {
       "model_id": "94f28de4efb5452a8fa894a4c99be40f",
       "version_major": 2,
       "version_minor": 0
      },
      "text/plain": [
       "interactive(children=(Dropdown(description='country', options=('Angola', 'Albania', 'Argentina', 'Armenia', 'A…"
      ]
     },
     "metadata": {},
     "output_type": "display_data"
    }
   ],
   "source": [
    "# Just run this cell\n",
    "\n",
    "all_countries = poverty_map.column('name')\n",
    "_ = widgets.interact(poverty_timeline, country=list(all_countries))"
   ]
  },
  {
   "cell_type": "markdown",
   "metadata": {
    "deletable": false,
    "editable": false
   },
   "source": [
    "**You're finished!** Congratulations on mastering data visualization and table manipulation. Time to submit."
   ]
  },
  {
   "cell_type": "markdown",
   "metadata": {},
   "source": [
    "## 3. Submission\n"
   ]
  },
  {
   "cell_type": "markdown",
   "metadata": {
    "collapsed": true
   },
   "source": [
    "Once you're finished, select \"Save and Checkpoint\" in the File menu and then execute the `submit` cell below. The result will contain a link that you can use to check that your assignment has been submitted successfully. If you submit more than once before the deadline, we will only grade your final submission. If you mistakenly submit the wrong one, you can head to [okpy.org](https://okpy.org/) and flag the correct version. To do so, go to the website, click on this assignment, and find the version you would like to have graded. There should be an option to flag that submission for grading!"
   ]
  },
  {
   "cell_type": "code",
   "execution_count": 267,
   "metadata": {},
   "outputs": [
    {
     "data": {
      "application/javascript": [
       "IPython.notebook.save_checkpoint();"
      ],
      "text/plain": [
       "<IPython.core.display.Javascript object>"
      ]
     },
     "metadata": {},
     "output_type": "display_data"
    },
    {
     "data": {
      "application/javascript": [
       "IPython.notebook.save_notebook();"
      ],
      "text/plain": [
       "<IPython.core.display.Javascript object>"
      ]
     },
     "metadata": {},
     "output_type": "display_data"
    },
    {
     "name": "stdout",
     "output_type": "stream",
     "text": [
      "Saving notebook... Saved 'project1.ipynb'.\n",
      "Submit... 100% complete\n",
      "Submission successful for user: fraustoruth96@berkeley.edu\n",
      "URL: https://okpy.org/cal/data8/fa19/project1/submissions/Pj1D3n\n",
      "\n"
     ]
    }
   ],
   "source": [
    "_ = ok.submit()"
   ]
  },
  {
   "cell_type": "code",
   "execution_count": 268,
   "metadata": {},
   "outputs": [
    {
     "name": "stdout",
     "output_type": "stream",
     "text": [
      "Running all tests...\n",
      "~~~~~~~~~~~~~~~~~~~~~~~~~~~~~~~~~~~~~~~~~~~~~~~~~~~~~~~~~~~~~~~~~~~~~\n",
      "Running tests\n",
      "\n",
      "---------------------------------------------------------------------\n",
      "Test summary\n",
      "    Passed: 2\n",
      "    Failed: 0\n",
      "[ooooooooook] 100.0% passed\n",
      "\n",
      "~~~~~~~~~~~~~~~~~~~~~~~~~~~~~~~~~~~~~~~~~~~~~~~~~~~~~~~~~~~~~~~~~~~~~\n",
      "Running tests\n",
      "\n",
      "---------------------------------------------------------------------\n",
      "Test summary\n",
      "    Passed: 2\n",
      "    Failed: 0\n",
      "[ooooooooook] 100.0% passed\n",
      "\n",
      "~~~~~~~~~~~~~~~~~~~~~~~~~~~~~~~~~~~~~~~~~~~~~~~~~~~~~~~~~~~~~~~~~~~~~\n",
      "Running tests\n",
      "\n",
      "---------------------------------------------------------------------\n",
      "Test summary\n",
      "    Passed: 3\n",
      "    Failed: 0\n",
      "[ooooooooook] 100.0% passed\n",
      "\n",
      "~~~~~~~~~~~~~~~~~~~~~~~~~~~~~~~~~~~~~~~~~~~~~~~~~~~~~~~~~~~~~~~~~~~~~\n",
      "Running tests\n",
      "\n",
      "---------------------------------------------------------------------\n",
      "Test summary\n",
      "    Passed: 2\n",
      "    Failed: 0\n",
      "[ooooooooook] 100.0% passed\n",
      "\n",
      "~~~~~~~~~~~~~~~~~~~~~~~~~~~~~~~~~~~~~~~~~~~~~~~~~~~~~~~~~~~~~~~~~~~~~\n",
      "Running tests\n",
      "\n",
      "---------------------------------------------------------------------\n",
      "Test summary\n",
      "    Passed: 2\n",
      "    Failed: 0\n",
      "[ooooooooook] 100.0% passed\n",
      "\n",
      "~~~~~~~~~~~~~~~~~~~~~~~~~~~~~~~~~~~~~~~~~~~~~~~~~~~~~~~~~~~~~~~~~~~~~\n",
      "Running tests\n",
      "\n",
      "---------------------------------------------------------------------\n",
      "Test summary\n",
      "    Passed: 4\n",
      "    Failed: 0\n",
      "[ooooooooook] 100.0% passed\n",
      "\n",
      "~~~~~~~~~~~~~~~~~~~~~~~~~~~~~~~~~~~~~~~~~~~~~~~~~~~~~~~~~~~~~~~~~~~~~\n",
      "Running tests\n",
      "\n",
      "---------------------------------------------------------------------\n",
      "Test summary\n",
      "    Passed: 2\n",
      "    Failed: 0\n",
      "[ooooooooook] 100.0% passed\n",
      "\n",
      "~~~~~~~~~~~~~~~~~~~~~~~~~~~~~~~~~~~~~~~~~~~~~~~~~~~~~~~~~~~~~~~~~~~~~\n",
      "Running tests\n",
      "\n",
      "---------------------------------------------------------------------\n",
      "q2_2 > Suite 1 > Case 1\n",
      "\n",
      ">>> # Check your column labels and spelling;\n",
      ">>> recent_poverty_total.labels == ('geo', 'poverty_percent', 'population_total', 'poverty_total')\n",
      "False\n",
      "\n",
      "# Error: expected\n",
      "#     True\n",
      "# but got\n",
      "#     False\n",
      "\n",
      "Run only this test case with \"python3 ok -q q2_2 --suite 1 --case 1\"\n",
      "---------------------------------------------------------------------\n",
      "Test summary\n",
      "    Passed: 0\n",
      "    Failed: 1\n",
      "[k..........] 0.0% passed\n",
      "\n",
      "~~~~~~~~~~~~~~~~~~~~~~~~~~~~~~~~~~~~~~~~~~~~~~~~~~~~~~~~~~~~~~~~~~~~~\n",
      "Running tests\n",
      "\n",
      "---------------------------------------------------------------------\n",
      "Test summary\n",
      "    Passed: 1\n",
      "    Failed: 0\n",
      "[ooooooooook] 100.0% passed\n",
      "\n",
      "~~~~~~~~~~~~~~~~~~~~~~~~~~~~~~~~~~~~~~~~~~~~~~~~~~~~~~~~~~~~~~~~~~~~~\n",
      "Running tests\n",
      "\n",
      "---------------------------------------------------------------------\n",
      "Test summary\n",
      "    Passed: 2\n",
      "    Failed: 0\n",
      "[ooooooooook] 100.0% passed\n",
      "\n",
      "~~~~~~~~~~~~~~~~~~~~~~~~~~~~~~~~~~~~~~~~~~~~~~~~~~~~~~~~~~~~~~~~~~~~~\n",
      "Running tests\n",
      "\n",
      "---------------------------------------------------------------------\n",
      "Test summary\n",
      "    Passed: 1\n",
      "    Failed: 0\n",
      "[ooooooooook] 100.0% passed\n",
      "\n",
      "~~~~~~~~~~~~~~~~~~~~~~~~~~~~~~~~~~~~~~~~~~~~~~~~~~~~~~~~~~~~~~~~~~~~~\n",
      "Running tests\n",
      "\n",
      "---------------------------------------------------------------------\n",
      "Test summary\n",
      "    Passed: 3\n",
      "    Failed: 0\n",
      "[ooooooooook] 100.0% passed\n",
      "\n",
      "~~~~~~~~~~~~~~~~~~~~~~~~~~~~~~~~~~~~~~~~~~~~~~~~~~~~~~~~~~~~~~~~~~~~~\n",
      "Running tests\n",
      "\n",
      "---------------------------------------------------------------------\n",
      "Test summary\n",
      "    Passed: 2\n",
      "    Failed: 0\n",
      "[ooooooooook] 100.0% passed\n",
      "\n",
      "~~~~~~~~~~~~~~~~~~~~~~~~~~~~~~~~~~~~~~~~~~~~~~~~~~~~~~~~~~~~~~~~~~~~~\n",
      "Running tests\n",
      "\n",
      "---------------------------------------------------------------------\n",
      "Test summary\n",
      "    Passed: 1\n",
      "    Failed: 0\n",
      "[ooooooooook] 100.0% passed\n",
      "\n",
      "~~~~~~~~~~~~~~~~~~~~~~~~~~~~~~~~~~~~~~~~~~~~~~~~~~~~~~~~~~~~~~~~~~~~~\n",
      "Running tests\n",
      "\n",
      "---------------------------------------------------------------------\n",
      "Test summary\n",
      "    Passed: 3\n",
      "    Failed: 0\n",
      "[ooooooooook] 100.0% passed\n",
      "\n",
      "Finished running all tests.\n"
     ]
    }
   ],
   "source": [
    "# For your convenience, you can run this cell to run all the tests at once!\n",
    "import os\n",
    "print(\"Running all tests...\")\n",
    "_ = [ok.grade(q[:-3]) for q in os.listdir(\"tests\") if q.startswith('q') and len(q) <= 10]\n",
    "print(\"Finished running all tests.\")"
   ]
  },
  {
   "cell_type": "code",
   "execution_count": null,
   "metadata": {},
   "outputs": [],
   "source": []
  }
 ],
 "metadata": {
  "kernelspec": {
   "display_name": "Python 3 (ipykernel)",
   "language": "python",
   "name": "python3"
  },
  "language_info": {
   "codemirror_mode": {
    "name": "ipython",
    "version": 3
   },
   "file_extension": ".py",
   "mimetype": "text/x-python",
   "name": "python",
   "nbconvert_exporter": "python",
   "pygments_lexer": "ipython3",
   "version": "3.9.7"
  }
 },
 "nbformat": 4,
 "nbformat_minor": 1
}
