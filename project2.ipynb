{
 "cells": [
  {
   "cell_type": "code",
   "execution_count": 1,
   "metadata": {
    "deletable": false,
    "editable": false
   },
   "outputs": [
    {
     "name": "stdout",
     "output_type": "stream",
     "text": [
      "=====================================================================\n",
      "Assignment: Project 2: Cardiovascular Disease: Causes, Treatment, and Prevention\n",
      "OK, version v1.18.1\n",
      "=====================================================================\n",
      "\n"
     ]
    }
   ],
   "source": [
    "# Initialize OK\n",
    "from client.api.notebook import Notebook\n",
    "ok = Notebook('project2.ok')"
   ]
  },
  {
   "cell_type": "markdown",
   "metadata": {},
   "source": [
    "# Project 2: Cardiovascular Disease: Causes, Treatment, and Prevention"
   ]
  },
  {
   "cell_type": "markdown",
   "metadata": {},
   "source": [
    "In this project, you will investigate the major causes of death in the world: cardiovascular disease! "
   ]
  },
  {
   "cell_type": "markdown",
   "metadata": {},
   "source": [
    "### Logistics\n",
    "\n",
    "\n",
    "**Deadline.** This project is due at 11:59pm on Friday, 11/15. It's **much** better to be early than late, so start working now.\n",
    "\n",
    "**Checkpoint.** For full credit, you must complete 2 checkpoints. For checkpoint 1, you must complete the questions up until the end of Part 2, pass all public autograders, and submit them by 11:59pm on Friday 11/1. For checkpoint 2, you must complete the questions up until the end of Part 3, pass all public autograders, and submit them by 11:59pm on Friday 11/8. You will **not** have lab time to work on these questions, we recommend that you start early on each part to stay on track.\n",
    "\n",
    "**Partners.** You may work with one other partner. Your partner must be enrolled in the same lab as you are. Only one of you is required to submit the project. On [okpy.org](http://okpy.org), the person who submits should also designate their partner so that both of you receive credit.\n",
    "\n",
    "**Rules.** Don't share your code with anybody but your partner. You are welcome to discuss questions with other students, but don't share the answers. The experience of solving the problems in this project will prepare you for exams (and life). If someone asks you for the answer, resist! Instead, you can demonstrate how you would solve a similar problem.\n",
    "\n",
    "**Support.** You are not alone! Come to office hours, post on Piazza, and talk to your classmates. If you want to ask about the details of your solution to a problem, make a private Piazza post and the staff will respond. If you're ever feeling overwhelmed or don't know how to make progress, email your TA or tutor for help. You can find contact information for the staff on the [course website](http://data8.org/sp19/staff.html).\n",
    "\n",
    "**Tests.** Passing the tests for a question **does not** mean that you answered the question correctly. Tests usually only check that your table has the correct column labels. However, more tests will be applied to verify the correctness of your submission in order to assign your final score, so be careful and check your work!\n",
    "\n",
    "**Advice.** Develop your answers incrementally. To perform a complicated table manipulation, break it up into steps, perform each step on a different line, give a new name to each result, and check that each intermediate result is what you expect. You can add any additional names or functions you want to the provided cells. \n",
    "\n",
    "All of the concepts necessary for this project are found in the textbook. If you are stuck on a particular problem, reading through the relevant textbook section often will help clarify the concept.\n",
    "\n",
    "To get started, load `datascience`, `numpy`, `plots`, and `ok`."
   ]
  },
  {
   "cell_type": "code",
   "execution_count": 2,
   "metadata": {},
   "outputs": [
    {
     "name": "stdout",
     "output_type": "stream",
     "text": [
      "=====================================================================\n",
      "Assignment: Project 2: Cardiovascular Disease: Causes, Treatment, and Prevention\n",
      "OK, version v1.18.1\n",
      "=====================================================================\n",
      "\n",
      "Successfully logged in as fraustoruth96@berkeley.edu\n"
     ]
    }
   ],
   "source": [
    "from datascience import *\n",
    "import numpy as np\n",
    "\n",
    "%matplotlib inline\n",
    "import matplotlib.pyplot as plots\n",
    "plots.style.use('fivethirtyeight')\n",
    "np.set_printoptions(legacy='1.13')\n",
    "\n",
    "from client.api.notebook import Notebook\n",
    "ok = Notebook('project2.ok')\n",
    "_ = ok.auth(inline=True)"
   ]
  },
  {
   "cell_type": "markdown",
   "metadata": {},
   "source": [
    "In the following analysis, we will investigate the world's most dangerous killer: Cardiovascular Disease. Your investigation will take you across decades of medical research, and you'll look at multiple causes and effects across four different studies."
   ]
  },
  {
   "cell_type": "markdown",
   "metadata": {},
   "source": [
    "Here is a roadmap for this project:\n",
    "\n",
    "* In Part 1, we'll investigate the major causes of death in the world during the past century (from 1900 to 2015).\n",
    "* In Part 2, we'll look at data from the Framingham Heart Study, an observational study into cardiovascular health.\n",
    "* In Part 3, we'll examine the effect that hormone replacement therapy has on the risk of coronary heart disease for post-menopausal women using data from the Nurses' Heart Study and Heart and Estrogen-Progestin Replacement Study.\n",
    "* In Part 4, we'll explore the effect that the consumption of saturated fats has on cardiovascular death rates using data from the National Heart-Diet Study"
   ]
  },
  {
   "cell_type": "markdown",
   "metadata": {},
   "source": [
    "## Part 1: Causes of Death "
   ]
  },
  {
   "cell_type": "markdown",
   "metadata": {},
   "source": [
    "In order to get a better idea of how we can most effectively prevent deaths, we need to first figure out what the major causes of death are. Run the following cell to read in and view the `causes_of_death` table, which documents the death rate for major causes of deaths over the last century (1900 until 2015)."
   ]
  },
  {
   "cell_type": "code",
   "execution_count": 3,
   "metadata": {
    "scrolled": true
   },
   "outputs": [
    {
     "data": {
      "text/html": [
       "<table border=\"1\" class=\"dataframe\">\n",
       "    <thead>\n",
       "        <tr>\n",
       "            <th>Year</th> <th>Cause</th> <th>Age Adjusted Death Rate</th>\n",
       "        </tr>\n",
       "    </thead>\n",
       "    <tbody>\n",
       "        <tr>\n",
       "            <td>2015</td> <td>Heart Disease          </td> <td>168.5                  </td>\n",
       "        </tr>\n",
       "        <tr>\n",
       "            <td>2015</td> <td>Cancer                 </td> <td>158.5                  </td>\n",
       "        </tr>\n",
       "        <tr>\n",
       "            <td>2015</td> <td>Stroke                 </td> <td>37.6                   </td>\n",
       "        </tr>\n",
       "        <tr>\n",
       "            <td>2015</td> <td>Accidents              </td> <td>43.2                   </td>\n",
       "        </tr>\n",
       "        <tr>\n",
       "            <td>2015</td> <td>Influenza and Pneumonia</td> <td>15.2                   </td>\n",
       "        </tr>\n",
       "    </tbody>\n",
       "</table>\n",
       "<p>... (575 rows omitted)</p>"
      ],
      "text/plain": [
       "<IPython.core.display.HTML object>"
      ]
     },
     "metadata": {},
     "output_type": "display_data"
    }
   ],
   "source": [
    "causes_of_death = Table.read_table('causes_of_death.csv')\n",
    "causes_of_death.show(5)"
   ]
  },
  {
   "cell_type": "markdown",
   "metadata": {},
   "source": [
    "\n",
    "Each entry in the column **Age Adjusted Death Rate** is a death rate for a specific **Year** and **Cause** of death. \n",
    "\n",
    "If we look at unadjusted data, the age distributions of each sample will influence death rates. In an older population, we would expect death rates to be higher for all causes since old age is associated with higher risk of death. To compare death rates without worrying about differences in the demographics of our populations, we adjust the data for age.\n",
    "\n",
    "The **Age Adjusted** specification in the death rate column tells us that the values shown are the death rates that would have existed if the population under study in a specific year had the same age distribution as the \"standard\" population, a baseline. \n",
    "\n",
    "You aren't responsible for knowing how to do this adjustment, but should understand why we adjust for age and what the consequences of working with unadjusted data would be. "
   ]
  },
  {
   "cell_type": "markdown",
   "metadata": {
    "deletable": false,
    "editable": false
   },
   "source": [
    "**Question 1:** What are all the different causes of death in this dataset? Assign an array of all the unique causes of death to `all_unique_causes`.\n",
    "\n",
    "\n",
    "<!--\n",
    "BEGIN QUESTION\n",
    "name: q1_1\n",
    "manual: false\n",
    "-->"
   ]
  },
  {
   "cell_type": "code",
   "execution_count": 4,
   "metadata": {
    "deletable": false,
    "manual_problem_id": "part_1_unique_causes"
   },
   "outputs": [
    {
     "data": {
      "text/plain": [
       "['Accidents', 'Cancer', 'Heart Disease', 'Influenza and Pneumonia', 'Stroke']"
      ]
     },
     "execution_count": 4,
     "metadata": {},
     "output_type": "execute_result"
    }
   ],
   "source": [
    "all_unique_causes = make_array('Heart Disease', 'Cancer', 'Stroke', 'Accidents', 'Influenza and Pneumonia')\n",
    "sorted(all_unique_causes)"
   ]
  },
  {
   "cell_type": "code",
   "execution_count": 5,
   "metadata": {
    "deletable": false,
    "editable": false
   },
   "outputs": [
    {
     "name": "stdout",
     "output_type": "stream",
     "text": [
      "~~~~~~~~~~~~~~~~~~~~~~~~~~~~~~~~~~~~~~~~~~~~~~~~~~~~~~~~~~~~~~~~~~~~~\n",
      "Running tests\n",
      "\n",
      "---------------------------------------------------------------------\n",
      "Test summary\n",
      "    Passed: 1\n",
      "    Failed: 0\n",
      "[ooooooooook] 100.0% passed\n",
      "\n"
     ]
    }
   ],
   "source": [
    "ok.grade(\"q1_1\");"
   ]
  },
  {
   "cell_type": "markdown",
   "metadata": {
    "deletable": false,
    "editable": false
   },
   "source": [
    "**Question 2:** We would like to plot the death rate for each disease over time. To do so, we must create a table with one column for each cause and one row for each year.\n",
    "\n",
    "Create a table called `causes_for_plotting`. It should have one column called `Year`, and then a column with age-adjusted death rates for each of the causes you found in Question 1. There should be as many of these columns in `causes_for_plotting` as there are causes in Question 1.\n",
    "\n",
    "*Hint*: Use `pivot`, and think about how the `first` function might be useful in getting the **Age Adjusted Death Rate** for each cause and year combination.\n",
    "\n",
    "<!--\n",
    "BEGIN QUESTION\n",
    "name: q1_2\n",
    "manual: false\n",
    "-->"
   ]
  },
  {
   "cell_type": "code",
   "execution_count": 6,
   "metadata": {
    "deletable": false
   },
   "outputs": [],
   "source": [
    "# This function may be useful for Question 2.\n",
    "def first(x):\n",
    "    return x.item(0)"
   ]
  },
  {
   "cell_type": "code",
   "execution_count": 7,
   "metadata": {
    "deletable": false,
    "for_assignment_type": "student",
    "manual_problem_id": "part_1_plot_causes"
   },
   "outputs": [
    {
     "data": {
      "text/html": [
       "<table border=\"1\" class=\"dataframe\">\n",
       "    <thead>\n",
       "        <tr>\n",
       "            <th>Year</th> <th>Accidents</th> <th>Cancer</th> <th>Heart Disease</th> <th>Influenza and Pneumonia</th> <th>Stroke</th>\n",
       "        </tr>\n",
       "    </thead>\n",
       "    <tbody>\n",
       "        <tr>\n",
       "            <td>1900</td> <td>90.3     </td> <td>114.8 </td> <td>265.4        </td> <td>297.5                  </td> <td>244.2 </td>\n",
       "        </tr>\n",
       "        <tr>\n",
       "            <td>1901</td> <td>109.3    </td> <td>118.1 </td> <td>272.6        </td> <td>312.9                  </td> <td>243.6 </td>\n",
       "        </tr>\n",
       "        <tr>\n",
       "            <td>1902</td> <td>93.6     </td> <td>119.7 </td> <td>285.2        </td> <td>219.3                  </td> <td>237.8 </td>\n",
       "        </tr>\n",
       "        <tr>\n",
       "            <td>1903</td> <td>106.9    </td> <td>125.2 </td> <td>304.5        </td> <td>251.1                  </td> <td>244.6 </td>\n",
       "        </tr>\n",
       "        <tr>\n",
       "            <td>1904</td> <td>112.8    </td> <td>127.9 </td> <td>331.5        </td> <td>291.2                  </td> <td>255.2 </td>\n",
       "        </tr>\n",
       "        <tr>\n",
       "            <td>1905</td> <td>108.5    </td> <td>132.5 </td> <td>327.8        </td> <td>257.8                  </td> <td>247.3 </td>\n",
       "        </tr>\n",
       "        <tr>\n",
       "            <td>1906</td> <td>121.2    </td> <td>128.8 </td> <td>325.5        </td> <td>222.5                  </td> <td>245.9 </td>\n",
       "        </tr>\n",
       "        <tr>\n",
       "            <td>1907</td> <td>122.3    </td> <td>133   </td> <td>356.5        </td> <td>285.4                  </td> <td>261.8 </td>\n",
       "        </tr>\n",
       "        <tr>\n",
       "            <td>1908</td> <td>108.8    </td> <td>134.5 </td> <td>328.6        </td> <td>234.6                  </td> <td>239   </td>\n",
       "        </tr>\n",
       "        <tr>\n",
       "            <td>1909</td> <td>108      </td> <td>138.1 </td> <td>329.2        </td> <td>221.2                  </td> <td>237.5 </td>\n",
       "        </tr>\n",
       "        <tr>\n",
       "            <td>1910</td> <td>111.2    </td> <td>143.1 </td> <td>345.1        </td> <td>238.4                  </td> <td>238.5 </td>\n",
       "        </tr>\n",
       "        <tr>\n",
       "            <td>1911</td> <td>113.5    </td> <td>140.4 </td> <td>341.8        </td> <td>234.1                  </td> <td>230.2 </td>\n",
       "        </tr>\n",
       "        <tr>\n",
       "            <td>1912</td> <td>107.1    </td> <td>144.7 </td> <td>346          </td> <td>213.7                  </td> <td>228.7 </td>\n",
       "        </tr>\n",
       "        <tr>\n",
       "            <td>1913</td> <td>108.2    </td> <td>147.8 </td> <td>337.9        </td> <td>214.8                  </td> <td>226.9 </td>\n",
       "        </tr>\n",
       "        <tr>\n",
       "            <td>1914</td> <td>100.4    </td> <td>146.6 </td> <td>346.4        </td> <td>202.4                  </td> <td>231.3 </td>\n",
       "        </tr>\n",
       "        <tr>\n",
       "            <td>1915</td> <td>95.2     </td> <td>149.5 </td> <td>361.5        </td> <td>238.1                  </td> <td>234.5 </td>\n",
       "        </tr>\n",
       "        <tr>\n",
       "            <td>1916</td> <td>104.3    </td> <td>152.2 </td> <td>373.3        </td> <td>278.5                  </td> <td>235.7 </td>\n",
       "        </tr>\n",
       "        <tr>\n",
       "            <td>1917</td> <td>107      </td> <td>150.7 </td> <td>377.9        </td> <td>267                    </td> <td>238.2 </td>\n",
       "        </tr>\n",
       "        <tr>\n",
       "            <td>1918</td> <td>99.9     </td> <td>148.4 </td> <td>366.2        </td> <td>612.4                  </td> <td>228   </td>\n",
       "        </tr>\n",
       "        <tr>\n",
       "            <td>1919</td> <td>86.9     </td> <td>152.1 </td> <td>335.7        </td> <td>270.9                  </td> <td>225.6 </td>\n",
       "        </tr>\n",
       "        <tr>\n",
       "            <td>1920</td> <td>87.5     </td> <td>159   </td> <td>375          </td> <td>279.2                  </td> <td>238.5 </td>\n",
       "        </tr>\n",
       "        <tr>\n",
       "            <td>1921</td> <td>83.2     </td> <td>163.5 </td> <td>366.2        </td> <td>153.1                  </td> <td>230.1 </td>\n",
       "        </tr>\n",
       "        <tr>\n",
       "            <td>1922</td> <td>85.4     </td> <td>165.6 </td> <td>392.1        </td> <td>207.6                  </td> <td>238.9 </td>\n",
       "        </tr>\n",
       "        <tr>\n",
       "            <td>1923</td> <td>91.2     </td> <td>168.8 </td> <td>410.3        </td> <td>253                    </td> <td>245.6 </td>\n",
       "        </tr>\n",
       "        <tr>\n",
       "            <td>1924</td> <td>89.6     </td> <td>170.6 </td> <td>410.5        </td> <td>182                    </td> <td>246.4 </td>\n",
       "        </tr>\n",
       "        <tr>\n",
       "            <td>1925</td> <td>92.2     </td> <td>174.3 </td> <td>433.8        </td> <td>198.1                  </td> <td>227.9 </td>\n",
       "        </tr>\n",
       "        <tr>\n",
       "            <td>1926</td> <td>89.8     </td> <td>177.3 </td> <td>465.7        </td> <td>233                    </td> <td>228.2 </td>\n",
       "        </tr>\n",
       "        <tr>\n",
       "            <td>1927</td> <td>86.3     </td> <td>177.8 </td> <td>448.8        </td> <td>164                    </td> <td>216.3 </td>\n",
       "        </tr>\n",
       "        <tr>\n",
       "            <td>1928</td> <td>86.1     </td> <td>177.8 </td> <td>478.9        </td> <td>236.4                  </td> <td>223.4 </td>\n",
       "        </tr>\n",
       "        <tr>\n",
       "            <td>1929</td> <td>84.3     </td> <td>175.3 </td> <td>476.2        </td> <td>247.5                  </td> <td>213.3 </td>\n",
       "        </tr>\n",
       "        <tr>\n",
       "            <td>1930</td> <td>84.2     </td> <td>174.5 </td> <td>467.9        </td> <td>159.8                  </td> <td>203.9 </td>\n",
       "        </tr>\n",
       "        <tr>\n",
       "            <td>1931</td> <td>81.2     </td> <td>175.8 </td> <td>459.6        </td> <td>170.2                  </td> <td>195   </td>\n",
       "        </tr>\n",
       "        <tr>\n",
       "            <td>1932</td> <td>76.6     </td> <td>179.2 </td> <td>482.8        </td> <td>180                    </td> <td>194.4 </td>\n",
       "        </tr>\n",
       "        <tr>\n",
       "            <td>1933</td> <td>76.2     </td> <td>178.2 </td> <td>483.8        </td> <td>156.5                  </td> <td>185   </td>\n",
       "        </tr>\n",
       "        <tr>\n",
       "            <td>1934</td> <td>82.7     </td> <td>181.6 </td> <td>502.9        </td> <td>152.9                  </td> <td>184.5 </td>\n",
       "        </tr>\n",
       "        <tr>\n",
       "            <td>1935</td> <td>80.8     </td> <td>183.4 </td> <td>506.8        </td> <td>163.8                  </td> <td>181.2 </td>\n",
       "        </tr>\n",
       "        <tr>\n",
       "            <td>1936</td> <td>92.4     </td> <td>186.8 </td> <td>546.2        </td> <td>186.7                  </td> <td>189.8 </td>\n",
       "        </tr>\n",
       "        <tr>\n",
       "            <td>1937</td> <td>81.8     </td> <td>184.6 </td> <td>538.8        </td> <td>181.8                  </td> <td>176.6 </td>\n",
       "        </tr>\n",
       "        <tr>\n",
       "            <td>1938</td> <td>76.5     </td> <td>185.7 </td> <td>528.9        </td> <td>124.3                  </td> <td>171.4 </td>\n",
       "        </tr>\n",
       "        <tr>\n",
       "            <td>1939</td> <td>74.7     </td> <td>187.1 </td> <td>534.5        </td> <td>124.4                  </td> <td>173.2 </td>\n",
       "        </tr>\n",
       "        <tr>\n",
       "            <td>1940</td> <td>76       </td> <td>187.8 </td> <td>558.5        </td> <td>117.6                  </td> <td>177.2 </td>\n",
       "        </tr>\n",
       "        <tr>\n",
       "            <td>1941</td> <td>72.7     </td> <td>184.1 </td> <td>537.9        </td> <td>104.6                  </td> <td>169.4 </td>\n",
       "        </tr>\n",
       "        <tr>\n",
       "            <td>1942</td> <td>75.6     </td> <td>183.8 </td> <td>531.7        </td> <td>84.7                   </td> <td>166.8 </td>\n",
       "        </tr>\n",
       "        <tr>\n",
       "            <td>1943</td> <td>82.1     </td> <td>183.9 </td> <td>567.5        </td> <td>101.7                  </td> <td>173.3 </td>\n",
       "        </tr>\n",
       "        <tr>\n",
       "            <td>1944</td> <td>77       </td> <td>183.8 </td> <td>541.1        </td> <td>94.7                   </td> <td>164.4 </td>\n",
       "        </tr>\n",
       "        <tr>\n",
       "            <td>1945</td> <td>74.9     </td> <td>186.9 </td> <td>533.2        </td> <td>74.9                   </td> <td>166.7 </td>\n",
       "        </tr>\n",
       "        <tr>\n",
       "            <td>1946</td> <td>69.4     </td> <td>187.1 </td> <td>527.7        </td> <td>69.9                   </td> <td>158.8 </td>\n",
       "        </tr>\n",
       "        <tr>\n",
       "            <td>1947</td> <td>69.9     </td> <td>190.7 </td> <td>552.5        </td> <td>65.9                   </td> <td>161.3 </td>\n",
       "        </tr>\n",
       "        <tr>\n",
       "            <td>1948</td> <td>68.6     </td> <td>193.4 </td> <td>549          </td> <td>58                     </td> <td>157.4 </td>\n",
       "        </tr>\n",
       "        <tr>\n",
       "            <td>1949</td> <td>57.6     </td> <td>193.9 </td> <td>581          </td> <td>45.1                   </td> <td>176.2 </td>\n",
       "        </tr>\n",
       "        <tr>\n",
       "            <td>1950</td> <td>78.4     </td> <td>193.9 </td> <td>588.8        </td> <td>48.1                   </td> <td>180.7 </td>\n",
       "        </tr>\n",
       "        <tr>\n",
       "            <td>1951</td> <td>79.7     </td> <td>192   </td> <td>577.9        </td> <td>47.4                   </td> <td>181.4 </td>\n",
       "        </tr>\n",
       "        <tr>\n",
       "            <td>1952</td> <td>78       </td> <td>194.2 </td> <td>568.8        </td> <td>43.1                   </td> <td>180.2 </td>\n",
       "        </tr>\n",
       "        <tr>\n",
       "            <td>1953</td> <td>75.4     </td> <td>194.6 </td> <td>570.1        </td> <td>49.2                   </td> <td>179.2 </td>\n",
       "        </tr>\n",
       "        <tr>\n",
       "            <td>1954</td> <td>69.9     </td> <td>194.3 </td> <td>544.6        </td> <td>36.2                   </td> <td>173.4 </td>\n",
       "        </tr>\n",
       "        <tr>\n",
       "            <td>1955</td> <td>70.9     </td> <td>194.5 </td> <td>556.7        </td> <td>39.2                   </td> <td>177.3 </td>\n",
       "        </tr>\n",
       "        <tr>\n",
       "            <td>1956</td> <td>70.2     </td> <td>195.6 </td> <td>560.6        </td> <td>40.8                   </td> <td>177.4 </td>\n",
       "        </tr>\n",
       "        <tr>\n",
       "            <td>1957</td> <td>69.1     </td> <td>195.4 </td> <td>568.5        </td> <td>50.3                   </td> <td>183   </td>\n",
       "        </tr>\n",
       "        <tr>\n",
       "            <td>1958</td> <td>63.6     </td> <td>192   </td> <td>563.6        </td> <td>47.4                   </td> <td>183   </td>\n",
       "        </tr>\n",
       "        <tr>\n",
       "            <td>1959</td> <td>63.2     </td> <td>191.6 </td> <td>552.1        </td> <td>44.3                   </td> <td>179   </td>\n",
       "        </tr>\n",
       "        <tr>\n",
       "            <td>1960</td> <td>63.1     </td> <td>193.9 </td> <td>559          </td> <td>53.7                   </td> <td>177.9 </td>\n",
       "        </tr>\n",
       "        <tr>\n",
       "            <td>1961</td> <td>60.6     </td> <td>193.4 </td> <td>545.3        </td> <td>43.4                   </td> <td>173.1 </td>\n",
       "        </tr>\n",
       "        <tr>\n",
       "            <td>1962</td> <td>62.9     </td> <td>193.3 </td> <td>556.9        </td> <td>47.1                   </td> <td>174   </td>\n",
       "        </tr>\n",
       "        <tr>\n",
       "            <td>1963</td> <td>64       </td> <td>194.7 </td> <td>563.4        </td> <td>55.6                   </td> <td>173.9 </td>\n",
       "        </tr>\n",
       "        <tr>\n",
       "            <td>1964</td> <td>64.1     </td> <td>193.6 </td> <td>543.3        </td> <td>45.4                   </td> <td>167   </td>\n",
       "        </tr>\n",
       "        <tr>\n",
       "            <td>1965</td> <td>65.8     </td> <td>195.6 </td> <td>542.5        </td> <td>46.8                   </td> <td>166.4 </td>\n",
       "        </tr>\n",
       "        <tr>\n",
       "            <td>1966</td> <td>67.6     </td> <td>196.5 </td> <td>541.2        </td> <td>47.9                   </td> <td>165.8 </td>\n",
       "        </tr>\n",
       "        <tr>\n",
       "            <td>1967</td> <td>66.2     </td> <td>197.3 </td> <td>524.7        </td> <td>42.2                   </td> <td>159.3 </td>\n",
       "        </tr>\n",
       "        <tr>\n",
       "            <td>1968</td> <td>65.5     </td> <td>198.8 </td> <td>531          </td> <td>52.8                   </td> <td>162.5 </td>\n",
       "        </tr>\n",
       "        <tr>\n",
       "            <td>1969</td> <td>64.9     </td> <td>198.5 </td> <td>516.8        </td> <td>47.9                   </td> <td>155.4 </td>\n",
       "        </tr>\n",
       "        <tr>\n",
       "            <td>1970</td> <td>62.2     </td> <td>198.6 </td> <td>492.7        </td> <td>41.7                   </td> <td>147.7 </td>\n",
       "        </tr>\n",
       "        <tr>\n",
       "            <td>1971</td> <td>60.3     </td> <td>199.3 </td> <td>492.9        </td> <td>38.4                   </td> <td>147.6 </td>\n",
       "        </tr>\n",
       "        <tr>\n",
       "            <td>1972</td> <td>60.2     </td> <td>200.3 </td> <td>490.2        </td> <td>41.3                   </td> <td>147.3 </td>\n",
       "        </tr>\n",
       "        <tr>\n",
       "            <td>1973</td> <td>59.3     </td> <td>200   </td> <td>482          </td> <td>41.2                   </td> <td>145.2 </td>\n",
       "        </tr>\n",
       "        <tr>\n",
       "            <td>1974</td> <td>52.7     </td> <td>201.5 </td> <td>458.8        </td> <td>35.5                   </td> <td>136.8 </td>\n",
       "        </tr>\n",
       "        <tr>\n",
       "            <td>1975</td> <td>50.8     </td> <td>200.1 </td> <td>431.2        </td> <td>34.9                   </td> <td>123.5 </td>\n",
       "        </tr>\n",
       "        <tr>\n",
       "            <td>1976</td> <td>48.7     </td> <td>202.5 </td> <td>426.9        </td> <td>38.8                   </td> <td>117.4 </td>\n",
       "        </tr>\n",
       "        <tr>\n",
       "            <td>1977</td> <td>48.8     </td> <td>203.5 </td> <td>413.7        </td> <td>31                     </td> <td>110.4 </td>\n",
       "        </tr>\n",
       "        <tr>\n",
       "            <td>1978</td> <td>48.9     </td> <td>204.9 </td> <td>409.9        </td> <td>34.5                   </td> <td>103.7 </td>\n",
       "        </tr>\n",
       "        <tr>\n",
       "            <td>1979</td> <td>46.5     </td> <td>204   </td> <td>401.6        </td> <td>26.1                   </td> <td>97.3  </td>\n",
       "        </tr>\n",
       "        <tr>\n",
       "            <td>1980</td> <td>46.4     </td> <td>207.9 </td> <td>412.1        </td> <td>31.4                   </td> <td>96.4  </td>\n",
       "        </tr>\n",
       "        <tr>\n",
       "            <td>1981</td> <td>43.4     </td> <td>206.4 </td> <td>397          </td> <td>30                     </td> <td>89.7  </td>\n",
       "        </tr>\n",
       "        <tr>\n",
       "            <td>1982</td> <td>40.1     </td> <td>208.3 </td> <td>389          </td> <td>26.5                   </td> <td>84.4  </td>\n",
       "        </tr>\n",
       "        <tr>\n",
       "            <td>1983</td> <td>39.1     </td> <td>209.1 </td> <td>388.9        </td> <td>29.8                   </td> <td>81.4  </td>\n",
       "        </tr>\n",
       "        <tr>\n",
       "            <td>1984</td> <td>38.8     </td> <td>210.8 </td> <td>378.8        </td> <td>30.6                   </td> <td>78.9  </td>\n",
       "        </tr>\n",
       "        <tr>\n",
       "            <td>1985</td> <td>38.5     </td> <td>211.3 </td> <td>375          </td> <td>34.5                   </td> <td>76.6  </td>\n",
       "        </tr>\n",
       "        <tr>\n",
       "            <td>1986</td> <td>38.6     </td> <td>211.5 </td> <td>365.1        </td> <td>34.8                   </td> <td>73.3  </td>\n",
       "        </tr>\n",
       "        <tr>\n",
       "            <td>1987</td> <td>38.2     </td> <td>211.7 </td> <td>355.9        </td> <td>33.8                   </td> <td>71.8  </td>\n",
       "        </tr>\n",
       "        <tr>\n",
       "            <td>1988</td> <td>38.9     </td> <td>212.5 </td> <td>352.5        </td> <td>37.3                   </td> <td>70.8  </td>\n",
       "        </tr>\n",
       "        <tr>\n",
       "            <td>1989</td> <td>37.7     </td> <td>214.2 </td> <td>332          </td> <td>35.9                   </td> <td>67.1  </td>\n",
       "        </tr>\n",
       "        <tr>\n",
       "            <td>1990</td> <td>36.2     </td> <td>216   </td> <td>321.8        </td> <td>36.8                   </td> <td>65.5  </td>\n",
       "        </tr>\n",
       "        <tr>\n",
       "            <td>1991</td> <td>34.7     </td> <td>215.2 </td> <td>313.8        </td> <td>34.9                   </td> <td>63.1  </td>\n",
       "        </tr>\n",
       "        <tr>\n",
       "            <td>1992</td> <td>33.2     </td> <td>213.5 </td> <td>306.1        </td> <td>33.1                   </td> <td>61.6  </td>\n",
       "        </tr>\n",
       "        <tr>\n",
       "            <td>1993</td> <td>34.2     </td> <td>213.5 </td> <td>309.9        </td> <td>35.2                   </td> <td>62.9  </td>\n",
       "        </tr>\n",
       "        <tr>\n",
       "            <td>1994</td> <td>34.2     </td> <td>211.7 </td> <td>299.7        </td> <td>33.9                   </td> <td>62.8  </td>\n",
       "        </tr>\n",
       "        <tr>\n",
       "            <td>1995</td> <td>34.4     </td> <td>209.8 </td> <td>296.3        </td> <td>33.8                   </td> <td>63.3  </td>\n",
       "        </tr>\n",
       "        <tr>\n",
       "            <td>1996</td> <td>34.5     </td> <td>206.7 </td> <td>288.3        </td> <td>33.2                   </td> <td>62.6  </td>\n",
       "        </tr>\n",
       "        <tr>\n",
       "            <td>1997</td> <td>34.2     </td> <td>203.5 </td> <td>280.4        </td> <td>33.6                   </td> <td>61.2  </td>\n",
       "        </tr>\n",
       "        <tr>\n",
       "            <td>1998</td> <td>34.5     </td> <td>200.7 </td> <td>272.4        </td> <td>34.6                   </td> <td>59.4  </td>\n",
       "        </tr>\n",
       "        <tr>\n",
       "            <td>1999</td> <td>35.3     </td> <td>200.8 </td> <td>266.5        </td> <td>23.5                   </td> <td>61.6  </td>\n",
       "        </tr>\n",
       "        <tr>\n",
       "            <td>2000</td> <td>34.9     </td> <td>199.6 </td> <td>257.6        </td> <td>23.7                   </td> <td>60.9  </td>\n",
       "        </tr>\n",
       "        <tr>\n",
       "            <td>2001</td> <td>35.7     </td> <td>196.5 </td> <td>249.5        </td> <td>22.2                   </td> <td>58.4  </td>\n",
       "        </tr>\n",
       "        <tr>\n",
       "            <td>2002</td> <td>37.1     </td> <td>194.3 </td> <td>244.6        </td> <td>23.2                   </td> <td>57.2  </td>\n",
       "        </tr>\n",
       "        <tr>\n",
       "            <td>2003</td> <td>37.6     </td> <td>190.9 </td> <td>236.3        </td> <td>22.6                   </td> <td>54.6  </td>\n",
       "        </tr>\n",
       "        <tr>\n",
       "            <td>2004</td> <td>38.1     </td> <td>186.8 </td> <td>221.6        </td> <td>20.4                   </td> <td>51.2  </td>\n",
       "        </tr>\n",
       "        <tr>\n",
       "            <td>2005</td> <td>39.5     </td> <td>185.1 </td> <td>216.8        </td> <td>21                     </td> <td>48    </td>\n",
       "        </tr>\n",
       "        <tr>\n",
       "            <td>2006</td> <td>40.2     </td> <td>181.8 </td> <td>205.5        </td> <td>18.4                   </td> <td>44.8  </td>\n",
       "        </tr>\n",
       "        <tr>\n",
       "            <td>2007</td> <td>40.4     </td> <td>179.3 </td> <td>196.1        </td> <td>16.8                   </td> <td>43.5  </td>\n",
       "        </tr>\n",
       "        <tr>\n",
       "            <td>2008</td> <td>39.2     </td> <td>176.4 </td> <td>192.1        </td> <td>17.6                   </td> <td>42.1  </td>\n",
       "        </tr>\n",
       "        <tr>\n",
       "            <td>2009</td> <td>37.5     </td> <td>173.5 </td> <td>182.8        </td> <td>16.5                   </td> <td>39.6  </td>\n",
       "        </tr>\n",
       "        <tr>\n",
       "            <td>2010</td> <td>38       </td> <td>172.8 </td> <td>179.1        </td> <td>15.1                   </td> <td>39.1  </td>\n",
       "        </tr>\n",
       "        <tr>\n",
       "            <td>2011</td> <td>39.1     </td> <td>169   </td> <td>173.7        </td> <td>15.7                   </td> <td>37.9  </td>\n",
       "        </tr>\n",
       "        <tr>\n",
       "            <td>2012</td> <td>39.1     </td> <td>166.5 </td> <td>170.5        </td> <td>14.5                   </td> <td>36.9  </td>\n",
       "        </tr>\n",
       "        <tr>\n",
       "            <td>2013</td> <td>39.4     </td> <td>163.2 </td> <td>169.8        </td> <td>15.9                   </td> <td>36.2  </td>\n",
       "        </tr>\n",
       "        <tr>\n",
       "            <td>2014</td> <td>40.5     </td> <td>161.2 </td> <td>167          </td> <td>15.1                   </td> <td>36.5  </td>\n",
       "        </tr>\n",
       "        <tr>\n",
       "            <td>2015</td> <td>43.2     </td> <td>158.5 </td> <td>168.5        </td> <td>15.2                   </td> <td>37.6  </td>\n",
       "        </tr>\n",
       "    </tbody>\n",
       "</table>"
      ],
      "text/plain": [
       "<IPython.core.display.HTML object>"
      ]
     },
     "metadata": {},
     "output_type": "display_data"
    }
   ],
   "source": [
    "diseases = Table().with_column('Cause', all_unique_causes)\n",
    "grouped_diseases = causes_of_death.join('Cause', diseases)\n",
    "causes_for_plotting = grouped_diseases.pivot('Cause', 'Year',values ='Age Adjusted Death Rate', collect = np.average)\n",
    "causes_for_plotting.show()"
   ]
  },
  {
   "cell_type": "markdown",
   "metadata": {},
   "source": [
    "Let's take a look at how age-adjusted death rates have changed across different causes over time. Run the cell below to compare Heart Disease (a chronic disease) and Influenza and Pneumonia (infectious diseases)."
   ]
  },
  {
   "cell_type": "code",
   "execution_count": 8,
   "metadata": {},
   "outputs": [
    {
     "data": {
      "image/png": "[encoded data removed]",
      "text/plain": [
       "<Figure size 432x432 with 1 Axes>"
      ]
     },
     "metadata": {},
     "output_type": "display_data"
    }
   ],
   "source": [
    "causes_for_plotting.select('Year', \"Heart Disease\", \"Influenza and Pneumonia\").plot('Year')"
   ]
  },
  {
   "cell_type": "markdown",
   "metadata": {
    "deletable": false,
    "editable": false
   },
   "source": [
    "**Question 3:** Beginning in 1900, we observe that death rates for Influenza and Pneumonia decrease while death rates for Heart Disease increase. What might have caused this shift?\n",
    "\n",
    "Assign `disease_trend_explanation` to an array of integers that correspond to possible explanations for these trends.\n",
    "\n",
    "1. People are living longer, allowing more time for chronic conditions to develop. \n",
    "2. A cure has not been discovered for influenza, so people are still dying at high rates from the flu.\n",
    "3. Improvements in sanitation, hygiene, and nutrition have reduced the transmission of viruses and bacteria that cause infectious diseases.\n",
    "4. People are more active, putting them at lower risk for conditions like heart disease and diabetes.\n",
    "5. Widespread adoption of vaccinations has reduced rates of infectious disease.\n",
    "6. The medical community has became more aware of chronic conditions, leading to more people being diagnosed with heart disease.\n",
    "\n",
    "*Hint:* Consider what contributes to the development of these diseases. What decreases the transmission of infections? Why do we see more lifestyle-related conditions like heart disease?\n",
    "\n",
    "<!--\n",
    "BEGIN QUESTION\n",
    "name: q1_3\n",
    "manual: true\n",
    "-->\n",
    "<!-- EXPORT TO PDF -->"
   ]
  },
  {
   "cell_type": "code",
   "execution_count": 9,
   "metadata": {
    "export_pdf": true
   },
   "outputs": [
    {
     "data": {
      "text/plain": [
       "array([1, 3, 6])"
      ]
     },
     "execution_count": 9,
     "metadata": {},
     "output_type": "execute_result"
    }
   ],
   "source": [
    "disease_trend_explanation = make_array(1,3,6)\n",
    "disease_trend_explanation"
   ]
  },
  {
   "cell_type": "code",
   "execution_count": 10,
   "metadata": {
    "deletable": false,
    "editable": false
   },
   "outputs": [
    {
     "name": "stdout",
     "output_type": "stream",
     "text": [
      "~~~~~~~~~~~~~~~~~~~~~~~~~~~~~~~~~~~~~~~~~~~~~~~~~~~~~~~~~~~~~~~~~~~~~\n",
      "Running tests\n",
      "\n",
      "---------------------------------------------------------------------\n",
      "Test summary\n",
      "    Passed: 1\n",
      "    Failed: 0\n",
      "[ooooooooook] 100.0% passed\n",
      "\n"
     ]
    }
   ],
   "source": [
    "ok.grade(\"q1_3\");"
   ]
  },
  {
   "cell_type": "markdown",
   "metadata": {},
   "source": [
    "This phenomenon is known as the epidemiological transition - in developed countries, the severity of infectious disease has decreased, but chronic disease has become more widespread. Coronary heart disease (CHD) is one of the most deadly chronic diseases that has emerged in the past century, and more healthcare resources have been invested to studying it.\n",
    "\n",
    "Run the cell below to see what a plot of the data would have looked like had you been living in 1950. CHD was the leading cause of death and had killed millions of people without warning. It had become twice as lethal in just a few decades and people didn't understand why this was happening."
   ]
  },
  {
   "cell_type": "code",
   "execution_count": 11,
   "metadata": {},
   "outputs": [
    {
     "data": {
      "image/png": "[encoded data removed]",
      "text/plain": [
       "<Figure size 432x432 with 1 Axes>"
      ]
     },
     "metadata": {},
     "output_type": "display_data"
    }
   ],
   "source": [
    "# Do not change this line\n",
    "causes_for_plotting.where('Year', are.below_or_equal_to(1950)).plot('Year')"
   ]
  },
  {
   "cell_type": "markdown",
   "metadata": {},
   "source": [
    "The view from 2016 looks a lot less scary, however, since we know it eventually went down. The decline in CHD deaths is one of the greatest public health triumphs of the last half century. That decline represents many millions of saved lives, and it was not inevitable. The Framingham Heart Study, in particular, was the first to discover the associations between heart disease and risk factors like smoking, high cholesterol, high blood pressure, obesity, and lack of exercise."
   ]
  },
  {
   "cell_type": "code",
   "execution_count": 12,
   "metadata": {
    "for_assignment_type": "solution",
    "scrolled": true
   },
   "outputs": [
    {
     "data": {
      "image/png": "[encoded data removed]",
      "text/plain": [
       "<Figure size 432x432 with 1 Axes>"
      ]
     },
     "metadata": {},
     "output_type": "display_data"
    }
   ],
   "source": [
    "# Do not change this line\n",
    "causes_for_plotting.plot('Year')"
   ]
  },
  {
   "cell_type": "markdown",
   "metadata": {},
   "source": [
    "Let's examine the graph above. You'll see that in the 1960s, the death rate due to heart disease steadily declines. Up until then, the effects of smoking, blood pressure, and diet on the cardiovascular system were unknown to researchers. Once these factors started to be noticed, doctors were able recommend a lifestyle change for at-risk patients to prevent heart attacks and heart problems.\n",
    "\n",
    "Note, however, that the death rate for heart disease is still higher than the death rates of all other causes. Even though the death rate is starkly decreasing, there's still a lot we don't understand about the causes (both direct and indirect) of heart disease."
   ]
  },
  {
   "cell_type": "markdown",
   "metadata": {},
   "source": [
    "## Part 2: The Framingham Heart Study"
   ]
  },
  {
   "cell_type": "markdown",
   "metadata": {},
   "source": [
    "The [Framingham Heart Study](https://en.wikipedia.org/wiki/Framingham_Heart_Study) is an observational study of cardiovascular health. The initial study followed over 5,000 volunteers for several decades, and followup studies even looked at their descendants. In this section, we'll investigate some of the study's key findings about cholesterol and heart disease.\n",
    "\n",
    "Run the cell below to examine data for almost 4,000 subjects from the first wave of the study, collected in 1956."
   ]
  },
  {
   "cell_type": "code",
   "execution_count": 13,
   "metadata": {},
   "outputs": [
    {
     "data": {
      "text/html": [
       "<table border=\"1\" class=\"dataframe\">\n",
       "    <thead>\n",
       "        <tr>\n",
       "            <th>AGE</th> <th>SYSBP</th> <th>DIABP</th> <th>TOTCHOL</th> <th>CURSMOKE</th> <th>DIABETES</th> <th>GLUCOSE</th> <th>DEATH</th> <th>ANYCHD</th>\n",
       "        </tr>\n",
       "    </thead>\n",
       "    <tbody>\n",
       "        <tr>\n",
       "            <td>39  </td> <td>106  </td> <td>70   </td> <td>195    </td> <td>0       </td> <td>0       </td> <td>77     </td> <td>0    </td> <td>1     </td>\n",
       "        </tr>\n",
       "        <tr>\n",
       "            <td>46  </td> <td>121  </td> <td>81   </td> <td>250    </td> <td>0       </td> <td>0       </td> <td>76     </td> <td>0    </td> <td>0     </td>\n",
       "        </tr>\n",
       "        <tr>\n",
       "            <td>48  </td> <td>127.5</td> <td>80   </td> <td>245    </td> <td>1       </td> <td>0       </td> <td>70     </td> <td>0    </td> <td>0     </td>\n",
       "        </tr>\n",
       "        <tr>\n",
       "            <td>61  </td> <td>150  </td> <td>95   </td> <td>225    </td> <td>1       </td> <td>0       </td> <td>103    </td> <td>1    </td> <td>0     </td>\n",
       "        </tr>\n",
       "        <tr>\n",
       "            <td>46  </td> <td>130  </td> <td>84   </td> <td>285    </td> <td>1       </td> <td>0       </td> <td>85     </td> <td>0    </td> <td>0     </td>\n",
       "        </tr>\n",
       "        <tr>\n",
       "            <td>43  </td> <td>180  </td> <td>110  </td> <td>228    </td> <td>0       </td> <td>0       </td> <td>99     </td> <td>0    </td> <td>1     </td>\n",
       "        </tr>\n",
       "        <tr>\n",
       "            <td>63  </td> <td>138  </td> <td>71   </td> <td>205    </td> <td>0       </td> <td>0       </td> <td>85     </td> <td>0    </td> <td>1     </td>\n",
       "        </tr>\n",
       "        <tr>\n",
       "            <td>45  </td> <td>100  </td> <td>71   </td> <td>313    </td> <td>1       </td> <td>0       </td> <td>78     </td> <td>0    </td> <td>0     </td>\n",
       "        </tr>\n",
       "        <tr>\n",
       "            <td>52  </td> <td>141.5</td> <td>89   </td> <td>260    </td> <td>0       </td> <td>0       </td> <td>79     </td> <td>0    </td> <td>0     </td>\n",
       "        </tr>\n",
       "        <tr>\n",
       "            <td>43  </td> <td>162  </td> <td>107  </td> <td>225    </td> <td>1       </td> <td>0       </td> <td>88     </td> <td>0    </td> <td>0     </td>\n",
       "        </tr>\n",
       "    </tbody>\n",
       "</table>\n",
       "<p>... (3832 rows omitted)</p>"
      ],
      "text/plain": [
       "AGE  | SYSBP | DIABP | TOTCHOL | CURSMOKE | DIABETES | GLUCOSE | DEATH | ANYCHD\n",
       "39   | 106   | 70    | 195     | 0        | 0        | 77      | 0     | 1\n",
       "46   | 121   | 81    | 250     | 0        | 0        | 76      | 0     | 0\n",
       "48   | 127.5 | 80    | 245     | 1        | 0        | 70      | 0     | 0\n",
       "61   | 150   | 95    | 225     | 1        | 0        | 103     | 1     | 0\n",
       "46   | 130   | 84    | 285     | 1        | 0        | 85      | 0     | 0\n",
       "43   | 180   | 110   | 228     | 0        | 0        | 99      | 0     | 1\n",
       "63   | 138   | 71    | 205     | 0        | 0        | 85      | 0     | 1\n",
       "45   | 100   | 71    | 313     | 1        | 0        | 78      | 0     | 0\n",
       "52   | 141.5 | 89    | 260     | 0        | 0        | 79      | 0     | 0\n",
       "43   | 162   | 107   | 225     | 1        | 0        | 88      | 0     | 0\n",
       "... (3832 rows omitted)"
      ]
     },
     "execution_count": 13,
     "metadata": {},
     "output_type": "execute_result"
    }
   ],
   "source": [
    "framingham = Table.read_table('framingham.csv')\n",
    "framingham"
   ]
  },
  {
   "cell_type": "markdown",
   "metadata": {},
   "source": [
    "Each row contains data from one subject. The first seven columns describe the subject at the time of their initial medical exam at the start of the study. The last column, `ANYCHD`, tells us whether the subject developed some form of heart disease at any point after the start of the study.\n",
    "\n",
    "You may have noticed that the table contains fewer rows than subjects in the original study - we are excluding subjects who already had heart disease or had missing data."
   ]
  },
  {
   "cell_type": "markdown",
   "metadata": {},
   "source": [
    "### Section 1: Diabetes and the Population"
   ]
  },
  {
   "cell_type": "markdown",
   "metadata": {},
   "source": [
    "Before we begin our investigation into cholesterol, we'll first look at some limitations of this dataset. In particular, we will investigate ways in which this is or isn't a representative sample of the population by examining the number of subjects with diabetes.\n",
    "\n",
    "[According to the CDC](https://www.cdc.gov/diabetes/statistics/slides/long_term_trends.pdf), the prevalence of diagnosed diabetes (i.e., the percentage of the population who have it) in the U.S. around this time was 0.93%. We are going to conduct a hypothesis test with the following null and alternative hypotheses:\n",
    "\n",
    "**Null Hypothesis**: The probability that a participant within the Framingham Study has diabetes is equivalent to the prevalence of diagnosed diabetes within the population. (i.e., any difference is due to chance).\n",
    "\n",
    "**Alternative Hypothesis**: The probability that a participant within the Framingham Study has diabetes is different than the prevalence of diagnosed diabetes within the population.\n",
    "\n",
    "We are going to use the absolute distance between the observed prevalence and the true population prevalence as our test statistic. The column `DIABETES` in the `framingham` table contains a 1 for subjects with diabetes and a `0` for those without."
   ]
  },
  {
   "cell_type": "markdown",
   "metadata": {
    "deletable": false,
    "editable": false
   },
   "source": [
    "**Question 1**: What is the observed value of the statistic in the data from the Framingham Study? You should convert prevalence values to proportions before calculating the statistic!\n",
    "\n",
    "<!--\n",
    "BEGIN QUESTION\n",
    "name: q2_1_1\n",
    "manual: false\n",
    "-->"
   ]
  },
  {
   "cell_type": "code",
   "execution_count": 14,
   "metadata": {
    "for_assignment_type": "solution",
    "scrolled": false
   },
   "outputs": [
    {
     "data": {
      "text/plain": [
       "0.01802951587714732"
      ]
     },
     "execution_count": 14,
     "metadata": {},
     "output_type": "execute_result"
    }
   ],
   "source": [
    "prop_diabetes = np.count_nonzero(framingham.column('DIABETES')) / framingham.num_rows\n",
    "observed_diabetes_distance = abs(prop_diabetes-.0093)\n",
    "observed_diabetes_distance\n"
   ]
  },
  {
   "cell_type": "code",
   "execution_count": 15,
   "metadata": {
    "deletable": false,
    "editable": false
   },
   "outputs": [
    {
     "name": "stdout",
     "output_type": "stream",
     "text": [
      "~~~~~~~~~~~~~~~~~~~~~~~~~~~~~~~~~~~~~~~~~~~~~~~~~~~~~~~~~~~~~~~~~~~~~\n",
      "Running tests\n",
      "\n",
      "---------------------------------------------------------------------\n",
      "Test summary\n",
      "    Passed: 1\n",
      "    Failed: 0\n",
      "[ooooooooook] 100.0% passed\n",
      "\n"
     ]
    }
   ],
   "source": [
    "ok.grade(\"q2_1_1\");"
   ]
  },
  {
   "cell_type": "markdown",
   "metadata": {
    "deletable": false,
    "editable": false
   },
   "source": [
    "**Question 2**: Define the function `diabetes_statistic` which should return exactly one simulated statistic of the absolute distance between the observed prevalence and the true population prevalence under the null hypothesis. Make sure that your simulated sample is the same size as your original sample.\n",
    "\n",
    "*Hint:* The array `diabetes_proportions` contains the proportions of the population without and with diabetes.\n",
    "\n",
    "<!--\n",
    "BEGIN QUESTION\n",
    "name: q2_1_2\n",
    "manual: false\n",
    "-->"
   ]
  },
  {
   "cell_type": "code",
   "execution_count": 16,
   "metadata": {},
   "outputs": [
    {
     "data": {
      "text/plain": [
       "array([ 0.9903696,  0.0096304])"
      ]
     },
     "execution_count": 16,
     "metadata": {},
     "output_type": "execute_result"
    }
   ],
   "source": [
    "sample_proportions(3842, make_array(.9907, .0093))"
   ]
  },
  {
   "cell_type": "code",
   "execution_count": 17,
   "metadata": {},
   "outputs": [
    {
     "data": {
      "text/plain": [
       "0.0027929724102030186"
      ]
     },
     "execution_count": 17,
     "metadata": {},
     "output_type": "execute_result"
    }
   ],
   "source": [
    "diabetes_proportions = make_array(.9907, .0093)\n",
    "\n",
    "def diabetes_statistic():\n",
    "    simulated_statistic =  sample_proportions(3842, diabetes_proportions).item(1)\n",
    "    abs_difference = abs(simulated_statistic - .0093)\n",
    "    return abs_difference\n",
    "diabetes_statistic()"
   ]
  },
  {
   "cell_type": "code",
   "execution_count": 18,
   "metadata": {
    "deletable": false,
    "editable": false
   },
   "outputs": [
    {
     "name": "stdout",
     "output_type": "stream",
     "text": [
      "~~~~~~~~~~~~~~~~~~~~~~~~~~~~~~~~~~~~~~~~~~~~~~~~~~~~~~~~~~~~~~~~~~~~~\n",
      "Running tests\n",
      "\n",
      "---------------------------------------------------------------------\n",
      "Test summary\n",
      "    Passed: 1\n",
      "    Failed: 0\n",
      "[ooooooooook] 100.0% passed\n",
      "\n"
     ]
    }
   ],
   "source": [
    "ok.grade(\"q2_1_2\");"
   ]
  },
  {
   "cell_type": "markdown",
   "metadata": {
    "deletable": false,
    "editable": false
   },
   "source": [
    "**Question 3**:  Complete the following code to simulate 5000 values of the statistic under the null hypothesis.\n",
    "\n",
    "<!--\n",
    "BEGIN QUESTION\n",
    "name: q2_1_3\n",
    "manual: false\n",
    "-->"
   ]
  },
  {
   "cell_type": "code",
   "execution_count": 19,
   "metadata": {
    "for_assignment_type": "solution",
    "scrolled": false
   },
   "outputs": [
    {
     "data": {
      "text/plain": [
       "array([  1.11124414e-03,   7.10723581e-04,   4.50442478e-04, ...,\n",
       "         7.01197293e-05,   9.71004685e-04,   8.50963040e-04])"
      ]
     },
     "execution_count": 19,
     "metadata": {},
     "output_type": "execute_result"
    }
   ],
   "source": [
    "diabetes_simulated_stats = make_array()\n",
    "\n",
    "for i in np.arange(5000): \n",
    "    values_under_null = diabetes_statistic()\n",
    "    diabetes_simulated_stats = np.append( diabetes_simulated_stats, values_under_null)\n",
    "    \n",
    "diabetes_simulated_stats"
   ]
  },
  {
   "cell_type": "code",
   "execution_count": 20,
   "metadata": {
    "deletable": false,
    "editable": false
   },
   "outputs": [
    {
     "name": "stdout",
     "output_type": "stream",
     "text": [
      "~~~~~~~~~~~~~~~~~~~~~~~~~~~~~~~~~~~~~~~~~~~~~~~~~~~~~~~~~~~~~~~~~~~~~\n",
      "Running tests\n",
      "\n",
      "---------------------------------------------------------------------\n",
      "Test summary\n",
      "    Passed: 1\n",
      "    Failed: 0\n",
      "[ooooooooook] 100.0% passed\n",
      "\n"
     ]
    }
   ],
   "source": [
    "ok.grade(\"q2_1_3\");"
   ]
  },
  {
   "cell_type": "markdown",
   "metadata": {
    "deletable": false,
    "editable": false
   },
   "source": [
    "**Question 4**: Run the following cell to generate a histogram of the simulated values of your statistic, along with the observed value.\n",
    "\n",
    "*Make sure to run the cell that draws the histogram, since it will be graded.*\n",
    "\n",
    "<!--\n",
    "BEGIN QUESTION\n",
    "name: q2_1_4\n",
    "manual: true\n",
    "-->\n",
    "<!-- EXPORT TO PDF -->"
   ]
  },
  {
   "cell_type": "code",
   "execution_count": 21,
   "metadata": {
    "export_pdf": true
   },
   "outputs": [
    {
     "name": "stderr",
     "output_type": "stream",
     "text": [
      "/opt/conda/lib/python3.9/site-packages/datascience/tables.py:5206: UserWarning: FixedFormatter should only be used together with FixedLocator\n",
      "  axis.set_xticklabels(ticks, rotation='vertical')\n"
     ]
    },
    {
     "data": {
      "image/png": "[encoded data removed]",
      "text/plain": [
       "<Figure size 432x288 with 1 Axes>"
      ]
     },
     "metadata": {},
     "output_type": "display_data"
    }
   ],
   "source": [
    "Table().with_column('Simulated distance to true prevalence', diabetes_simulated_stats).hist()\n",
    "plots.scatter(observed_diabetes_distance, 0, color='red', s=30);"
   ]
  },
  {
   "cell_type": "markdown",
   "metadata": {
    "deletable": false,
    "editable": false
   },
   "source": [
    "**Question 5**: Based on the historgram above, should you reject the null hypothesis?\n",
    "\n",
    "<!--\n",
    "BEGIN QUESTION\n",
    "name: q2_1_5\n",
    "manual: true\n",
    "-->\n",
    "<!-- EXPORT TO PDF -->"
   ]
  },
  {
   "cell_type": "markdown",
   "metadata": {
    "deletable": false,
    "export_pdf": true,
    "manual_problem_id": "part_2_null"
   },
   "source": [
    "We reject the Null Hypothesis. P-value 0, no area under graph at observed statistic,"
   ]
  },
  {
   "cell_type": "markdown",
   "metadata": {
    "deletable": false,
    "editable": false
   },
   "source": [
    "**Question 6**: Why might there be a difference between the population and the sample from the Framingham Study? Assuming that all these statements are true - what are possible explanations for the higher diabetes prevalence in the Framingham population?\n",
    "\n",
    "Assign the name `framingham_diabetes_explanations` to an array of the following explanations that **are possible and consistent** with the trends we observe in the data and our hypothesis test results. \n",
    "\n",
    "1. Diabetes was under-diagnosed in the population (i.e., there were a lot of people in the population who had diabetes but weren't diagnosed). By contrast, the Framingham participants were less likely to go undiagnosed because they had regular medical examinations as part of the study.\n",
    "2. The relatively wealthy population in Framingham ate a luxurious diet high in sugar (high-sugar diets are a known cause of diabetes).\n",
    "3. The Framingham Study subjects were older on average than the general population, and therefore more likely to have diabetes.\n",
    "\n",
    "<!--\n",
    "BEGIN QUESTION\n",
    "name: q2_1_6\n",
    "manual: false\n",
    "-->"
   ]
  },
  {
   "cell_type": "code",
   "execution_count": 22,
   "metadata": {
    "deletable": false,
    "manual_problem_id": "part_2_explanations"
   },
   "outputs": [
    {
     "data": {
      "text/plain": [
       "array([1])"
      ]
     },
     "execution_count": 22,
     "metadata": {},
     "output_type": "execute_result"
    }
   ],
   "source": [
    "framingham_diabetes_possibilities = make_array(1)\n",
    "framingham_diabetes_possibilities"
   ]
  },
  {
   "cell_type": "code",
   "execution_count": 23,
   "metadata": {
    "deletable": false,
    "editable": false
   },
   "outputs": [
    {
     "name": "stdout",
     "output_type": "stream",
     "text": [
      "~~~~~~~~~~~~~~~~~~~~~~~~~~~~~~~~~~~~~~~~~~~~~~~~~~~~~~~~~~~~~~~~~~~~~\n",
      "Running tests\n",
      "\n",
      "---------------------------------------------------------------------\n",
      "Test summary\n",
      "    Passed: 1\n",
      "    Failed: 0\n",
      "[ooooooooook] 100.0% passed\n",
      "\n"
     ]
    }
   ],
   "source": [
    "ok.grade(\"q2_1_6\");"
   ]
  },
  {
   "cell_type": "markdown",
   "metadata": {},
   "source": [
    "In real-world studies, getting a truly representative random sample of the population is often incredibly difficult. Even just to accurately represent all Americans, a truly random sample would need to examine people across geographical, socioeconomic, community, and class lines (just to name a few). For a study like this, scientists would also need to make sure the medical exams were standardized and consistent across the different people being examined. In other words, there's a tradeoff between taking a more representative random sample and the cost of collecting more information from each person in the sample.\n",
    "\n",
    "The Framingham study collected high-quality medical data from its subjects, even if the subjects may not be a perfect representation of the population of all Americans. This is a common issue that data scientists face: while the available data aren't perfect, they're the best we have. The Framingham study is generally considered the best in its class, so we'll continue working with it while keeping its limitations in mind.\n",
    "\n",
    "(For more on representation in medical study samples, you can read these recent articles from [NPR](https://www.npr.org/sections/health-shots/2015/12/16/459666750/clinical-trials-still-dont-reflect-the-diversity-of-america) and [Scientific American](https://www.scientificamerican.com/article/clinical-trials-have-far-too-little-racial-and-ethnic-diversity/))."
   ]
  },
  {
   "cell_type": "markdown",
   "metadata": {},
   "source": [
    "### Section 2: Cholesterol and Heart Disease"
   ]
  },
  {
   "cell_type": "markdown",
   "metadata": {},
   "source": [
    "In the remainder of this question, we are going to examine one of the main findings of the Framingham study: an association between serum cholesterol (i.e., how much cholesterol is in someone's blood) and whether or not that person develops heart disease.\n",
    "\n",
    "We'll use the following null and alternative hypotheses:\n",
    "\n",
    "**Null Hypothesis:** In the population, the distribution of cholesterol levels among those who get heart disease is the same as the distribution of cholesterol levels\n",
    "among those who do not.\n",
    "\n",
    "**Alternative Hypothesis:** The cholesterol levels of people in the population who get\n",
    "heart disease are higher, on average, than the cholesterol level of people who do not."
   ]
  },
  {
   "cell_type": "markdown",
   "metadata": {
    "deletable": false,
    "editable": false
   },
   "source": [
    "**Question 1:** From the provided Null and Alternative Hypotheses, does it seem reasonable to use A/B Testing to determine which model is more consistent? Assign the variable `ab_reasonable` to `True` if it seems reasonable and `False` otherwise.\n",
    "\n",
    "<!--\n",
    "BEGIN QUESTION\n",
    "name: q2_2_1\n",
    "manual: false\n",
    "-->"
   ]
  },
  {
   "cell_type": "code",
   "execution_count": 24,
   "metadata": {
    "deletable": false,
    "manual_problem_id": "part_2_reasonable_test"
   },
   "outputs": [
    {
     "data": {
      "text/plain": [
       "True"
      ]
     },
     "execution_count": 24,
     "metadata": {},
     "output_type": "execute_result"
    }
   ],
   "source": [
    "ab_reasonable = True\n",
    "ab_reasonable"
   ]
  },
  {
   "cell_type": "code",
   "execution_count": 25,
   "metadata": {
    "deletable": false,
    "editable": false
   },
   "outputs": [
    {
     "name": "stdout",
     "output_type": "stream",
     "text": [
      "~~~~~~~~~~~~~~~~~~~~~~~~~~~~~~~~~~~~~~~~~~~~~~~~~~~~~~~~~~~~~~~~~~~~~\n",
      "Running tests\n",
      "\n",
      "---------------------------------------------------------------------\n",
      "Test summary\n",
      "    Passed: 1\n",
      "    Failed: 0\n",
      "[ooooooooook] 100.0% passed\n",
      "\n"
     ]
    }
   ],
   "source": [
    "ok.grade(\"q2_2_1\");"
   ]
  },
  {
   "cell_type": "markdown",
   "metadata": {
    "deletable": false,
    "editable": false
   },
   "source": [
    "**Question 2:** Now that we have a null hypothesis, we need a test statistic. Explain and justify your choice of test statistic in two sentences or less.\n",
    "\n",
    "*Hint*: Remember that larger values of the test statistic should favor the alternative over the null.\n",
    "\n",
    "<!--\n",
    "BEGIN QUESTION\n",
    "name: q2_2_2\n",
    "manual: true\n",
    "-->\n",
    "<!-- EXPORT TO PDF -->"
   ]
  },
  {
   "cell_type": "markdown",
   "metadata": {
    "deletable": false,
    "export_pdf": true,
    "manual_problem_id": "part_2_ts"
   },
   "source": [
    "Reasonable test statistic, e.g. difference between average cholesterol levels of those who get heart disease and those who don’t. DIRECTIONALITY is important here! "
   ]
  },
  {
   "cell_type": "markdown",
   "metadata": {
    "deletable": false,
    "editable": false
   },
   "source": [
    "**Question 3**: Write a function that computes your test statistic. It should take a table with two columns, `TOTCHOL` (total serum cholesterol) and `ANYCHD` (whether or not the person had coronary heart disease), and compute the test statistic you described above. \n",
    "\n",
    "Use the function you defined to compute the observed test statistic, and assign it to the name `framingham_observed_statistic`.\n",
    "\n",
    "<!--\n",
    "BEGIN QUESTION\n",
    "name: q2_2_3\n",
    "manual: false\n",
    "-->"
   ]
  },
  {
   "cell_type": "code",
   "execution_count": null,
   "metadata": {},
   "outputs": [],
   "source": []
  },
  {
   "cell_type": "code",
   "execution_count": null,
   "metadata": {},
   "outputs": [],
   "source": []
  },
  {
   "cell_type": "code",
   "execution_count": 26,
   "metadata": {
    "for_assignment_type": "solution"
   },
   "outputs": [
    {
     "data": {
      "text/plain": [
       "16.635919905689406"
      ]
     },
     "execution_count": 26,
     "metadata": {},
     "output_type": "execute_result"
    }
   ],
   "source": [
    "def compute_framingham_test_statistic(tbl):\n",
    "    filtered_table = tbl.select('TOTCHOL', \"ANYCHD\")\n",
    "    means = filtered_table.group(\"ANYCHD\", np.average).column(1)\n",
    "    diff = means.item(1)-means.item(0)    \n",
    "    return diff \n",
    "framingham_observed_statistic = compute_framingham_test_statistic(framingham)\n",
    "framingham_observed_statistic"
   ]
  },
  {
   "cell_type": "code",
   "execution_count": 27,
   "metadata": {
    "deletable": false,
    "editable": false
   },
   "outputs": [
    {
     "name": "stdout",
     "output_type": "stream",
     "text": [
      "~~~~~~~~~~~~~~~~~~~~~~~~~~~~~~~~~~~~~~~~~~~~~~~~~~~~~~~~~~~~~~~~~~~~~\n",
      "Running tests\n",
      "\n",
      "---------------------------------------------------------------------\n",
      "Test summary\n",
      "    Passed: 2\n",
      "    Failed: 0\n",
      "[ooooooooook] 100.0% passed\n",
      "\n"
     ]
    }
   ],
   "source": [
    "ok.grade(\"q2_2_3\");"
   ]
  },
  {
   "cell_type": "markdown",
   "metadata": {
    "deletable": false,
    "editable": false
   },
   "source": [
    "Now that we have defined hypotheses and a test statistic, we are ready to conduct a hypothesis test. We'll start by defining a function to simulate the test statistic under the null hypothesis, and then use that function 1000 times to understand the distribution under the null hypothesis.\n",
    "\n",
    "**Question 4**: Write a function to simulate the test statistic under the null hypothesis. \n",
    "\n",
    "The `simulate_framingham_null` function should simulate the null hypothesis once (not 1000 times) and return the value of the test statistic for that simulated sample.\n",
    "\n",
    "<!--\n",
    "BEGIN QUESTION\n",
    "name: q2_2_4\n",
    "manual: false\n",
    "-->"
   ]
  },
  {
   "cell_type": "code",
   "execution_count": 28,
   "metadata": {},
   "outputs": [],
   "source": [
    "#s= framingham.select('TOTCHOL', 'ANYCHD')\n",
    "#shuffled_labels = s.sample(with_replacement = False).column(1)\n",
    "#.column(1) #array of labels (T/F)\n",
    "    #original_and_shuffled = tbl.with_column(grouped_label, shuffled_labels) #replacing array\n",
    "    #statistic_under_null = compute_framingham_test_statistic(original_and_shuffled)\n",
    "#p = s.with_column('ANYCHD', shuffled_labels )\n",
    "#compute_framingham_test_statistic(p)"
   ]
  },
  {
   "cell_type": "code",
   "execution_count": 29,
   "metadata": {
    "for_assignment_type": "solution"
   },
   "outputs": [
    {
     "data": {
      "text/plain": [
       "-0.22471863621316857"
      ]
     },
     "execution_count": 29,
     "metadata": {},
     "output_type": "execute_result"
    }
   ],
   "source": [
    "def simulate_framingham_null():\n",
    "    s= framingham.select('TOTCHOL', 'ANYCHD')\n",
    "    shuffled_labels = s.sample(with_replacement = False).column(1) #array of labels (T/F)\n",
    "    original_and_shuffled = s.with_column('ANYCHD', shuffled_labels) #replacing array\n",
    "    statistic_under_null = compute_framingham_test_statistic(original_and_shuffled)\n",
    "    return statistic_under_null\n",
    "# Run your function once to make sure that it works.\n",
    "simulate_framingham_null()"
   ]
  },
  {
   "cell_type": "code",
   "execution_count": 30,
   "metadata": {
    "deletable": false,
    "editable": false
   },
   "outputs": [
    {
     "name": "stdout",
     "output_type": "stream",
     "text": [
      "~~~~~~~~~~~~~~~~~~~~~~~~~~~~~~~~~~~~~~~~~~~~~~~~~~~~~~~~~~~~~~~~~~~~~\n",
      "Running tests\n",
      "\n",
      "---------------------------------------------------------------------\n",
      "Test summary\n",
      "    Passed: 2\n",
      "    Failed: 0\n",
      "[ooooooooook] 100.0% passed\n",
      "\n"
     ]
    }
   ],
   "source": [
    "ok.grade(\"q2_2_4\");"
   ]
  },
  {
   "cell_type": "markdown",
   "metadata": {
    "deletable": false,
    "editable": false
   },
   "source": [
    "**Question 5**: Fill in the blanks below to complete the simulation for the hypothesis test. Your simulation should compute 1000 values of the test statistic under the null hypothesis and store the result in the array `framingham_simulated_stats`.\n",
    "\n",
    "*Hint*: You should use the function you wrote above in Question 4.\n",
    "\n",
    "*Note*: Warning: running your code might take a few minutes!  We encourage you to check your `simulate_framingham_null()` code to make sure it works correctly before running this cell. \n",
    "\n",
    "<!--\n",
    "BEGIN QUESTION\n",
    "name: q2_2_5\n",
    "manual: false\n",
    "-->"
   ]
  },
  {
   "cell_type": "code",
   "execution_count": 31,
   "metadata": {
    "for_assignment_type": "solution"
   },
   "outputs": [
    {
     "data": {
      "text/plain": [
       "array([-1.36958542, -0.06156466,  0.25637642,  0.32470586, -0.57054928,\n",
       "        1.80424746,  0.23127581,  0.13645127,  0.05836048, -0.94705846,\n",
       "       -0.91916889, -3.24794784, -1.40863081,  0.23545924,  1.61599287,\n",
       "       -0.05319779, -0.59286094, -1.10463452,  1.13489782, -0.718364  ,\n",
       "        2.79293266,  0.36793469, -0.38647813,  0.45020892,  3.17223079,\n",
       "        2.72320874,  1.25342849,  0.2703212 ,  0.3288893 , -0.25818612,\n",
       "       -1.08790078,  0.56176719,  1.25203401, -2.32201418,  3.31028415,\n",
       "       -0.05319779, -0.46735788,  1.55463582, -0.6597959 , -1.31798972,\n",
       "        1.47933399,  0.58965676,  1.69687262, -2.33317   , -2.32201418,\n",
       "       -1.1771474 , -0.0978211 ,  1.04983464, -0.6793186 ,  0.22011998,\n",
       "       -0.92893024,  0.76954448,  0.97313832,  0.72492117,  2.26581982,\n",
       "        0.3219169 ,  0.84205735,  0.39442978,  1.72197323, -1.6805541 ,\n",
       "        2.0148137 , -0.93869159,  0.60778498, -2.56465342,  1.88233825,\n",
       "       -0.08805975,  0.34562304, -0.72394191,  0.85042422, -0.30002047,\n",
       "       -0.25679164, -0.55521002,  3.01047129,  1.00521133,  0.38187948,\n",
       "       -0.4659634 , -2.1588602 ,  3.91967122, -1.56062896, -0.14104993,\n",
       "       -3.51429322,  0.10298379,  0.08764453, -1.90227617,  1.13210886,\n",
       "        2.00644683,  2.75667622, -0.4143677 ,  0.6454359 ,  1.47515055,\n",
       "       -0.81318853, -1.08511182,  2.69810813, -0.42412905, -0.65561247,\n",
       "        2.06780388,  0.84902975,  0.6454359 , -1.07116704,  0.23267028,\n",
       "       -0.89127932, -0.04064749, -0.06435362, -0.82016092, -1.83952464,\n",
       "       -0.0657481 ,  0.78767269,  0.9103868 ,  1.45562786, -0.61935603,\n",
       "       -1.80605716, -0.12571067,  0.24522059, -1.38213572, -0.41855114,\n",
       "        0.54642793,  1.90046647, -1.3319345 , -1.16180813,  0.43626413,\n",
       "        0.52690523,  2.95887559, -0.03646405,  1.1488426 ,  0.03186539,\n",
       "       -0.13128858,  0.21593654, -0.42412905, -0.8731511 , -1.02096581,\n",
       "        0.3414396 ,  1.1167696 ,  1.33570271, -1.76422281,  2.04549223,\n",
       "        0.33028377, -1.47138234,  2.89891302, -0.57333824,  2.77619892,\n",
       "        0.71097638, -0.2721309 ,  0.12111201, -1.53971178, -0.89546275,\n",
       "        0.6775089 ,  1.05959599, -0.29862599, -0.64166768,  0.13087336,\n",
       "        1.07911868,  0.09880036,  2.50427563, -0.69605234,  1.10561377,\n",
       "       -0.63608977,  0.41953039, -2.01801788,  1.02891746,  0.26474329,\n",
       "       -0.49245849, -3.18101288, -3.08339939, -1.63871975,  0.97174385,\n",
       "       -2.6497166 ,  1.72615667,  2.0664094 ,  0.98429415, -3.28838772,\n",
       "        1.48630638,  0.24522059, -0.82992227,  0.25637642,  0.17828563,\n",
       "        0.92433158, -0.6472456 ,  0.6063905 ,  1.50582908, -0.03506957,\n",
       "        4.19298899,  0.32749482,  0.60220707, -0.18288428, -0.32512108,\n",
       "       -0.25818612, -1.26360506,  2.32578239,  1.59925913,  0.9229371 ,\n",
       "       -1.0474609 ,  0.69005921, -0.79924374,  1.5044346 , -2.67760617,\n",
       "       -0.81737196, -3.10571105,  2.78596027,  0.54642793, -0.15360024,\n",
       "       -2.13654855, -1.50484982,  1.607626  , -1.72517741,  0.33586169,\n",
       "       -1.23432101, -1.48393265, -0.24703029,  1.5239573 ,  3.38140255,\n",
       "        1.60204809, -0.41576218, -1.42815351, -0.50919223,  0.24103716,\n",
       "       -2.05427432,  0.19501937,  1.04983464, -0.22192968, -0.59425542,\n",
       "        1.6857168 , -3.26468159, -1.93016574, -2.54931416, -0.32093765,\n",
       "        1.12374199, -1.86880869,  1.42634381, -1.07535047, -0.82573883,\n",
       "        2.40526766,  0.84066287,  0.45299787,  2.38713944, -0.41157874,\n",
       "       -1.72936085, -1.22316518,  0.77651687,  2.48196397, -2.37500436,\n",
       "        0.72771012, -1.15204678,  1.10700825,  0.2187255 ,  0.13366232,\n",
       "       -0.04761988, -0.94566398,  1.0972469 ,  3.87644239, -0.04761988,\n",
       "       -0.72254743,  2.17936215,  0.84066287, -0.39623948,  1.20601622,\n",
       "       -0.79784927,  3.27123876, -2.27878534, -0.06295914,  2.51403698,\n",
       "        1.82237568, -1.89251482,  1.29386836, -0.11316036,  2.66324617,\n",
       "        1.3426751 , -0.81039957,  0.78627822,  3.58778536, -0.63469529,\n",
       "       -1.8423136 ,  1.32873032,  0.72352669,  3.66448167, -0.90243515,\n",
       "       -1.50345534, -0.58588855, -0.56078793, -2.24531786, -1.43652038,\n",
       "       -2.55070864,  1.03867881,  1.41518798, -1.52297804, -0.16475606,\n",
       "       -0.8215554 , -0.60541124,  0.79603957, -1.01678238, -1.00562655,\n",
       "       -1.80605716,  1.79727507,  1.39566528, -3.46269752, -2.86725524,\n",
       "       -0.6793186 ,  0.21733102, -0.48269714,  1.4207659 , -5.34384891,\n",
       "        2.32299343,  1.21717205, -0.59425542, -1.73493876, -0.04901436,\n",
       "        0.48507088,  2.22398546,  1.18091561, -0.89825171, -0.0782984 ,\n",
       "        1.91998917,  2.41502901,  0.43626413, -2.0040731 ,  0.42650278,\n",
       "       -1.75306698, -1.88693691,  2.21282964, -1.87857004, -2.23555651,\n",
       "        1.28410701,  0.61475737,  1.32315241,  2.35506644, -0.89825171,\n",
       "       -1.74748907, -0.96797563, -2.6371663 , -0.51198119, -0.21356281,\n",
       "        0.20617519, -0.50779775, -2.69015648,  2.36482778,  0.30239421,\n",
       "       -1.69868232, -1.46859338,  0.77372791,  1.40542663, -0.67095173,\n",
       "       -2.14352094,  0.20756967, -1.18411979,  1.77914685, -1.19388114,\n",
       "        1.47515055,  0.79185613,  0.98987207, -0.52034806,  1.18509904,\n",
       "        2.75946518,  0.37072365,  3.32980685, -0.74067565, -0.11594932,\n",
       "        0.96477145,  3.96987244,  0.70539847, -0.55242106, -0.87872901,\n",
       "       -0.91916889,  0.18246906,  2.81106088, -2.3917381 ,  0.77372791,\n",
       "        1.95485113, -0.58031063, -0.68629099,  0.43905309,  0.14481814,\n",
       "        3.34096268, -2.41126079,  3.36606329, -0.07550945,  1.54905791,\n",
       "       -1.4867216 , -0.82852779,  0.06114944, -0.21216833,  0.33865064,\n",
       "        2.14450019,  0.49622671,  0.86576349,  1.55742478,  2.1765732 ,\n",
       "        4.13720985,  1.12513647,  1.19625487,  0.42092487,  0.04581018,\n",
       "        0.36932917,  1.79169716,  0.92572606, -1.11021243,  0.75420521,\n",
       "        0.38885187,  0.84205735,  1.83353151, -2.94674051,  2.67161304,\n",
       "        1.14744813, -1.99012831,  0.16991876,  1.08609108,  2.20446277,\n",
       "        2.09987689, -0.61238364, -0.3111763 ,  0.3219169 , -1.39608051,\n",
       "       -3.34556133,  1.58113091,  1.20183278,  3.34235715,  4.15673255,\n",
       "       -0.69326338,  0.51853836, -0.43946831, -2.12818168,  1.78611924,\n",
       "       -1.14786335, -0.70163025, -2.62740495,  1.47375608, -2.05287984,\n",
       "        0.50877701,  0.51714388,  1.57973644, -2.40986632, -1.13391856,\n",
       "        0.94524876,  0.49762118, -1.90924856, -3.45851409, -0.80342718,\n",
       "        1.93253948,  1.89070512,  1.0846966 , -0.14383889,  1.32733584,\n",
       "        0.2187255 ,  0.78488374, -0.05738123,  2.76643757, -1.53273939,\n",
       "       -0.24703029,  0.33307273,  1.61041496, -0.94566398,  1.61878183,\n",
       "        0.50877701, -0.41715666, -0.42412905,  0.13087336, -0.74764804,\n",
       "       -2.90351168, -1.53413387, -0.9247468 ,  1.44726099, -0.92753576,\n",
       "       -2.49074606,  1.44865546, -2.28575774,  0.96058802,  1.53092969,\n",
       "       -0.36695543, -0.97773698, -1.3835302 , -0.19404011,  3.15968048,\n",
       "       -0.03785853,  1.3301248 ,  3.86110313, -1.2412934 ,  0.87273588,\n",
       "       -0.24703029, -1.84370808, -0.00578552, -2.22300621,  3.25729397,\n",
       "        1.26876775,  1.11955856,  0.94943219, -0.47572475, -1.5773627 ,\n",
       "        2.45267992, -0.30978182, -0.24842477, -0.2010125 , -1.27197193,\n",
       "        1.37893154, -0.54963211,  1.53232417, -1.01678238, -1.82139642,\n",
       "        1.14047573, -1.01678238, -0.50221984,  1.2980518 , -2.0556688 ,\n",
       "       -1.94271605,  2.43036827, -2.89932824, -0.60262229, -2.08495284,\n",
       "       -1.36679646, -1.49787743,  0.84345183,  3.57802401, -2.55489207,\n",
       "       -2.14352094, -1.42118112,  1.16139291,  0.29960525, -1.52995043,\n",
       "       -2.38894914,  2.71344739,  3.64635345,  0.49901566, -1.63314184,\n",
       "       -2.78079757, -1.24966027,  0.17549667, -0.05738123,  0.380485  ,\n",
       "        0.1796801 ,  0.61057394, -0.14244441,  1.67456097,  0.63288559,\n",
       "       -1.36679646,  0.28844942,  0.60499602, -1.1185793 , -0.5956499 ,\n",
       "        0.73189356, -0.43249592,  0.34422856,  1.70942293, -1.77956207,\n",
       "       -1.79769029,  1.58531435,  2.49590876,  1.77635789, -1.21758727,\n",
       "        1.43052724, -0.45620205,  0.41813591, -1.42536455, -0.77274865,\n",
       "       -0.70163025, -0.9121965 ,  3.11366269,  1.33430823,  0.59384019,\n",
       "       -1.40863081,  1.02473403,  2.09290449, -1.4156032 , -1.99849518,\n",
       "        0.03883778, -2.78358653,  2.21004068, -1.03630508,  2.16262841,\n",
       "        1.8209812 , -0.38926709, -0.77553761, -1.97200009,  0.69005921,\n",
       "        0.72771012,  2.5251928 ,  0.44741996, -4.04001159, -0.53150389,\n",
       "        1.39984872,  1.54069104,  1.01497268,  0.62730768, -0.3111763 ,\n",
       "        0.10577275,  3.75651724,  0.11135066, -1.88833139, -0.91498545,\n",
       "       -3.14196748,  0.90480888, -1.38492468, -3.07084909,  0.23267028,\n",
       "       -1.36261302,  3.78022338,  1.07911868,  1.33988615, -2.86167732,\n",
       "       -0.91777441, -0.61238364, -1.97200009, -0.19125115, -1.03212164,\n",
       "        0.4641537 ,  2.04828118, -2.16862155,  3.34235715,  0.13645127,\n",
       "       -1.03072716, -1.05722225,  0.9034144 , -0.52313702,  1.29526284,\n",
       "        2.56981611, -0.62214499, -1.79350686,  0.41674144, -0.55799898,\n",
       "        0.02907644,  0.87552483,  0.77093895, -3.57146684, -0.84247258,\n",
       "        0.95082667, -0.09642662, -2.96486873, -1.95526635,  1.07493525,\n",
       "       -0.74067565,  2.99234307,  4.50116872,  0.98847759, -1.26778849,\n",
       "        2.92680259, -0.27491986, -2.18117186, -3.50592635, -0.49664193,\n",
       "       -0.07272049, -0.54405419,  0.92990949,  1.96182352,  0.57710645,\n",
       "       -0.99725968,  3.44554856,  1.3426751 , -1.13391856,  1.97576831,\n",
       "        3.34375163, -2.5465252 ,  2.00784131,  0.35259543, -0.35858856,\n",
       "       -0.81597749,  1.90604439, -0.43110144, -3.08200491,  1.6145984 ,\n",
       "       -1.80605716, -1.87717556,  0.97034937,  0.79603957, -1.02933268,\n",
       "       -0.75880387,  0.31355003,  0.38606291,  0.80301196, -2.49074606,\n",
       "       -0.35858856,  1.34685854,  1.91998917, -0.95542533,  0.93409293,\n",
       "       -1.20643144, -0.19125115,  1.8795493 ,  3.31586206,  0.61894081,\n",
       "        0.16573532,  2.42757931,  0.88807514, -0.86060079,  1.66758858,\n",
       "       -2.75709144,  0.92014814,  0.86576349,  2.23932473, -0.22192968,\n",
       "        0.69842608,  1.52953521, -0.29444256,  1.30502419, -0.11316036,\n",
       "        0.89923097, -0.47433027, -0.03367509,  0.69284816,  0.69005921,\n",
       "       -0.72812534,  0.22569789, -1.06558912, -2.23137308, -2.31643626,\n",
       "       -2.13654855, -1.63732527,  1.19625487, -0.29583704,  0.94106532,\n",
       "        1.60065361,  1.75404624,  0.80858987,  0.34422856, -3.73043738,\n",
       "       -1.92319335, -0.00578552, -0.16196711,  0.12390097, -2.0556688 ,\n",
       "        0.03604883, -2.8435491 ,  0.74026043,  0.37769604,  1.01636716,\n",
       "        1.36917019, -1.3514572 ,  1.59089226,  0.4836764 , -1.68473754,\n",
       "        2.5642382 , -1.89251482, -0.94008606,  1.97716278, -0.41855114,\n",
       "       -1.52158356, -1.78513999,  3.94477183, -0.76856522,  0.70679295,\n",
       "       -0.2010125 ,  0.4836764 ,  0.12668992, -2.53536937,  0.93688189,\n",
       "       -1.60525227, -1.72099398,  0.6579862 ,  0.46554818,  1.40263768,\n",
       "        3.20709275, -0.28607569, -2.83378775, -3.98841588,  1.8920996 ,\n",
       "       -1.38631916,  0.18944145, -0.2526082 , -1.69589337, -2.1909332 ,\n",
       "       -0.3822947 , -0.9763425 , -3.75832695, -1.45604308, -1.23571549,\n",
       "        2.55726581, -1.58154614,  2.22259099,  0.29681629,  0.5031991 ,\n",
       "        2.24350816,  0.3288893 ,  0.18107458, -1.21061488, -3.18659079,\n",
       "       -1.62756392, -0.03228061, -2.97463007,  1.31757449, -0.96658115,\n",
       "        2.54889894,  1.08051316,  0.24382611,  0.87691931,  3.00070994,\n",
       "       -1.46022651, -1.23432101, -1.4546486 , -1.76282833, -0.25539716,\n",
       "       -1.87857004, -0.19822355,  0.74304939, -2.11144793, -1.42815351,\n",
       "       -1.11718482, -1.02236029, -2.76685279,  1.41797694,  0.09740588,\n",
       "        0.53248314, -0.85920632,  1.6857168 ,  1.38032602, -0.38647813,\n",
       "       -0.21216833,  1.29526284, -0.62632842, -0.82713331,  0.56455615,\n",
       "       -1.10184556,  0.02210404,  0.92433158,  1.12374199, -1.26639401,\n",
       "       -1.18133083, -1.18830322, -1.51879461, -1.83255225,  1.99668548,\n",
       "        2.20167381,  0.3219169 ,  2.36064435, -1.78513999, -2.64413869,\n",
       "        0.15179054,  0.26195433,  1.86142108,  0.22290894,  0.81835122,\n",
       "       -1.35564063, -2.62043256,  0.89504753,  0.99963341,  2.56981611,\n",
       "        0.88110275,  0.41395248, -0.08108736, -0.29723151, -2.12957615,\n",
       "       -1.43233695, -1.11160691,  2.34530509, -1.4030529 , -2.0361461 ,\n",
       "       -0.53010941,  0.25498194, -0.41018427,  1.51419595,  1.67177201,\n",
       "       -2.00546757, -1.49927191,  1.94787874,  0.63288559,  1.15999843,\n",
       "        2.98537068,  0.25219298, -2.44612275, -1.83952464,  1.10840273,\n",
       "        1.89070512, -1.44488725,  2.85986762,  1.43471068,  1.90046647,\n",
       "        0.61057394, -1.03909403,  0.35956782,  3.39674181,  1.70384501,\n",
       "       -1.21200936,  0.72631564,  3.68539885, -1.9329547 ,  0.63009663,\n",
       "        1.12374199, -0.10618797,  2.07059284, -0.75740939, -2.97184112,\n",
       "       -0.69465786, -0.61377811, -1.12415722,  1.97019039, -1.18272531,\n",
       "       -0.24981925, -0.97355355,  1.13210886, -1.10742347, -2.37639883,\n",
       "        2.43455171,  0.54503345, -1.4546486 , -0.01694135, -0.2721309 ,\n",
       "        1.60344257,  1.10282482,  1.53511313, -3.04853743,  3.04533325,\n",
       "        0.1350568 , -1.50345534, -0.69047443, -2.28436326, -0.94705846,\n",
       "        0.13924023,  3.22243201, -0.54963211,  2.03015296,  2.6479069 ,\n",
       "        1.21856653,  0.39861322,  2.2086462 ,  1.94787874,  3.2489271 ,\n",
       "        2.87660136, -1.05164434,  0.70400399,  0.34980647,  3.36466881,\n",
       "        0.21454207,  0.41953039,  0.79325061, -1.2412934 , -1.34727376,\n",
       "       -1.39886946,  1.83074255, -0.30280943, -1.46440995, -2.22300621,\n",
       "       -0.19125115,  0.38745739, -2.08216389,  4.02286262,  1.61738735,\n",
       "       -1.22316518, -3.24236993, -2.0166234 ,  0.70679295,  2.92959154,\n",
       "        1.62575422,  1.37893154, -1.04885538,  1.2910794 , -2.32759209,\n",
       "        2.93935289, -0.91777441,  1.1488426 , -3.51987114,  0.22011998,\n",
       "       -3.53799936,  2.35785539, -0.0462254 , -3.36787299, -2.04032954,\n",
       "        2.02318057, -1.38771364,  3.01326025, -0.40321187,  1.08888003,\n",
       "        1.26040088, -1.33472346,  2.55168789,  0.22430341,  0.66635307,\n",
       "        2.98537068,  0.84205735,  1.29665732,  1.09027451, -2.76266936,\n",
       "        1.17952113,  1.93951187, -0.61098916,  2.69253021, -0.0141524 ,\n",
       "        1.14047573, -0.92056337, -0.75322596,  0.59244572, -3.83641774,\n",
       "        0.26334881,  0.71237086,  2.2602419 , -1.21200936, -0.08248184,\n",
       "       -2.69015648,  0.17270771,  1.15442052, -2.22161173,  1.73312906,\n",
       "       -0.16336159, -0.62493394,  1.43052724,  1.83632046, -0.16475606,\n",
       "       -1.75306698,  3.66727063, -1.13112961,  1.40542663,  1.7889082 ,\n",
       "        2.38016705,  3.11087374, -0.13268306, -3.04574847,  2.12218854])"
      ]
     },
     "execution_count": 31,
     "metadata": {},
     "output_type": "execute_result"
    }
   ],
   "source": [
    "framingham_simulated_stats = make_array()\n",
    "\n",
    "for i in np.arange(1000):\n",
    "    one_stat = simulate_framingham_null()\n",
    "    framingham_simulated_stats = np.append(framingham_simulated_stats, one_stat)\n",
    "framingham_simulated_stats   "
   ]
  },
  {
   "cell_type": "code",
   "execution_count": 32,
   "metadata": {
    "deletable": false,
    "editable": false
   },
   "outputs": [
    {
     "name": "stdout",
     "output_type": "stream",
     "text": [
      "~~~~~~~~~~~~~~~~~~~~~~~~~~~~~~~~~~~~~~~~~~~~~~~~~~~~~~~~~~~~~~~~~~~~~\n",
      "Running tests\n",
      "\n",
      "---------------------------------------------------------------------\n",
      "Test summary\n",
      "    Passed: 1\n",
      "    Failed: 0\n",
      "[ooooooooook] 100.0% passed\n",
      "\n"
     ]
    }
   ],
   "source": [
    "ok.grade(\"q2_2_5\");"
   ]
  },
  {
   "cell_type": "markdown",
   "metadata": {
    "deletable": false,
    "editable": false
   },
   "source": [
    "**Question 6:** The following line will plot the histogram of the simulated test statistics, as well as a point for the observed test statistic. Make sure to run it, as it will be graded. \n",
    "\n",
    "<!--\n",
    "BEGIN QUESTION\n",
    "name: q2_2_6\n",
    "manual: true\n",
    "-->\n",
    "<!-- EXPORT TO PDF -->"
   ]
  },
  {
   "cell_type": "code",
   "execution_count": 33,
   "metadata": {
    "deletable": false,
    "export_pdf": true,
    "manual_problem_id": "disease_q_4_1_6"
   },
   "outputs": [
    {
     "data": {
      "image/png": "[encoded data removed]",
      "text/plain": [
       "<Figure size 432x288 with 1 Axes>"
      ]
     },
     "metadata": {},
     "output_type": "display_data"
    }
   ],
   "source": [
    "Table().with_column('Simulated statistics', framingham_simulated_stats).hist()\n",
    "plots.scatter(framingham_observed_statistic, 0, color='red', s=30);"
   ]
  },
  {
   "cell_type": "markdown",
   "metadata": {
    "deletable": false,
    "editable": false
   },
   "source": [
    "**Question 7**: Compute the p-value for this hypothesis test, and assign it to the name `framingham_p_value`.\n",
    "\n",
    "*Hint*: One of the key findings of the Framingham study was a strong association between cholesterol levels and heart disease. If your p-value doesn't match up with this finding, you may want to take another look at your test statistic and/or your simulation.\n",
    "\n",
    "<!--\n",
    "BEGIN QUESTION\n",
    "name: q2_2_7\n",
    "manual: false\n",
    "-->"
   ]
  },
  {
   "cell_type": "code",
   "execution_count": 34,
   "metadata": {
    "for_assignment_type": "solution"
   },
   "outputs": [
    {
     "data": {
      "text/plain": [
       "0.0"
      ]
     },
     "execution_count": 34,
     "metadata": {},
     "output_type": "execute_result"
    }
   ],
   "source": [
    "framingham_p_value = np.count_nonzero(framingham_simulated_stats >= framingham_observed_statistic)  / 1000\n",
    "framingham_p_value"
   ]
  },
  {
   "cell_type": "code",
   "execution_count": 35,
   "metadata": {
    "deletable": false,
    "editable": false
   },
   "outputs": [
    {
     "name": "stdout",
     "output_type": "stream",
     "text": [
      "~~~~~~~~~~~~~~~~~~~~~~~~~~~~~~~~~~~~~~~~~~~~~~~~~~~~~~~~~~~~~~~~~~~~~\n",
      "Running tests\n",
      "\n",
      "---------------------------------------------------------------------\n",
      "Test summary\n",
      "    Passed: 1\n",
      "    Failed: 0\n",
      "[ooooooooook] 100.0% passed\n",
      "\n"
     ]
    }
   ],
   "source": [
    "ok.grade(\"q2_2_7\");"
   ]
  },
  {
   "cell_type": "markdown",
   "metadata": {
    "deletable": false,
    "editable": false
   },
   "source": [
    "**Question 8**: Despite the Framingham Heart Study's well-deserved reputation as a well-conducted and rigorous study, it has some major limitations. Give one specific reason why it can't be used to say that high cholesterol *causes* heart disease.\n",
    "\n",
    "<!--\n",
    "BEGIN QUESTION\n",
    "name: q2_2_9\n",
    "manual: true\n",
    "-->\n",
    "<!-- EXPORT TO PDF -->"
   ]
  },
  {
   "cell_type": "markdown",
   "metadata": {
    "deletable": false,
    "export_pdf": true,
    "manual_problem_id": "disease_2_1"
   },
   "source": [
    "We cannot conclude causality, since the experiment was observational and not an RCT (randomized controlled trial) and none of the confounding variables were remove."
   ]
  },
  {
   "cell_type": "markdown",
   "metadata": {},
   "source": [
    "Similar studies from the 1950s found positive associations between diets high in saturated fat, high cholesterol, and incidence of heart disease. In 1962, the U.S. Surgeon General said:\n",
    "\n",
    "*\"Although there is evidence that diet and dietary habits may be implicated in the development of coronary heart disease and may be significant in its prevention or control, at present our only research evidence is associative and not conclusive.\"*"
   ]
  },
  {
   "cell_type": "markdown",
   "metadata": {},
   "source": [
    "## Checkpoint 1 (Due 11/1)\n",
    "#### Congratulations, you have reached the first checkpoint! Run the submit cell below to generate the checkpoint submission.\n",
    "To get full credit for this checkpoint, you must pass all the public autograder tests above this cell."
   ]
  },
  {
   "cell_type": "code",
   "execution_count": 36,
   "metadata": {},
   "outputs": [
    {
     "data": {
      "application/javascript": [
       "IPython.notebook.save_checkpoint();"
      ],
      "text/plain": [
       "<IPython.core.display.Javascript object>"
      ]
     },
     "metadata": {},
     "output_type": "display_data"
    },
    {
     "data": {
      "application/javascript": [
       "IPython.notebook.save_notebook();"
      ],
      "text/plain": [
       "<IPython.core.display.Javascript object>"
      ]
     },
     "metadata": {},
     "output_type": "display_data"
    },
    {
     "name": "stdout",
     "output_type": "stream",
     "text": [
      "Saving notebook... Saved 'project2.ipynb'.\n",
      "Submit... 0.0% complete\n",
      "Could not submit: Late Submission of cal/data8/fa19/project2\n",
      "\n"
     ]
    }
   ],
   "source": [
    "_ = ok.submit()"
   ]
  },
  {
   "cell_type": "markdown",
   "metadata": {},
   "source": [
    "## Part 3: Hormone Replacement Therapy for Cardiovascular Health"
   ]
  },
  {
   "cell_type": "markdown",
   "metadata": {},
   "source": [
    "### Section 1: The Nurses' Health Study"
   ]
  },
  {
   "cell_type": "markdown",
   "metadata": {},
   "source": [
    "The Nurses' Health Study (NHS) is another very large observational study which has brought many insights into women's health. It began in 1976 by Dr. Frank Speizer, with questionnaires that were mailed to 121,964 female registered nurses in the United States asking about their medical history, cholesterol and blood pressure, current medications, and so on (one of the benefits of studying nurses is their ability to give reliably accurate answers to these questions). \n",
    "\n",
    "The study's initial focus was on investigating the long-term health effects of oral contraceptives, whose use had become much more widespread in the U.S. during the 1960s, but the focus soon expanded to investigating a wide variety of questions on women's health. The NHS continues to this day, tracking its third generation of nurses in the US.\n",
    "\n",
    "**One of the most consequential early findings from the NHS was about hormone replacement therapy (HRT)**: supplementary estrogen and progesterone for post-menopausal women to relieve side effects of declining hormone levels due to menopause. The NHS found that HRT in postmenopausal women was negatively associated with heart attack risk. In a landmark 1985 paper in the *New England Journal of Medicine* (NEJM), Speizer and his coauthors wrote that\n",
    "> As compared with the risk in women who had never used postmenopausal hormones, the age-adjusted relative risk of coronary disease in those who had ever used them was 0.5 (95 per cent confidence limits, 0.3 and 0.8; P = 0.007)... These data support the hypothesis that the postmenopausal use of estrogen reduces the risk of severe coronary heart disease. [(Stampfer et al., 1985)](https://www.ncbi.nlm.nih.gov/pubmed/4047106)\n",
    "\n",
    "**In other words, the authors are saying that women on HRT are half as likely to suffer a heart attack over a certain time period.** We'll define the term \"relative risk\" later in this section, and we'll also investigate the interpretation of these claims and their statistical basis."
   ]
  },
  {
   "cell_type": "markdown",
   "metadata": {
    "deletable": false,
    "editable": false
   },
   "source": [
    "**Question 1** Based on the passage above, which of the following statements can you infer about the Nurses' Health Study? Create an array called `nhs_true_statements` and add integers corresponding to statements you believe are correct (ex: write `nhs_true_statements = make_array(1, 2, 4)` if you think options 1, 2, and 4 are correct)\n",
    "\n",
    "1. The Nurses' Health Study was a controlled experiment with a control and treatment group.\n",
    "2. Hormone replacement therapy is most commonly used by young women.\n",
    "3. The study uses data that was self-reported by nurses for the analysis\n",
    "4. Since only nurses were included in the study, there's a chance that confounding factors influence our dataset.\n",
    "5. The study found that estrogen and progesterone use had an association with CHD rates in post-menopausal women.\n",
    "\n",
    "<!--\n",
    "BEGIN QUESTION\n",
    "name: q3_1_1\n",
    "-->"
   ]
  },
  {
   "cell_type": "code",
   "execution_count": 37,
   "metadata": {},
   "outputs": [
    {
     "data": {
      "text/plain": [
       "array([3, 4, 5])"
      ]
     },
     "execution_count": 37,
     "metadata": {},
     "output_type": "execute_result"
    }
   ],
   "source": [
    "nhs_true_statements = make_array(3,4,5)\n",
    "nhs_true_statements"
   ]
  },
  {
   "cell_type": "code",
   "execution_count": 38,
   "metadata": {
    "deletable": false,
    "editable": false
   },
   "outputs": [
    {
     "name": "stdout",
     "output_type": "stream",
     "text": [
      "~~~~~~~~~~~~~~~~~~~~~~~~~~~~~~~~~~~~~~~~~~~~~~~~~~~~~~~~~~~~~~~~~~~~~\n",
      "Running tests\n",
      "\n",
      "---------------------------------------------------------------------\n",
      "Test summary\n",
      "    Passed: 2\n",
      "    Failed: 0\n",
      "[ooooooooook] 100.0% passed\n",
      "\n"
     ]
    }
   ],
   "source": [
    "ok.grade(\"q3_1_1\");"
   ]
  },
  {
   "cell_type": "markdown",
   "metadata": {},
   "source": [
    "**The scientists running the NHS wanted to compare post-menopausal women who had taken HRT with post-menopausal women who had never taken HRT, excluding all women who were not post-menopausal or who had previously suffered a heart attack.** This study design complicates the analysis because it creates a variety of reasons why women might drop in and out of the relevant comparison groups."
   ]
  },
  {
   "cell_type": "markdown",
   "metadata": {
    "deletable": false,
    "editable": false
   },
   "source": [
    "**Question 2.** Consider the following events which could occur in the middle of the study period (read the above paragraph carefully first): \n",
    "0. A woman (who has never had a heart attack) was pre-menopausal at the beginning of the study period becomes post-menopausal in the middle of the study period.\n",
    "1. A post-menopausal woman survives a heart attack in the middle of the study period (assume the woman is post-menopausal and had never before had a heart attack).\n",
    "2. A woman dies of cancer in the middle of the study period (assume the woman is post-menopausal and has never had a heart attack).\n",
    "3. A woman who was not on HRT at the beginning of the study period, and had never before taken HRT, begins taking HRT in the middle of the period (assume the woman is post-menopausal and has never had a heart attack).\n",
    "4. A woman who was taking HRT at the beginning of the study period stops taking HRT in the middle of the period (assume the woman is post-menopausal and has never had a heart attack).\n",
    "\n",
    "For each of the events listed above, answer whether they would result in a woman\n",
    "\n",
    "- (`E`) entering the study in the middle, \n",
    "- (`L`) leaving the study in the middle, \n",
    "- (`S`) switching from one comparison group to another in the middle, or \n",
    "- (`N`) none of the above \n",
    "\n",
    "<!--\n",
    "BEGIN QUESTION\n",
    "name: q3_1_2\n",
    "-->\n",
    "\n",
    "Assign `event_result` to an array of strings where the *i*th string is a single *capital* letter corresponding to your answer for the *i*th event.\n",
    "\n",
    "For example, an example answer is `event_result = make_array('N', 'E', 'E', 'L', 'E')` where our answer for event 0 is `N`, our answer for event 1 is `E`, our answer for event 2 is `E`, etc."
   ]
  },
  {
   "cell_type": "code",
   "execution_count": 39,
   "metadata": {},
   "outputs": [
    {
     "data": {
      "text/plain": [
       "array(['E', 'S', 'L', 'S', 'N'],\n",
       "      dtype='<U1')"
      ]
     },
     "execution_count": 39,
     "metadata": {},
     "output_type": "execute_result"
    }
   ],
   "source": [
    "event_result = make_array('E','S','L','S','N')\n",
    "event_result"
   ]
  },
  {
   "cell_type": "code",
   "execution_count": 40,
   "metadata": {
    "deletable": false,
    "editable": false
   },
   "outputs": [
    {
     "name": "stdout",
     "output_type": "stream",
     "text": [
      "~~~~~~~~~~~~~~~~~~~~~~~~~~~~~~~~~~~~~~~~~~~~~~~~~~~~~~~~~~~~~~~~~~~~~\n",
      "Running tests\n",
      "\n",
      "---------------------------------------------------------------------\n",
      "Test summary\n",
      "    Passed: 3\n",
      "    Failed: 0\n",
      "[ooooooooook] 100.0% passed\n",
      "\n"
     ]
    }
   ],
   "source": [
    "ok.grade(\"q3_1_2\");"
   ]
  },
  {
   "cell_type": "markdown",
   "metadata": {},
   "source": [
    "Because women could (and did) drop into and out of the comparison groups in the middle of the study, it is difficult to make a table like we usually would, with one row per participant. In medical studies, individuals are typically weighted by the *amount of time* that they enrolled in the study. A more convenient sampling unit is a **person-month at risk**, which is one month spent by a particular woman in one of the comparison groups, during which she might or might not suffer a heart attack. Here, \"at risk\" just means the woman is being tracked by the survey in either of the two comparison groups, so that if she had a heart attack it would be counted in our data set.\n",
    "\n",
    "**Example**: The table below tracks the histories of two hypothetical post-menopausal women in a six-month longitudinal study, who both enter the study in January 1978:\n",
    "1. Alice has never been on HRT. She has a heart attack in March and is excluded for the remainder of the study period. \n",
    "2. Beatrice begins taking HRT for the first time in April and stays healthy throughout the study period.\n",
    "\n",
    "| Name     | Month    | HRT | Heart Attack   |                                             \n",
    "|----------|----------|-----|----------------|\n",
    "| Alice    | Jan 1978 |  0  | 0              |\n",
    "| Alice    | Feb 1978 |  0  | 0              |\n",
    "| Alice    | Mar 1978 |  0  | 1              |\n",
    "| Beatrice | Jan 1978 |  0  | 0              | \n",
    "| Beatrice | Feb 1978 |  0  | 0              |\n",
    "| Beatrice | Mar 1978 |  0  | 0              |\n",
    "| Beatrice | Apr 1978 |  1  | 0              |\n",
    "| Beatrice | May 1978 |  1  | 0              |\n",
    "| Beatrice | Jun 1978 |  1  | 0              |\n",
    "\n"
   ]
  },
  {
   "cell_type": "markdown",
   "metadata": {},
   "source": [
    "The probability that a heart attack will happen to a given at-risk person in a given duration of time is called the **hazard rate**. The NHS calculated its effects in terms of the **relative risk**, which is simply the hazard rate for *person-months* in the HRT (Group A) group divided by the hazard rate in the no-HRT (Group B) group.\n",
    "\n",
    "$$\\text{Relative Risk} = \\frac{\\text{Hazard Rate(Treatment Group)}}{\\text{Hazard Rate(Control Group)}}$$\n"
   ]
  },
  {
   "cell_type": "markdown",
   "metadata": {
    "deletable": false,
    "editable": false
   },
   "source": [
    "**Question 3.** Complete the following statements, by setting the variable names to the value that correctly fills in the blank.\n",
    "\n",
    "If the hazard rate of the treatment group is greater than the hazard rate of the control group, the relative risk will be `blank1_1` one. This means that individuals in the treatment group are at `blank1_2` risk of having an heart attack compared to those in the control group.\n",
    "\n",
    "If the hazard rate of the treatment group is less than the hazard rate of the control group, the relative risk will be `blank2_1` one. This means that individuals in the treatment group are at `blank2_2` risk of having an heart attack compared to those in the control group.\n",
    "\n",
    "If the hazard rate of the treatment group is equal to the hazard rate of the control group, the relative risk will be `blank3_1` one. This means that individuals in the treatment group are at `blank3_2` risk of having an heart attack compared to those in the control group.\n",
    "\n",
    "`blank1_1`, `blank2_1`, `blank3_1` should be set to one of the following strings: \"less than\", \"equal to\", or \"greater than\"\n",
    "\n",
    "`blank1_2`, `blank2_2`, `blank3_2` should be set to one of the following strings:\"lower\", \"equal\", or \"higher\" \n",
    "\n",
    "<!--\n",
    "BEGIN QUESTION\n",
    "name: q3_1_3\n",
    "-->"
   ]
  },
  {
   "cell_type": "code",
   "execution_count": 41,
   "metadata": {},
   "outputs": [],
   "source": [
    "blank1_1 = 'greater than'\n",
    "blank1_2 = 'higher'\n",
    "blank2_1 = 'less than'\n",
    "blank2_2 = 'lower'\n",
    "blank3_1 = 'equal to'\n",
    "blank3_2 = 'equal'"
   ]
  },
  {
   "cell_type": "code",
   "execution_count": 42,
   "metadata": {
    "deletable": false,
    "editable": false
   },
   "outputs": [
    {
     "name": "stdout",
     "output_type": "stream",
     "text": [
      "~~~~~~~~~~~~~~~~~~~~~~~~~~~~~~~~~~~~~~~~~~~~~~~~~~~~~~~~~~~~~~~~~~~~~\n",
      "Running tests\n",
      "\n",
      "---------------------------------------------------------------------\n",
      "Test summary\n",
      "    Passed: 2\n",
      "    Failed: 0\n",
      "[ooooooooook] 100.0% passed\n",
      "\n"
     ]
    }
   ],
   "source": [
    "ok.grade(\"q3_1_3\");"
   ]
  },
  {
   "cell_type": "markdown",
   "metadata": {},
   "source": [
    "Most statistical methods that deal with this type of data assume that we can treat a table like the one above as though it is a sample of independent random draws from a much larger population of person-months at risk in each group. **We will take this assumption for granted throughout the rest of this section.**\n",
    "\n",
    "Instead of *person-months* at risk, the NHS used *person-years* at risk. It reported 51,478 total person-years at risk in the no-HRT group with 60 heart attacks occurring in total, as well as 54,309 person-years at risk in the HRT group with 30 heart attacks occurring in total. The table NHS below has one row for each person-year at risk. The two columns are 'HRT', recording whether it came from the HRT group (1) or no-HRT group (0), and 'Heart Attack', recording whether the participant had a heart attack that year (1 for yes, 0 for no)."
   ]
  },
  {
   "cell_type": "code",
   "execution_count": 43,
   "metadata": {},
   "outputs": [
    {
     "data": {
      "text/html": [
       "<table border=\"1\" class=\"dataframe\">\n",
       "    <thead>\n",
       "        <tr>\n",
       "            <th>HRT</th> <th>Heart Attack</th>\n",
       "        </tr>\n",
       "    </thead>\n",
       "    <tbody>\n",
       "        <tr>\n",
       "            <td>0   </td> <td>0           </td>\n",
       "        </tr>\n",
       "        <tr>\n",
       "            <td>0   </td> <td>0           </td>\n",
       "        </tr>\n",
       "        <tr>\n",
       "            <td>0   </td> <td>0           </td>\n",
       "        </tr>\n",
       "    </tbody>\n",
       "</table>\n",
       "<p>... (105784 rows omitted)</p>"
      ],
      "text/plain": [
       "<IPython.core.display.HTML object>"
      ]
     },
     "metadata": {},
     "output_type": "display_data"
    }
   ],
   "source": [
    "NHS = Table.read_table('NHS.csv')\n",
    "NHS.show(3)"
   ]
  },
  {
   "cell_type": "markdown",
   "metadata": {},
   "source": [
    "Using the NHS data, we can now conduct a hypothesis test to investigate the relationship between HRT and risk of CHD. We'll set up the test as follows:\n",
    "\n",
    "> **Null Hypothesis:** HRT does not affect the risk of CHD, and the true relative risk is equal to 1. Any deviation is due to random chance\n",
    "\n",
    "> **Alternative Hypothesis:** HRT decreases the risk of CHD, and the true relative risk is less than 1.\n",
    "\n",
    "> **Test Statistic:** Relative risk of CHD between post-menopausal women receiving HRT and post-menopausal women not receiving HRT"
   ]
  },
  {
   "cell_type": "markdown",
   "metadata": {
    "deletable": false,
    "editable": false
   },
   "source": [
    "**Question 4.** Fill in the missing code below to write a function called `relative_risk` that takes in a table with the column labels `HRT` and `Heart Attack`, and computes the sample relative risk as an estimate of the population relative risk. Do *not* round your answer.\n",
    "\n",
    "<!--\n",
    "BEGIN QUESTION\n",
    "name: q3_1_4\n",
    "-->"
   ]
  },
  {
   "cell_type": "code",
   "execution_count": 44,
   "metadata": {},
   "outputs": [
    {
     "data": {
      "text/html": [
       "<table border=\"1\" class=\"dataframe\">\n",
       "    <thead>\n",
       "        <tr>\n",
       "            <th>HRT</th> <th>Heart Attack average</th>\n",
       "        </tr>\n",
       "    </thead>\n",
       "    <tbody>\n",
       "        <tr>\n",
       "            <td>0   </td> <td>0.00116555          </td>\n",
       "        </tr>\n",
       "        <tr>\n",
       "            <td>1   </td> <td>0.000552395         </td>\n",
       "        </tr>\n",
       "    </tbody>\n",
       "</table>"
      ],
      "text/plain": [
       "HRT  | Heart Attack average\n",
       "0    | 0.00116555\n",
       "1    | 0.000552395"
      ]
     },
     "execution_count": 44,
     "metadata": {},
     "output_type": "execute_result"
    }
   ],
   "source": [
    "grouped_data = NHS.group('HRT', np.average)\n",
    "grouped_data"
   ]
  },
  {
   "cell_type": "code",
   "execution_count": 45,
   "metadata": {},
   "outputs": [
    {
     "data": {
      "text/plain": [
       "0.47393618000699694"
      ]
     },
     "execution_count": 45,
     "metadata": {},
     "output_type": "execute_result"
    }
   ],
   "source": [
    "def relative_risk(tbl):\n",
    "    \"\"\"Return the ratio of the hazard rates (events per person-year) for the two groups\"\"\"\n",
    "    means = tbl.group('HRT', np.average).column(1)\n",
    "    return means.item(1)/means.item(0)\n",
    "relative_risk(NHS)"
   ]
  },
  {
   "cell_type": "code",
   "execution_count": 46,
   "metadata": {
    "deletable": false,
    "editable": false
   },
   "outputs": [
    {
     "name": "stdout",
     "output_type": "stream",
     "text": [
      "~~~~~~~~~~~~~~~~~~~~~~~~~~~~~~~~~~~~~~~~~~~~~~~~~~~~~~~~~~~~~~~~~~~~~\n",
      "Running tests\n",
      "\n",
      "---------------------------------------------------------------------\n",
      "Test summary\n",
      "    Passed: 1\n",
      "    Failed: 0\n",
      "[ooooooooook] 100.0% passed\n",
      "\n"
     ]
    }
   ],
   "source": [
    "ok.grade(\"q3_1_4\");"
   ]
  },
  {
   "cell_type": "markdown",
   "metadata": {
    "deletable": false,
    "editable": false
   },
   "source": [
    "**Question 5.** Fill in the function `one_bootstrap_rr` so that it generates one bootstrap sample and computes the relative risk. Assign `bootstrap_rrs` to 10 (yes, only 10; the code is slow!) estimates of the population relative risk.\n",
    "\n",
    "*Note:* The cell may take a few seconds to run.\n",
    "\n",
    "<!--\n",
    "BEGIN QUESTION\n",
    "name: q3_1_5\n",
    "-->"
   ]
  },
  {
   "cell_type": "code",
   "execution_count": null,
   "metadata": {},
   "outputs": [],
   "source": [
    "\n"
   ]
  },
  {
   "cell_type": "code",
   "execution_count": 47,
   "metadata": {},
   "outputs": [
    {
     "data": {
      "text/plain": [
       "array([ 0.48442711,  0.33041916,  0.50137824,  0.57503354,  0.48284183,\n",
       "        0.65217172,  0.56854938,  0.45988293,  0.41817077,  0.58651175])"
      ]
     },
     "execution_count": 47,
     "metadata": {},
     "output_type": "execute_result"
    }
   ],
   "source": [
    "def one_bootstrap_rr():\n",
    "    s = NHS.sample()    \n",
    "    return relative_risk(s)\n",
    "\n",
    "bootstrap_rrs = make_array()\n",
    "for i in np.arange(10):\n",
    "    new_bootstrap_rr = one_bootstrap_rr()\n",
    "    bootstrap_rrs = np.append(bootstrap_rrs, new_bootstrap_rr)\n",
    "bootstrap_rrs  "
   ]
  },
  {
   "cell_type": "code",
   "execution_count": 48,
   "metadata": {
    "deletable": false,
    "editable": false
   },
   "outputs": [
    {
     "name": "stdout",
     "output_type": "stream",
     "text": [
      "~~~~~~~~~~~~~~~~~~~~~~~~~~~~~~~~~~~~~~~~~~~~~~~~~~~~~~~~~~~~~~~~~~~~~\n",
      "Running tests\n",
      "\n",
      "---------------------------------------------------------------------\n",
      "Test summary\n",
      "    Passed: 2\n",
      "    Failed: 0\n",
      "[ooooooooook] 100.0% passed\n",
      "\n"
     ]
    }
   ],
   "source": [
    "ok.grade(\"q3_1_5\");"
   ]
  },
  {
   "cell_type": "markdown",
   "metadata": {
    "deletable": false,
    "editable": false
   },
   "source": [
    "**Question 6.** The file `bootstrap_rrs.csv` contains a one-column table with 2001 saved bootstrapped relative risks. Use these bootstrapped values to compute a 95% confidence interval, storing the left endpoint as `ci_left` and the right endpoint as `ci_right`. \n",
    "\n",
    "Note that our method isn't exactly the same as the method employed by the study authors to get their confidence interval.\n",
    "\n",
    "<!--\n",
    "BEGIN QUESTION\n",
    "name: q3_1_6\n",
    "-->"
   ]
  },
  {
   "cell_type": "code",
   "execution_count": 49,
   "metadata": {},
   "outputs": [
    {
     "data": {
      "text/plain": [
       "array([ 0.32984447,  0.29123202,  0.63877798, ...,  0.53902336,\n",
       "        0.43658654,  0.63143686])"
      ]
     },
     "execution_count": 49,
     "metadata": {},
     "output_type": "execute_result"
    }
   ],
   "source": [
    "bootstrap_rrs_tbl = Table.read_table('bootstrap_rrs.csv')\n",
    "bootstrap_rrs_tbl.column(0)"
   ]
  },
  {
   "cell_type": "code",
   "execution_count": 50,
   "metadata": {},
   "outputs": [
    {
     "name": "stdout",
     "output_type": "stream",
     "text": [
      "Middle 95% of bootstrappped relative risks: [0.295930, 0.730383]\n"
     ]
    }
   ],
   "source": [
    "bootstrap_rrs_tbl = Table.read_table('bootstrap_rrs.csv')\n",
    "bootstrap_rrs = bootstrap_rrs_tbl.column(0)\n",
    "ci_left = percentile(2.5, bootstrap_rrs)\n",
    "ci_right = percentile(97.5, bootstrap_rrs)\n",
    "\n",
    "print(\"Middle 95% of bootstrappped relative risks: [{:f}, {:f}]\".format(ci_left, ci_right))"
   ]
  },
  {
   "cell_type": "code",
   "execution_count": 51,
   "metadata": {
    "deletable": false,
    "editable": false
   },
   "outputs": [
    {
     "name": "stdout",
     "output_type": "stream",
     "text": [
      "~~~~~~~~~~~~~~~~~~~~~~~~~~~~~~~~~~~~~~~~~~~~~~~~~~~~~~~~~~~~~~~~~~~~~\n",
      "Running tests\n",
      "\n",
      "---------------------------------------------------------------------\n",
      "Test summary\n",
      "    Passed: 2\n",
      "    Failed: 0\n",
      "[ooooooooook] 100.0% passed\n",
      "\n"
     ]
    }
   ],
   "source": [
    "ok.grade(\"q3_1_6\");"
   ]
  },
  {
   "cell_type": "markdown",
   "metadata": {},
   "source": [
    "The code below plots the confidence interval on top of the bootstrap histogram."
   ]
  },
  {
   "cell_type": "code",
   "execution_count": 52,
   "metadata": {},
   "outputs": [
    {
     "data": {
      "image/png": "[encoded data removed]",
      "text/plain": [
       "<Figure size 432x288 with 1 Axes>"
      ]
     },
     "metadata": {},
     "output_type": "display_data"
    }
   ],
   "source": [
    "# Just run this cell\n",
    "bootstrap_rrs_tbl.hist()\n",
    "plots.plot([ci_left, ci_right], [.05,.05], color=\"gold\");"
   ]
  },
  {
   "cell_type": "markdown",
   "metadata": {
    "deletable": false
   },
   "source": [
    "**Question 7.** The abstract of the original paper gives a 95% confidence interval of [0.3, 0.8] for the relative risk. Which of the following statements can be justified based on that confidence interval? \n",
    "\n",
    "1. There is a 95% chance the relative risk is between 0.3 and 0.8.\n",
    "2. If we used a P-value cutoff of 5%, we would reject the null hypothesis that HRT does not affect the risk of CHD.\n",
    "3. If we redo the procedure that generated the interval [0.3, 0.8] on a fresh sample of the same size, there is a 95% chance it will include the true relative risk.\n",
    "4. There is between a 30% and 80% chance that any woman will suffer a heart attack during the study period.\n",
    "\n",
    "Assign `ci_statements` to an array of number(s) corresponding to the correct answer(s).\n",
    "\n",
    "<!--\n",
    "BEGIN QUESTION\n",
    "name: q3_1_7\n",
    "-->"
   ]
  },
  {
   "cell_type": "code",
   "execution_count": 53,
   "metadata": {},
   "outputs": [],
   "source": [
    "ci_statements = make_array(2,3)"
   ]
  },
  {
   "cell_type": "code",
   "execution_count": 54,
   "metadata": {
    "deletable": false,
    "editable": false
   },
   "outputs": [
    {
     "name": "stdout",
     "output_type": "stream",
     "text": [
      "~~~~~~~~~~~~~~~~~~~~~~~~~~~~~~~~~~~~~~~~~~~~~~~~~~~~~~~~~~~~~~~~~~~~~\n",
      "Running tests\n",
      "\n",
      "---------------------------------------------------------------------\n",
      "Test summary\n",
      "    Passed: 1\n",
      "    Failed: 0\n",
      "[ooooooooook] 100.0% passed\n",
      "\n"
     ]
    }
   ],
   "source": [
    "ok.grade(\"q3_1_7\");"
   ]
  },
  {
   "cell_type": "markdown",
   "metadata": {
    "deletable": false,
    "editable": false
   },
   "source": [
    "**Question 8.** What can you conclude from this test? Was hormone replacement therapy associated with an increased or decreased risk of heart attacks? Can we say that HRT caused an change in the risk of heart attacks? Explain your reasoning in 2-4 sentences. \n",
    "\n",
    "<!--\n",
    "BEGIN QUESTION\n",
    "name: q3_1_8\n",
    "manual: true\n",
    "-->\n",
    "<!-- EXPORT TO PDF -->"
   ]
  },
  {
   "cell_type": "markdown",
   "metadata": {
    "export_pdf": true
   },
   "source": [
    "Based on our conducted test, we can reject the null hypothesis and support the statement that hormone replacement therapy is  associated with a decrease in risk of heart attacks. After sampling our data, the relative risk for the population was between 0.3 and 0.8. We are 95% confident that 95% of the confidence intervals will contain the population parameter for the relative risk. Hence, the computed numbers support our alternative hypothesis which states the relative risk for the population is less than one."
   ]
  },
  {
   "cell_type": "markdown",
   "metadata": {},
   "source": [
    "Partly as a result of evidence from the NHS and other observational studies that drew similar conclusions, HRT drugs became a very popular preventive treatment for doctors to prescribe to post-menopausal woman. Even though there were known or suspected risks to the treatment (such as increasing the risk of invasive breast cancer), it was thought that the reduction in heart disease risk was well worth it."
   ]
  },
  {
   "cell_type": "markdown",
   "metadata": {},
   "source": [
    "### Section 2: The Heart and Estrogen-Progestin Replacement Study"
   ]
  },
  {
   "cell_type": "markdown",
   "metadata": {},
   "source": [
    "The Heart and Estrogen-Progestin Replacement Study (HERS) was a large randomized controlled trial carried out by the Women's Health Initiative, which sought to verify whether HRT drugs were as effective as the observational studies seemed to suggest. 2,763 women with a history of heart disease were selected and randomly assigned to receive the treatment (daily estrogen pills) or a placebo pill that looked identical to the treatment. Of the 2763 women participating, 1380 were assigned to the treatment condition and 1383 to the control. They were followed for an average of three years and the number of heart attacks in the two groups was compared."
   ]
  },
  {
   "cell_type": "markdown",
   "metadata": {},
   "source": [
    "The main results table from the HERS study [Hulley et al. (1998)](https://jamanetwork.com/journals/jama/fullarticle/187879) is reproduced here:\n",
    "\n",
    "<img src=\"HERS-table.png\" width=500>"
   ]
  },
  {
   "cell_type": "markdown",
   "metadata": {},
   "source": [
    "For this study, constructed our own table from scratch based on the results given above. The results are contained in the table `HERS` that has one row for each woman in the trial and two columns: `HRT`, which is 1 if she was assigned to treatment and 0 otherwise, and `CHD`, which is 1 if she suffered a Primary CHD (Coronary Heart Disease) event and 0 otherwise.\n",
    "\n",
    "Run the cell below to view the results from the HERS study."
   ]
  },
  {
   "cell_type": "code",
   "execution_count": 55,
   "metadata": {},
   "outputs": [
    {
     "data": {
      "text/html": [
       "<table border=\"1\" class=\"dataframe\">\n",
       "    <thead>\n",
       "        <tr>\n",
       "            <th>HRT</th> <th>CHD</th>\n",
       "        </tr>\n",
       "    </thead>\n",
       "    <tbody>\n",
       "        <tr>\n",
       "            <td>0   </td> <td>0   </td>\n",
       "        </tr>\n",
       "        <tr>\n",
       "            <td>0   </td> <td>0   </td>\n",
       "        </tr>\n",
       "        <tr>\n",
       "            <td>0   </td> <td>0   </td>\n",
       "        </tr>\n",
       "    </tbody>\n",
       "</table>\n",
       "<p>... (2760 rows omitted)</p>"
      ],
      "text/plain": [
       "<IPython.core.display.HTML object>"
      ]
     },
     "metadata": {},
     "output_type": "display_data"
    }
   ],
   "source": [
    "num_control = 1383 \n",
    "num_treatment = 1380\n",
    "\n",
    "num_control_chd = 176\n",
    "num_treatment_chd = 172\n",
    "\n",
    "hrt = np.append(np.zeros(num_control), np.ones(num_treatment))\n",
    "chd_control = np.append(np.zeros(num_control - num_control_chd), np.ones(num_control_chd))\n",
    "chd_treatment = np.append(np.zeros(num_treatment - num_treatment_chd), np.ones(num_treatment_chd))\n",
    "chd = np.append(chd_control, chd_treatment)\n",
    "\n",
    "HERS = Table().with_columns('HRT', hrt, 'CHD', chd)\n",
    "HERS.show(3)"
   ]
  },
  {
   "cell_type": "markdown",
   "metadata": {
    "deletable": false,
    "editable": false
   },
   "source": [
    "**Question 1.** We would like to test the null hypothesis that the treatment (HRT) has no effect on the outcome (CHD), against the alternative hypothesis that the treatment does have an effect. What would be a good test statistic? \n",
    "\n",
    "Assign `good_ts` to an array of number(s) corresponding to the correct answer(s). Keep in mind that this was the first clinical trial to be done on this subject; as a result, it was not clear at the time whether any effect would be positive or negative.\n",
    "\n",
    "\n",
    "1. The absolute difference between 1 and the relative risk.\n",
    "2. The average CHD rate for the treatment group.\n",
    "3. 10 times the absolute difference between the control and treatment groups' average CHD rates.\n",
    "\n",
    "<!--\n",
    "BEGIN QUESTION\n",
    "name: q3_2_1\n",
    "-->"
   ]
  },
  {
   "cell_type": "code",
   "execution_count": 56,
   "metadata": {},
   "outputs": [],
   "source": [
    "good_ts = make_array(1)"
   ]
  },
  {
   "cell_type": "code",
   "execution_count": 57,
   "metadata": {
    "deletable": false,
    "editable": false
   },
   "outputs": [
    {
     "name": "stdout",
     "output_type": "stream",
     "text": [
      "~~~~~~~~~~~~~~~~~~~~~~~~~~~~~~~~~~~~~~~~~~~~~~~~~~~~~~~~~~~~~~~~~~~~~\n",
      "Running tests\n",
      "\n",
      "---------------------------------------------------------------------\n",
      "Test summary\n",
      "    Passed: 1\n",
      "    Failed: 0\n",
      "[ooooooooook] 100.0% passed\n",
      "\n"
     ]
    }
   ],
   "source": [
    "ok.grade(\"q3_2_1\");"
   ]
  },
  {
   "cell_type": "markdown",
   "metadata": {
    "deletable": false,
    "editable": false
   },
   "source": [
    "**Question 2.** We'll use distance (absolute difference) between average CHD rates as our test statistic. \n",
    "\n",
    "Write a function called `hers_test_statistic` to calculate this test statistic on a table with columns `HRT` and `CHD`. Use this function to calculate the observed test statistic, and assign it to `observed_HERS_test_statistic`.\n",
    "\n",
    "Think about what values of the test statistic support the null versus the alternative hypothesis. You'll use this information to compute the p-value later in this section.\n",
    "<!--\n",
    "BEGIN QUESTION\n",
    "name: q3_2_2\n",
    "-->"
   ]
  },
  {
   "cell_type": "code",
   "execution_count": 58,
   "metadata": {},
   "outputs": [
    {
     "data": {
      "text/html": [
       "<table border=\"1\" class=\"dataframe\">\n",
       "    <thead>\n",
       "        <tr>\n",
       "            <th>HRT</th> <th>CHD average</th>\n",
       "        </tr>\n",
       "    </thead>\n",
       "    <tbody>\n",
       "        <tr>\n",
       "            <td>0   </td> <td>0.12726    </td>\n",
       "        </tr>\n",
       "        <tr>\n",
       "            <td>1   </td> <td>0.124638   </td>\n",
       "        </tr>\n",
       "    </tbody>\n",
       "</table>"
      ],
      "text/plain": [
       "HRT  | CHD average\n",
       "0    | 0.12726\n",
       "1    | 0.124638"
      ]
     },
     "execution_count": 58,
     "metadata": {},
     "output_type": "execute_result"
    }
   ],
   "source": [
    "HERS.group('HRT', np.average)"
   ]
  },
  {
   "cell_type": "code",
   "execution_count": 59,
   "metadata": {},
   "outputs": [
    {
     "data": {
      "text/plain": [
       "0.0026218994624162967"
      ]
     },
     "execution_count": 59,
     "metadata": {},
     "output_type": "execute_result"
    }
   ],
   "source": [
    "def HERS_test_statistic(tbl):\n",
    "    \"\"\"Test statistic: Distance between the average responses\"\"\"\n",
    "    averages = tbl.group('HRT', np.average).column(1)\n",
    "    return abs(averages.item(1)-averages.item(0))\n",
    "observed_HERS_test_statistic = HERS_test_statistic(HERS)\n",
    "observed_HERS_test_statistic"
   ]
  },
  {
   "cell_type": "code",
   "execution_count": 60,
   "metadata": {
    "deletable": false,
    "editable": false
   },
   "outputs": [
    {
     "name": "stdout",
     "output_type": "stream",
     "text": [
      "~~~~~~~~~~~~~~~~~~~~~~~~~~~~~~~~~~~~~~~~~~~~~~~~~~~~~~~~~~~~~~~~~~~~~\n",
      "Running tests\n",
      "\n",
      "---------------------------------------------------------------------\n",
      "Test summary\n",
      "    Passed: 1\n",
      "    Failed: 0\n",
      "[ooooooooook] 100.0% passed\n",
      "\n"
     ]
    }
   ],
   "source": [
    "ok.grade(\"q3_2_2\");"
   ]
  },
  {
   "cell_type": "markdown",
   "metadata": {
    "deletable": false,
    "editable": false
   },
   "source": [
    "**Question 3.** Write a function called `simulate_one_HERS_statistic` to simulate one value of the test statistic under the null hypothesis. Make sure you're shufflling the labels `HRT`.\n",
    "\n",
    "Then, use the function to repeatedly sample the null hypothesis 1000 times and compute the test statistic each time. The cell may take a few seconds to run.\n",
    "\n",
    "<!--\n",
    "BEGIN QUESTION\n",
    "name: q3_2_3\n",
    "-->"
   ]
  },
  {
   "cell_type": "code",
   "execution_count": 61,
   "metadata": {},
   "outputs": [
    {
     "data": {
      "text/html": [
       "<table border=\"1\" class=\"dataframe\">\n",
       "    <thead>\n",
       "        <tr>\n",
       "            <th>HRT</th> <th>CHD average</th>\n",
       "        </tr>\n",
       "    </thead>\n",
       "    <tbody>\n",
       "        <tr>\n",
       "            <td>0   </td> <td>0.11695    </td>\n",
       "        </tr>\n",
       "        <tr>\n",
       "            <td>1   </td> <td>0.134561   </td>\n",
       "        </tr>\n",
       "    </tbody>\n",
       "</table>"
      ],
      "text/plain": [
       "HRT  | CHD average\n",
       "0    | 0.11695\n",
       "1    | 0.134561"
      ]
     },
     "execution_count": 61,
     "metadata": {},
     "output_type": "execute_result"
    }
   ],
   "source": [
    "shuffled_label = HERS.sample().column(0)\n",
    "new = HERS.with_column('HRT', shuffled_label)\n",
    "new.group('HRT', np.average)"
   ]
  },
  {
   "cell_type": "code",
   "execution_count": 62,
   "metadata": {},
   "outputs": [
    {
     "data": {
      "text/plain": [
       "array([  2.12978491e-02,   1.49563576e-03,   9.11125320e-03,\n",
       "         3.21354690e-02,   1.11369486e-02,   8.93869620e-03,\n",
       "         1.21550836e-02,   1.11488398e-02,   1.61463330e-02,\n",
       "         1.75998489e-02,   5.48615959e-03,   1.80507667e-02,\n",
       "         1.13313616e-02,   5.36927173e-03,   1.14157405e-03,\n",
       "         9.83997786e-03,   1.53097958e-02,   1.25450772e-02,\n",
       "         1.80362045e-02,   1.13193608e-02,   9.16570590e-03,\n",
       "         3.38550403e-03,   1.31204867e-02,   4.49315172e-03,\n",
       "         3.57996353e-03,   7.87668972e-04,   7.81095044e-03,\n",
       "         5.28494768e-03,   1.05362716e-02,   6.67326843e-03,\n",
       "         3.53360964e-03,   1.21039305e-02,   4.10369616e-03,\n",
       "         5.87114603e-03,   6.99986793e-03,   2.18185248e-02,\n",
       "         2.99768925e-03,   7.51202490e-03,   4.05878691e-03,\n",
       "         1.43573547e-02,   6.22524052e-03,   3.44176357e-02,\n",
       "         5.16368163e-03,   5.73430678e-03,   1.42148284e-02,\n",
       "         1.36675871e-02,   7.01243230e-03,   8.30539342e-03,\n",
       "         1.18443804e-02,   7.29878039e-03,   1.32822800e-02,\n",
       "         2.25009514e-02,   6.62287399e-03,   1.32733345e-02,\n",
       "         1.42035273e-02,   8.95972838e-03,   3.14725111e-03,\n",
       "         8.95972838e-03,   9.86041686e-03,   3.54504473e-02,\n",
       "         1.16727848e-02,   8.05911590e-03,   2.49104408e-02,\n",
       "         9.83074514e-03,   1.58231463e-02,   1.61875819e-02,\n",
       "         1.50629720e-03,   3.76256416e-03,   1.16964580e-02,\n",
       "         2.54445379e-02,   5.52842547e-03,   3.39738024e-03,\n",
       "         1.47885729e-02,   8.88477207e-03,   4.78802334e-03,\n",
       "         9.66762243e-03,   2.84972871e-03,   5.81764055e-05,\n",
       "         1.35653289e-03,   1.29179833e-02,   1.58711524e-02,\n",
       "         2.62509824e-04,   2.75789681e-02,   2.12710216e-02,\n",
       "         1.00221667e-02,   2.24637263e-03,   5.32426620e-03,\n",
       "         1.18790338e-02,   2.16243604e-02,   2.08857118e-02,\n",
       "         6.42903177e-03,   1.18344187e-02,   5.67844173e-03,\n",
       "         6.78268579e-03,   1.67576161e-02,   5.00169869e-04,\n",
       "         9.70024106e-04,   5.26738473e-03,   1.02176089e-04,\n",
       "         4.76709572e-03,   5.55178204e-03,   1.16727848e-02,\n",
       "         4.55846785e-04,   1.07612068e-02,   2.77209685e-03,\n",
       "         1.07414515e-02,   7.20824843e-03,   9.67809882e-03,\n",
       "         1.53097958e-02,   6.05307208e-04,   1.38287894e-02,\n",
       "         1.81561244e-02,   5.49617553e-03,   1.16842287e-02,\n",
       "         6.96500990e-03,   1.52791270e-03,   1.65630092e-02,\n",
       "         1.18551353e-02,   2.06404784e-03,   2.56919898e-03,\n",
       "         2.84982835e-02,   3.31904323e-03,   3.78741370e-03,\n",
       "         2.39967176e-02,   1.70887190e-02,   4.45691647e-03,\n",
       "         3.69417473e-03,   2.34777440e-02,   6.57963003e-03,\n",
       "         1.71512865e-02,   1.23422653e-02,   2.29012313e-02,\n",
       "         7.66320070e-03,   1.22719136e-02,   9.50683304e-03,\n",
       "         1.38994439e-03,   8.36523636e-03,   1.63698211e-02,\n",
       "         7.52337497e-03,   2.62509824e-04,   5.89320241e-03,\n",
       "         2.12414841e-02,   1.88172043e-03,   1.40323980e-02,\n",
       "         1.19633271e-03,   1.74349504e-03,   2.08857118e-02,\n",
       "         1.13441256e-02,   1.25631932e-02,   6.39738968e-03,\n",
       "         1.36374928e-02,   5.49617553e-03,   1.90936527e-02,\n",
       "         1.74349504e-03,   1.29091974e-02,   2.58249844e-02,\n",
       "         8.80064142e-03,   1.72536691e-02,   4.97033830e-03,\n",
       "         1.34644407e-02,   4.26306507e-03,   2.46179966e-03,\n",
       "         4.59511238e-03,   1.02364721e-02,   2.30969731e-02,\n",
       "         2.21466988e-03,   1.35376165e-02,   1.69278475e-02,\n",
       "         5.27599276e-03,   1.44230316e-02,   1.54993267e-03,\n",
       "         7.83601453e-03,   9.68922386e-03,   1.56235259e-02,\n",
       "         2.21437256e-02,   1.15267900e-02,   1.38287894e-02,\n",
       "         9.29343092e-03,   1.30912636e-02,   5.72236470e-03,\n",
       "         4.02795399e-03,   1.60274985e-02,   2.93395533e-03,\n",
       "         1.09147462e-02,   1.75172976e-02,   3.00900816e-03,\n",
       "         1.34852054e-02,   8.42389311e-03,   2.45060026e-03,\n",
       "         1.32822800e-02,   1.95985701e-02,   1.25966799e-02,\n",
       "         1.25537155e-02,   5.64555977e-03,   1.07962531e-02,\n",
       "         1.25966799e-02,   1.65335340e-02,   1.65335340e-02,\n",
       "         1.96532567e-02,   1.60274985e-02,   3.90963969e-03,\n",
       "         2.47316674e-03,   3.24878309e-02,   1.67801419e-03,\n",
       "         1.09545502e-02,   1.02485497e-02,   2.86158967e-03,\n",
       "         1.03966466e-02,   7.87674283e-03,   8.74690119e-03,\n",
       "         4.59511238e-03,   1.21880131e-03,   1.03193639e-02,\n",
       "         2.12597509e-02,   1.37871259e-03,   1.75336750e-02,\n",
       "         1.05789222e-02,   2.50302024e-02,   3.12642193e-03,\n",
       "         9.14208587e-03,   2.89529954e-03,   2.11150021e-02,\n",
       "         4.26306507e-03,   1.58137999e-02,   2.38015646e-02,\n",
       "         7.17024873e-03,   1.87993384e-02,   4.66875424e-04,\n",
       "         9.87162693e-03,   6.22524052e-03,   2.19618498e-02,\n",
       "         1.02364721e-02,   2.78262510e-03,   1.78403003e-02,\n",
       "         1.17232839e-02,   2.06404784e-03,   2.92401035e-03,\n",
       "         7.52337497e-03,   3.85566924e-03,   2.63583750e-02,\n",
       "         1.48506908e-03,   6.22524052e-03,   9.15358787e-03,\n",
       "         1.12018964e-03,   1.36566411e-02,   1.45145902e-02,\n",
       "         1.27792229e-02,   3.20301149e-03,   2.30407982e-02,\n",
       "         1.68864738e-03,   1.25631932e-02,   1.15139008e-02,\n",
       "         4.79896633e-03,   9.80909983e-04,   1.49447295e-02,\n",
       "         1.96532567e-02,   4.22025407e-03,   1.67343453e-02,\n",
       "         1.19633271e-03,   9.49578995e-03,   4.12020515e-04,\n",
       "         8.09523560e-04,   1.88172043e-03,   6.99986793e-03,\n",
       "         1.81499118e-02,   2.82659663e-03,   1.30761591e-02,\n",
       "         4.06960294e-03,   1.47749021e-02,   1.17419598e-03,\n",
       "         2.36314419e-02,   1.30195574e-02,   4.44849181e-04,\n",
       "         6.46456154e-03,   2.60030730e-03,   1.59015659e-02,\n",
       "         2.99707602e-02,   2.14420447e-02,   8.54737160e-03,\n",
       "         7.03899537e-03,   7.73020798e-03,   1.89008460e-02,\n",
       "         7.12635004e-03,   6.56991927e-03,   1.46310613e-04,\n",
       "         1.56109984e-03,   1.50776053e-02,   7.18242758e-03,\n",
       "         8.21983702e-03,   4.43427496e-03,   4.27448066e-03,\n",
       "         9.27585321e-03,   3.47116957e-03,   5.26738473e-03,\n",
       "         1.85580299e-02,   1.20374989e-02,   1.16324644e-03,\n",
       "         3.52262117e-03,   3.34029862e-03,   8.12247386e-03,\n",
       "         1.79815546e-02,   2.07237380e-02,   1.40716014e-02,\n",
       "         1.56163823e-02,   2.37736371e-02,   5.35747972e-03,\n",
       "         1.72812545e-02,   1.24548424e-02,   1.22198760e-02,\n",
       "         7.52337497e-03,   5.09368327e-03,   2.80423486e-03,\n",
       "         1.67454187e-02,   5.47650753e-03,   3.23181544e-02,\n",
       "         1.38039367e-02,   4.42257621e-02,   1.13313616e-02,\n",
       "         2.10526757e-02,   8.65138081e-04,   1.09236008e-02,\n",
       "         7.66320070e-03,   4.62783450e-03,   1.02747805e-02,\n",
       "         7.03899537e-03,   3.71959935e-02,   5.52842547e-03,\n",
       "         6.23574806e-03,   5.34604970e-03,   3.35125981e-03,\n",
       "         1.33269679e-02,   1.48506908e-03,   9.50683304e-03,\n",
       "         1.90355330e-03,   2.30742544e-02,   2.36314419e-02,\n",
       "         6.07560473e-03,   3.36244624e-03,   2.08589857e-03,\n",
       "         1.91331585e-02,   1.56317143e-02,   4.12020515e-04,\n",
       "         1.87405095e-02,   3.02053207e-03,   5.22406300e-03,\n",
       "         1.60401830e-02,   1.68864738e-03,   2.39704050e-03,\n",
       "         6.39738968e-03,   1.74349504e-03,   9.27585321e-03,\n",
       "         7.48099092e-03,   5.01628589e-03,   1.36922337e-02,\n",
       "         1.26232392e-02,   7.48099092e-03,   1.78283250e-02,\n",
       "         2.01176837e-03,   5.14197683e-03,   2.07036408e-02,\n",
       "         3.30874490e-03,   6.03290504e-03,   1.00920028e-02,\n",
       "         9.33604414e-03,   1.17419598e-03,   2.52761558e-02,\n",
       "         2.58976923e-03,   6.23574806e-03,   1.34337142e-02,\n",
       "         9.66762243e-03,   2.14663905e-02,   1.05902421e-03,\n",
       "         1.83455613e-02,   1.19844404e-02,   8.17527041e-03,\n",
       "         8.54737160e-03,   7.67308055e-03,   1.64348269e-02,\n",
       "         6.99986793e-03,   1.56235259e-02,   5.15265676e-03,\n",
       "         1.22576641e-02,   6.92506108e-03,   6.37842713e-03,\n",
       "         8.53894419e-04,   7.35273310e-03,   3.32956046e-03,\n",
       "         6.12485709e-03,   8.09523560e-04,   1.11057541e-02,\n",
       "         1.00920028e-02,   1.35095902e-02,   8.26537671e-03,\n",
       "         2.08589857e-03,   1.34554107e-02,   1.00042674e-02,\n",
       "         4.26306507e-03,   5.58965159e-03,   1.31098682e-02,\n",
       "         2.07237380e-02,   1.62099964e-02,   1.66748818e-03,\n",
       "         2.09703366e-03,   2.41798554e-03,   1.84989429e-03,\n",
       "         6.26978304e-03,   1.14610402e-02,   7.13660681e-03,\n",
       "         1.31098682e-02,   6.84272123e-03,   5.15265676e-03,\n",
       "         2.28591501e-02,   1.31204867e-02,   1.45922747e-02,\n",
       "         2.30344299e-02,   8.01819491e-03,   1.34852054e-02,\n",
       "         5.66841130e-03,   4.33880400e-04,   5.85065959e-03,\n",
       "         5.52842547e-03,   1.09435010e-02,   4.58481915e-03,\n",
       "         1.42270842e-02,   3.13673327e-03,   8.76446714e-04,\n",
       "         8.09523560e-04,   2.65412431e-02,   8.39204375e-03,\n",
       "         2.62509824e-04,   1.36757618e-03,   1.73342770e-02,\n",
       "         3.32956046e-03,   3.30874490e-03,   3.35125981e-03,\n",
       "         1.36757618e-03,   7.49083493e-03,   2.37906610e-02,\n",
       "         1.26377982e-02,   3.15589896e-02,   1.31098682e-02,\n",
       "         1.06013733e-02,   5.65875713e-03,   1.33144559e-02,\n",
       "         1.77995682e-02,   1.15701422e-02,   1.37205720e-02,\n",
       "         5.32426620e-03,   3.43442933e-03,   2.62509824e-04,\n",
       "         5.47650753e-03,   1.08925489e-02,   1.00287554e-03,\n",
       "         1.87018264e-02,   1.38389232e-02,   5.87114603e-03,\n",
       "         7.19509318e-03,   5.74663836e-03,   1.37871259e-03,\n",
       "         6.99986793e-03,   4.61661794e-03,   1.67709402e-02,\n",
       "         2.79333707e-03,   6.57963003e-03,   1.70649359e-02,\n",
       "         2.43956624e-03,   1.13193608e-02,   2.24958868e-02,\n",
       "         1.76577666e-02,   2.52158324e-02,   2.49431169e-02,\n",
       "         1.68897811e-02,   1.36757618e-03,   4.10369616e-03,\n",
       "         9.11125320e-03,   1.51272525e-02,   1.29749108e-02,\n",
       "         1.23912121e-02,   1.57237484e-03,   2.04143045e-02,\n",
       "         1.12976381e-02,   2.03589966e-02,   6.98777781e-03,\n",
       "         2.43768985e-02,   1.31001278e-02,   4.29818353e-03,\n",
       "         1.19633271e-03,   3.53360964e-03,   1.02176089e-04,\n",
       "         1.21536458e-02,   1.07046001e-02,   1.75998489e-02,\n",
       "         2.29142518e-02,   5.57664678e-03,   5.40483757e-04,\n",
       "         5.19884889e-03,   1.03966466e-02,   1.04074319e-02,\n",
       "         2.10774785e-02,   4.13566100e-02,   1.19844404e-02,\n",
       "         6.25801705e-03,   1.63925149e-02,   5.60304203e-03,\n",
       "         4.62783450e-03,   2.95441800e-03,   1.68864738e-03,\n",
       "         1.37205720e-02,   1.96044001e-02,   2.52036019e-03,\n",
       "         9.44283248e-03,   8.75647565e-03,   2.79277409e-02,\n",
       "         1.16964580e-02,   2.70333298e-02,   7.50117894e-03,\n",
       "         1.74635926e-02,   1.58575529e-02,   1.76258638e-02,\n",
       "         4.79896633e-03,   7.19509318e-03,   1.23029136e-02,\n",
       "         1.38994439e-03,   1.35653289e-03,   1.34558049e-03,\n",
       "         2.31459972e-02,   4.46868930e-03,   2.86158967e-03,\n",
       "         7.40482323e-03,   2.03589966e-02,   2.42869539e-03,\n",
       "         6.46456154e-03,   1.63806184e-02,   1.19633271e-03,\n",
       "         6.06432142e-03,   5.68885023e-03,   9.11690704e-05,\n",
       "         1.11369486e-02,   1.85364893e-02,   5.50655715e-03,\n",
       "         5.14197683e-03,   1.74531016e-02,   2.27315601e-02,\n",
       "         3.52262117e-03,   1.25031367e-02,   3.02053207e-03,\n",
       "         1.18921826e-02,   8.75647565e-03,   1.56109984e-03,\n",
       "         7.81095044e-03,   5.33497927e-03,   7.12635004e-03,\n",
       "         6.22524052e-03,   1.14700750e-02,   8.61813277e-03,\n",
       "         1.21732793e-02,   2.73507498e-04,   6.17085617e-03,\n",
       "         7.12635004e-03,   9.07864909e-03,   3.87648080e-03,\n",
       "         7.09842457e-03,   1.12707217e-02,   1.15017873e-02,\n",
       "         2.26827197e-02,   9.98903572e-03,   1.23483597e-02,\n",
       "         1.90355330e-03,   5.28494768e-03,   1.60539471e-02,\n",
       "         6.41805544e-03,   1.90355330e-03,   6.23574806e-03,\n",
       "         1.31001278e-02,   6.91714414e-05,   7.17024873e-03,\n",
       "         2.79333707e-03,   6.79377442e-03,   2.50302024e-02,\n",
       "         1.37526300e-02,   9.51851460e-03,   4.10369616e-03,\n",
       "         4.63936327e-03,   3.06872753e-03,   2.58976923e-03,\n",
       "         1.38195814e-02,   9.74025974e-03,   1.71228067e-02,\n",
       "         2.12499057e-02,   2.50398306e-02,   1.76353157e-02,\n",
       "         1.23483597e-02,   1.31001278e-02,   1.36219923e-02,\n",
       "         1.72121098e-03,   8.54737160e-03,   1.37919817e-02,\n",
       "         4.87147900e-03,   1.09545502e-02,   1.24404397e-02,\n",
       "         1.87186594e-02,   9.45796164e-03,   1.07838462e-02,\n",
       "         1.03634168e-03,   1.25966799e-02,   4.16615038e-03,\n",
       "         1.31324686e-03,   6.38187506e-04,   2.92401035e-03,\n",
       "         1.66520628e-02,   1.33144559e-02,   1.94075014e-02,\n",
       "         2.29073403e-03,   4.05878691e-03,   1.41931786e-02,\n",
       "         7.13660681e-03,   8.03758102e-03,   1.81820563e-02,\n",
       "         1.65882142e-02,   9.32445390e-03,   1.07509697e-02,\n",
       "         9.10219367e-03,   2.07493973e-02,   4.45691647e-03,\n",
       "         3.06621129e-04,   1.49447295e-02,   1.72121098e-03,\n",
       "         2.22509233e-03,   7.86577257e-03,   6.77205161e-03,\n",
       "         5.11198659e-03,   1.38619755e-02,   2.28798000e-02,\n",
       "         9.68922386e-03,   7.90027262e-03,   8.80064142e-03,\n",
       "         3.84564569e-03,   4.14030781e-03,   3.18006426e-03,\n",
       "         4.99263785e-03,   1.47136839e-02,   9.72651483e-03,\n",
       "         9.31348971e-03,   9.80909983e-04,   7.88824204e-03,\n",
       "         1.27454083e-02,   1.36466103e-02,   1.07721650e-02,\n",
       "         1.33028388e-02,   1.94475096e-02,   2.50561694e-02,\n",
       "         1.52595731e-02,   2.16692686e-03,   2.10831156e-03,\n",
       "         9.33604414e-03,   4.98132070e-03,   3.82635394e-03,\n",
       "         7.52337497e-03,   1.47505423e-02,   1.25537155e-02,\n",
       "         1.34400483e-02,   3.53360964e-03,   1.08093885e-02,\n",
       "         1.76104994e-02,   8.94891276e-03,   2.48966178e-02,\n",
       "         1.39858820e-02,   4.39254541e-03,   2.17963349e-02,\n",
       "         1.79815546e-02,   4.25193682e-03,   2.84523792e-04,\n",
       "         1.59958958e-02,   7.33857497e-04,   5.68885023e-03,\n",
       "         5.55178204e-03,   5.99662464e-03,   3.52262117e-03,\n",
       "         2.22509233e-03,   3.75053074e-03,   6.22524052e-03,\n",
       "         1.98650502e-02,   7.17024873e-03,   3.93306606e-03,\n",
       "         1.44230316e-02,   1.51402239e-02,   5.49617553e-03,\n",
       "         1.99943412e-02,   1.51272525e-02,   1.68897811e-02,\n",
       "         2.43275702e-02,   5.34604970e-03,   9.88350036e-03,\n",
       "         6.37842713e-03,   2.56272401e-02,   2.25251895e-02,\n",
       "         1.67454187e-02,   1.80665471e-02,   6.41805544e-03,\n",
       "         1.25316703e-03,   1.76104994e-02,   3.89832498e-03,\n",
       "         6.99986793e-03,   7.66320070e-03,   1.12976381e-02,\n",
       "         9.72651483e-03,   8.95972838e-03,   1.61620917e-02,\n",
       "         2.43956624e-03,   8.53894419e-04,   4.29818353e-03,\n",
       "         8.47430076e-03,   1.92589875e-03,   4.44544583e-03,\n",
       "         3.34029862e-03,   4.79896633e-03,   1.25450772e-02,\n",
       "         4.43427496e-03,   1.23029136e-02,   7.31889047e-03,\n",
       "         1.52977016e-02,   5.36927173e-03,   1.15017873e-02,\n",
       "         2.56141958e-02,   2.94537278e-02,   9.46647056e-03,\n",
       "         5.43365175e-03,   1.99842595e-02,   3.16891446e-03,\n",
       "         2.42869539e-03,   6.79377442e-03,   7.78533636e-03,\n",
       "         2.29606440e-04,   2.58976923e-03,   1.69278475e-02,\n",
       "         7.47164518e-03,   4.97033830e-03,   8.09523560e-04,\n",
       "         1.02176089e-04,   7.09842457e-03,   1.02250828e-02,\n",
       "         2.39445452e-02,   1.25316703e-03,   1.58335525e-02,\n",
       "         1.00786692e-02,   1.45576127e-02,   3.40949140e-03,\n",
       "         1.49220964e-02,   1.07612068e-02,   9.14208587e-03,\n",
       "         6.38187506e-04,   9.48435318e-04,   9.65779268e-03,\n",
       "         4.55575489e-03,   7.17024873e-03,   2.40561499e-04,\n",
       "         2.50272868e-02,   2.25075229e-02,   1.07509697e-02,\n",
       "         2.24301427e-04,   6.00509867e-03,   1.36219923e-02,\n",
       "         9.70024106e-04,   5.91684653e-03,   8.97114520e-03,\n",
       "         1.62367681e-02,   2.07490404e-03,   2.39729006e-02,\n",
       "         6.16227535e-04,   2.57851551e-02,   1.11890290e-02,\n",
       "         1.66024911e-02,   8.01819491e-03,   8.03758102e-03,\n",
       "         1.20266469e-02,   3.57996353e-03,   2.05533071e-02,\n",
       "         9.89603970e-03,   3.51186814e-03,   5.16368163e-03,\n",
       "         5.89320241e-03,   1.69938983e-03,   1.77815357e-02,\n",
       "         2.50932816e-02,   3.05635850e-03,   2.27941307e-03,\n",
       "         1.04764422e-03,   1.67801419e-03,   2.55916294e-03,\n",
       "         2.80423486e-03,   1.34852054e-02,   2.01437914e-02,\n",
       "         1.90589072e-02,   2.73507498e-04,   8.41271338e-03,\n",
       "         3.57996353e-03,   8.00930329e-03,   2.62189946e-03,\n",
       "         1.57382003e-04,   7.63264920e-03,   1.99620430e-02,\n",
       "         2.94409059e-03,   1.20491587e-02,   9.29343092e-03,\n",
       "         1.22576641e-02,   9.67809882e-03,   1.16324644e-03,\n",
       "         1.44096689e-02,   7.29878039e-03,   1.37871259e-03,\n",
       "         5.16368163e-03,   1.73229403e-03,   1.02143794e-02,\n",
       "         2.84756583e-02,   1.21732793e-02,   1.83455613e-02,\n",
       "         7.30859162e-03,   1.90355330e-03,   4.55575489e-03,\n",
       "         8.20530232e-04,   1.56883832e-02,   5.35747972e-03,\n",
       "         2.14663905e-02,   9.86041686e-03,   1.20073582e-02,\n",
       "         7.60826602e-03,   9.26799128e-03,   1.09066200e-02,\n",
       "         1.36794504e-02,   1.56409488e-02,   4.97033830e-03,\n",
       "         4.51885480e-03,   2.58976923e-03,   9.31348971e-03,\n",
       "         2.61755412e-02,   5.73430678e-03,   2.25723463e-03,\n",
       "         1.36566411e-02,   1.79681315e-02,   1.87289564e-02,\n",
       "         5.11198659e-03,   1.74880913e-02,   8.59504271e-03,\n",
       "         2.25786668e-02,   9.11125320e-03,   2.01664160e-02,\n",
       "         5.09368327e-03,   4.38284158e-03,   1.34852054e-02,\n",
       "         2.19785172e-02,   4.65120667e-03,   2.06404784e-03,\n",
       "         2.63295782e-03,   4.99263785e-03,   2.27617746e-02,\n",
       "         1.63322619e-02,   1.23809873e-02,   6.16227535e-04,\n",
       "         1.10968425e-02,   2.69096403e-03,   1.74437799e-02,\n",
       "         1.57350581e-02,   8.31592770e-04,   1.13191530e-04,\n",
       "         4.62783450e-03,   7.34095899e-03,   1.11369486e-02,\n",
       "         9.27076294e-04,   1.26232392e-02,   7.19509318e-03,\n",
       "         9.48538312e-03,   6.90785125e-03,   7.50117894e-03,\n",
       "         5.02862188e-03,   5.71080951e-03,   1.54344872e-02,\n",
       "         8.20983125e-03,   1.35376165e-02,   8.38254996e-03,\n",
       "         8.85431148e-03,   2.38140651e-02,   4.61661794e-03,\n",
       "         4.02795399e-03,   4.74743280e-03,   3.90963969e-03,\n",
       "         3.15664214e-02,   4.45691647e-03,   1.59875052e-02,\n",
       "         8.97114520e-03,   1.99943412e-02,   1.47505423e-02,\n",
       "         1.56235259e-02,   2.19425046e-03,   1.16324644e-03,\n",
       "         4.45691647e-03,   5.38142825e-03,   1.01395963e-03,\n",
       "         1.42035273e-02,   9.32445390e-03,   6.05344511e-03,\n",
       "         1.97756795e-02,   1.33471679e-03,   5.48615959e-03,\n",
       "         4.63936327e-03,   6.21514821e-03,   8.58436339e-03,\n",
       "         5.92927025e-03,   1.06266773e-02,   1.42035273e-02,\n",
       "         1.17419598e-03,   1.29749108e-02,   2.53957985e-03,\n",
       "         1.94877506e-03,   2.17874320e-02,   3.90963969e-03,\n",
       "         3.50134845e-03,   8.77738085e-03,   8.56472576e-03,\n",
       "         1.24217612e-04,   1.35095902e-02,   1.63515157e-02,\n",
       "         8.21983702e-03,   4.05878691e-03,   6.09940185e-03,\n",
       "         3.37530966e-02,   1.45576127e-02,   3.20301149e-03,\n",
       "         1.27358461e-02,   9.49578995e-03,   1.31001278e-02,\n",
       "         6.06432142e-03,   1.11614817e-02,   3.71755452e-02,\n",
       "         7.70580246e-03,   6.93435477e-03,   1.21987900e-02,\n",
       "         5.32426620e-03,   1.88916639e-02,   4.24109365e-03,\n",
       "         4.46868930e-03,   9.67809882e-03,   9.64006644e-03,\n",
       "         7.26437998e-03,   1.96044001e-02,   1.63440046e-02,\n",
       "         1.24700901e-02,   5.75936218e-03,   4.09205526e-03,\n",
       "         4.05878691e-03,   1.00042674e-02,   1.07612068e-02,\n",
       "         8.23039230e-03,   2.75975064e-02,   8.27815264e-03,\n",
       "         1.92652705e-02,   5.47650753e-03,   8.21983702e-03,\n",
       "         1.42270842e-02,   9.14208587e-03,   2.37906610e-02,\n",
       "         1.80362045e-02,   1.52023464e-02,   6.05307208e-04,\n",
       "         1.55199636e-02,   1.47622261e-02,   1.20266469e-02,\n",
       "         1.04764422e-03,   6.00509867e-03,   7.81878586e-03,\n",
       "         4.48076683e-03,   7.67308055e-03,   1.56317143e-02,\n",
       "         1.38748990e-02,   3.73875465e-03,   8.26537671e-03,\n",
       "         1.38619755e-02,   1.26095342e-02,   2.95560926e-04,\n",
       "         1.70649359e-02,   7.11656853e-03,   1.01863647e-02,\n",
       "         6.02323743e-03,   7.76816687e-04,   8.09548521e-03,\n",
       "         3.25161071e-02,   5.68885023e-03,   6.61139877e-03,\n",
       "         4.40253880e-03,   1.71024365e-03,   1.67078488e-02,\n",
       "         3.73875465e-03,   4.62783450e-03,   7.84541030e-03,\n",
       "         1.81331042e-03,   4.19108274e-03,   3.28251756e-02,\n",
       "         1.69278475e-02,   1.16964580e-02,   2.07490404e-03,\n",
       "         1.55982507e-02])"
      ]
     },
     "execution_count": 62,
     "metadata": {},
     "output_type": "execute_result"
    }
   ],
   "source": [
    "def simulate_one_HERS_statistic():\n",
    "    shuffled_label = HERS.sample().column(0)\n",
    "    new = HERS.with_column('HRT', shuffled_label)  \n",
    "    return  HERS_test_statistic(new)\n",
    "HERS_test_statistics = make_array()\n",
    "for i in np.arange(1000):\n",
    "    new_HERS_statistic = simulate_one_HERS_statistic()\n",
    "    HERS_test_statistics = np.append(HERS_test_statistics, new_HERS_statistic)\n",
    "HERS_test_statistics   "
   ]
  },
  {
   "cell_type": "code",
   "execution_count": 63,
   "metadata": {
    "deletable": false,
    "editable": false
   },
   "outputs": [
    {
     "name": "stdout",
     "output_type": "stream",
     "text": [
      "~~~~~~~~~~~~~~~~~~~~~~~~~~~~~~~~~~~~~~~~~~~~~~~~~~~~~~~~~~~~~~~~~~~~~\n",
      "Running tests\n",
      "\n",
      "---------------------------------------------------------------------\n",
      "Test summary\n",
      "    Passed: 2\n",
      "    Failed: 0\n",
      "[ooooooooook] 100.0% passed\n",
      "\n"
     ]
    }
   ],
   "source": [
    "ok.grade(\"q3_2_3\");"
   ]
  },
  {
   "cell_type": "markdown",
   "metadata": {},
   "source": [
    "The code below generates a histogram of the simulated test statistics along with your test statistic:"
   ]
  },
  {
   "cell_type": "code",
   "execution_count": 64,
   "metadata": {},
   "outputs": [
    {
     "data": {
      "image/png": "[encoded data removed]",
      "text/plain": [
       "<Figure size 432x288 with 1 Axes>"
      ]
     },
     "metadata": {},
     "output_type": "display_data"
    }
   ],
   "source": [
    "Table().with_column('Simulated test statistics', HERS_test_statistics).hist(bins=np.arange(0,.04,.003))\n",
    "plots.scatter(HERS_test_statistic(HERS), 0, color='red', s=30);"
   ]
  },
  {
   "cell_type": "markdown",
   "metadata": {
    "deletable": false,
    "editable": false
   },
   "source": [
    "**Question 4.** Compute the P-value for your hypothesis test and assign it to `HERS_pval`. \n",
    "\n",
    "<!--\n",
    "BEGIN QUESTION\n",
    "name: q3_2_4\n",
    "-->"
   ]
  },
  {
   "cell_type": "code",
   "execution_count": 65,
   "metadata": {},
   "outputs": [
    {
     "data": {
      "text/plain": [
       "0.841"
      ]
     },
     "execution_count": 65,
     "metadata": {},
     "output_type": "execute_result"
    }
   ],
   "source": [
    "HERS_pval = np.count_nonzero(HERS_test_statistics >= observed_HERS_test_statistic)/ len(HERS_test_statistics)\n",
    "HERS_pval"
   ]
  },
  {
   "cell_type": "code",
   "execution_count": 66,
   "metadata": {
    "deletable": false,
    "editable": false
   },
   "outputs": [
    {
     "name": "stdout",
     "output_type": "stream",
     "text": [
      "~~~~~~~~~~~~~~~~~~~~~~~~~~~~~~~~~~~~~~~~~~~~~~~~~~~~~~~~~~~~~~~~~~~~~\n",
      "Running tests\n",
      "\n",
      "---------------------------------------------------------------------\n",
      "Test summary\n",
      "    Passed: 1\n",
      "    Failed: 0\n",
      "[ooooooooook] 100.0% passed\n",
      "\n"
     ]
    }
   ],
   "source": [
    "ok.grade(\"q3_2_4\");"
   ]
  },
  {
   "cell_type": "markdown",
   "metadata": {},
   "source": [
    "In part 3, we gave you 2001 bootstrapped relative risks. In the context of the HERS trial, relative risk is now defined as the ratio of the probability that a given woman in the treatment group will have CHD over the study period divided by the probability that a given woman in the control group will have CHD over the study period.\n",
    "\n",
    "We plot the histogram of bootstrapped relative risks, along with a confidence interval representing the middle 95% of that histogram:\n",
    "<img src=\"bootstrap-HERS.png\" width=400>"
   ]
  },
  {
   "cell_type": "markdown",
   "metadata": {
    "deletable": false,
    "editable": false
   },
   "source": [
    "**Question 5.** Based on the results for this experiment using HERS data, can we reject our null hypothesis that HRT has no effect on CHD risk? Explain why or why not using both the p-value and 95% confidence interval.\n",
    "\n",
    "*Hint*: If you're not sure how to interpret relative risks, go back to Question 3 of Nurses' Health Study section.\n",
    "\n",
    "<!--\n",
    "BEGIN QUESTION\n",
    "name: q3_2_5\n",
    "manual: true\n",
    "-->\n",
    "<!-- EXPORT TO PDF -->"
   ]
  },
  {
   "cell_type": "markdown",
   "metadata": {
    "export_pdf": true
   },
   "source": [
    "No, the p-value is higher than the 0.05 cutoff; can’t conclude HRT affects CHD risk\n",
    "In addition, the confidence interval includes values below 1 and above 1; can’t conclude HRT affects CHD risk\n"
   ]
  },
  {
   "cell_type": "markdown",
   "metadata": {},
   "source": [
    "The Heart and Estrogen-Progestin Replacement Study found that HRT did not have a significant impact on a woman's risk of CHD. These findings contradicted the results of the Nurses' Heart study, challenging the efficacy of a treatment that had become the standard of care for heart disease prevention. \n",
    "\n",
    "The HERS study authors put forward a possible answer regarding why the NHS study might be biased:\n",
    "> However, the observed association between estrogen therapy and reduced CHD risk might be attributable to selection bias if women who choose to take hormones are healthier and have a more favorable CHD profile than those who do not. Observational studies cannot resolve this uncertainty.\n",
    "\n",
    "**Selection bias** occurs in observational studies when there is a systematic difference between participants that receive a treatment and participants that do not receive a treatment. When this type of bias is present, the observed treatment effect might be a result of an unmeasured confounding variable."
   ]
  },
  {
   "cell_type": "markdown",
   "metadata": {
    "deletable": false,
    "editable": false
   },
   "source": [
    "**Question 6:** If women who choose to take hormones are healthier to begin with than women who choose not to, why might that systematically bias the results of observational studies like the NHS? Would we expect observational studies to overestimate or underestimate the protective effect of HRT?\n",
    "\n",
    "<!--\n",
    "BEGIN QUESTION\n",
    "name: q3_2_4\n",
    "manual: true\n",
    "-->\n",
    "<!-- EXPORT TO PDF -->"
   ]
  },
  {
   "cell_type": "markdown",
   "metadata": {
    "export_pdf": true
   },
   "source": [
    "If women who choose to take hormones are healthier and are recorded in the study, then this would decrease the overall chance to being at risk of CHD and imply that HRT has an association. Leading towards biased data in the study, hence overestimate the protective effecr of HRT "
   ]
  },
  {
   "cell_type": "markdown",
   "metadata": {},
   "source": [
    "### Further reading\n",
    "\n",
    "If you're interested in learning more, you can check out these articles:\n",
    "\n",
    "* [Origin story of the Framingham Heart Study](https://www.ncbi.nlm.nih.gov/pmc/articles/PMC1449227/)\n",
    "* [NYT article on the Nurses' Health Study and the HERS study](https://www.nytimes.com/2003/04/22/science/hormone-studies-what-went-wrong.html)"
   ]
  },
  {
   "cell_type": "markdown",
   "metadata": {},
   "source": [
    "## Checkpoint 2 (Due 11/8)\n",
    "#### Congratulations, you have reached the second checkpoint! Run the submit cell below to generate the checkpoint submission.\n",
    "To get full credit for this checkpoint, you must pass all the public autograder tests above this cell."
   ]
  },
  {
   "cell_type": "code",
   "execution_count": 67,
   "metadata": {},
   "outputs": [
    {
     "data": {
      "application/javascript": [
       "IPython.notebook.save_checkpoint();"
      ],
      "text/plain": [
       "<IPython.core.display.Javascript object>"
      ]
     },
     "metadata": {},
     "output_type": "display_data"
    },
    {
     "data": {
      "application/javascript": [
       "IPython.notebook.save_notebook();"
      ],
      "text/plain": [
       "<IPython.core.display.Javascript object>"
      ]
     },
     "metadata": {},
     "output_type": "display_data"
    },
    {
     "name": "stdout",
     "output_type": "stream",
     "text": [
      "Saving notebook... Saved 'project2.ipynb'.\n",
      "Submit... 0.0% complete\n",
      "Could not submit: Late Submission of cal/data8/fa19/project2\n",
      "Backup... 100% complete\n",
      "Backup past deadline by 700 days, 19 hours, 33 minutes, and 57 seconds\n",
      "\n"
     ]
    }
   ],
   "source": [
    "_ = ok.submit()"
   ]
  },
  {
   "cell_type": "markdown",
   "metadata": {},
   "source": [
    "## Part 4: Diet and Cardiovascular Disease"
   ]
  },
  {
   "cell_type": "markdown",
   "metadata": {},
   "source": [
    "To establish a causal link between saturated fat intake, serum cholesterol, and heart disease, a group of doctors in the US established the National Heart-Diet Study. The study was based in 6 centers: Baltimore, Boston, Chicago, Minneapolis-St. Paul, Oakland, and Faribault, MN. The first 5 centers recruited volunteers from the local population: volunteers and their families were asked to adjust their diet to include more or less saturated fat.\n",
    "\n",
    "You may already have a strong intuition about what the doctors concluded in their findings, but the evidence from the trial was surprisingly complex.\n",
    "\n",
    "The sixth center was organized by Dr. Ivan Frantz, and its study was known as the Minnesota Coronary Experiment. Dr. Frantz was a strong proponent of reducing saturated fats to prevent death from heart disease. He believed so strongly in the idea that he placed his household on a strict diet very low in saturated fats. The main difference between the Minnesota Coronary Experiment and the rest of the National Diet-Heart Study was the setting. While the other centers in the study looked at volunteers, Dr. Frantz conducted his study at Faribault State Hospital, which housed patients who were institutionalized due to disabilities or mental illness.\n",
    "\n",
    "In this institution, the subjects were randomly divided into two equal groups: half of the subjects, the **control group**, were fed meals cooked with saturated fats, and the other half, the **diet group**, were fed meals cooked with polyunsaturated fats. For example, the diet group's oils were replaced with corn oils and their butter was replaced with margarine. The subjects did not know which food they were getting, to avoid any potential bias or placebo effect. This type of study is known as a **blind** study.\n",
    "\n",
    "Although standards for informed consent in participation weren't as strict then as they are today, the study was described as follows:\n",
    "\n",
    "*No consent forms were required because the study diets were considered to be acceptable as house diets and the testing was considered to contribute to better patient care.  Prior to beginning the diet phase, the project was explained and sample foods were served. Residents were given the opportunity to decline participation.*\n",
    "\n",
    "Despite the level of detail and effort in the study, the results of the study were never extensively examined until the late 21st century. Over 40 years after the data were collected, Dr. Christopher Ramsden heard about the experiment, and asked Dr. Frantz's son Robert to uncover the files in the Frantz family home's dusty basement. You can learn more about the story of how the data was recovered on the [Revisionist History podcast](http://revisionisthistory.com/episodes/20-the-basement-tapes) or in [Scientific American magazine](https://www.scientificamerican.com/article/records-found-in-dusty-basement-undermine-decades-of-dietary-advice/)."
   ]
  },
  {
   "cell_type": "markdown",
   "metadata": {
    "deletable": false,
    "editable": false
   },
   "source": [
    "**Question 1:** While the data from such a study may be useful scientifically, it also raises major ethical concerns. Describe at least one ethical problem with the study conducted at Faribault State Hospital.\n",
    "\n",
    "*Hint*: There isn't necessarily a single right or wrong answer to this question. If you're not sure, some areas of consideration may be the study organizers' selection of participants for the study, as well as their justification for not using consent forms. You could also ask yourself how the project might have been explained to the patients prior to the diet phase, and to what degree were they capable of consent.\n",
    "\n",
    "<!--\n",
    "BEGIN QUESTION\n",
    "name: q4_1\n",
    "manual: true\n",
    "-->\n",
    "<!-- EXPORT TO PDF -->"
   ]
  },
  {
   "cell_type": "markdown",
   "metadata": {
    "export_pdf": true
   },
   "source": [
    "An ethical concern that I personally find worrying is the fact that if the hypothesis was set to prove saturated fat intake somehow was linked with a variety of diseases, giving patients a high amount of saturated fats in their food could impact their health in a negative way. Moreover if the study was conducted in a mental institution, patients with disabilities may or may not be capable of making a reasonable decision when it comes to join or decline to participate in the study. "
   ]
  },
  {
   "cell_type": "markdown",
   "metadata": {},
   "source": [
    "In recent years, poor treatment of patients at Faribault State Hospital (and other similar institutions in Minnesota) has come to light: the state has recently [changed patients' gravestones from numbers to their actual names](https://www.tcdailyplanet.net/minnesota-saying-sorry-treatment-persons-disabilities/), and [apologized for inhumane treatment of patients](https://www.tcdailyplanet.net/minnesota-saying-sorry-treatment-persons-disabilities/).|"
   ]
  },
  {
   "cell_type": "markdown",
   "metadata": {},
   "source": [
    "### The Data"
   ]
  },
  {
   "cell_type": "markdown",
   "metadata": {},
   "source": [
    "We want to see whether or not death rates were reduced on low saturated fat diet. Unfortunately, the data for each individual in the 1968 study is not available; only summary statistics are available.  \n",
    "\n",
    "The following table is a summarized version of the data collected in the experiment. "
   ]
  },
  {
   "cell_type": "code",
   "execution_count": 68,
   "metadata": {},
   "outputs": [
    {
     "data": {
      "text/html": [
       "<table border=\"1\" class=\"dataframe\">\n",
       "    <thead>\n",
       "        <tr>\n",
       "            <th>Age</th> <th>Condition</th> <th>Total</th> <th>Deaths</th> <th>CHD Deaths</th>\n",
       "        </tr>\n",
       "    </thead>\n",
       "    <tbody>\n",
       "        <tr>\n",
       "            <td>0-34 </td> <td>Diet     </td> <td>1367 </td> <td>3     </td> <td>0         </td>\n",
       "        </tr>\n",
       "        <tr>\n",
       "            <td>35-44</td> <td>Diet     </td> <td>728  </td> <td>3     </td> <td>0         </td>\n",
       "        </tr>\n",
       "        <tr>\n",
       "            <td>45-54</td> <td>Diet     </td> <td>767  </td> <td>14    </td> <td>4         </td>\n",
       "        </tr>\n",
       "        <tr>\n",
       "            <td>55-64</td> <td>Diet     </td> <td>870  </td> <td>35    </td> <td>7         </td>\n",
       "        </tr>\n",
       "        <tr>\n",
       "            <td>65+  </td> <td>Diet     </td> <td>953  </td> <td>190   </td> <td>42        </td>\n",
       "        </tr>\n",
       "        <tr>\n",
       "            <td>0-34 </td> <td>Control  </td> <td>1337 </td> <td>7     </td> <td>1         </td>\n",
       "        </tr>\n",
       "        <tr>\n",
       "            <td>35-44</td> <td>Control  </td> <td>731  </td> <td>4     </td> <td>1         </td>\n",
       "        </tr>\n",
       "        <tr>\n",
       "            <td>45-54</td> <td>Control  </td> <td>816  </td> <td>16    </td> <td>4         </td>\n",
       "        </tr>\n",
       "        <tr>\n",
       "            <td>55-64</td> <td>Control  </td> <td>896  </td> <td>33    </td> <td>12        </td>\n",
       "        </tr>\n",
       "        <tr>\n",
       "            <td>65+  </td> <td>Control  </td> <td>958  </td> <td>162   </td> <td>34        </td>\n",
       "        </tr>\n",
       "    </tbody>\n",
       "</table>"
      ],
      "text/plain": [
       "Age   | Condition | Total | Deaths | CHD Deaths\n",
       "0-34  | Diet      | 1367  | 3      | 0\n",
       "35-44 | Diet      | 728   | 3      | 0\n",
       "45-54 | Diet      | 767   | 14     | 4\n",
       "55-64 | Diet      | 870   | 35     | 7\n",
       "65+   | Diet      | 953   | 190    | 42\n",
       "0-34  | Control   | 1337  | 7      | 1\n",
       "35-44 | Control   | 731   | 4      | 1\n",
       "45-54 | Control   | 816   | 16     | 4\n",
       "55-64 | Control   | 896   | 33     | 12\n",
       "65+   | Control   | 958   | 162    | 34"
      ]
     },
     "execution_count": 68,
     "metadata": {},
     "output_type": "execute_result"
    }
   ],
   "source": [
    "mortality_summary = Table.read_table('mortality_summary.csv')\n",
    "mortality_summary"
   ]
  },
  {
   "cell_type": "markdown",
   "metadata": {},
   "source": [
    "In order to test whether eating diet actually reduced death rates, we need to synthetically create a table with one row for each participant in the study. \n",
    "\n",
    "We want to expand the `mortality_summary` table to create a row for each study participant. `minnesota_data` is a table with four columns: \"Age\", \"Condition\", \"Participated\" and \"Died\". Each row contains a specific patient and has their age group and condition as specified in the `mortality_summary` table, a `True` in the \"Participated\" column (since everyone participated in the experiment), and either a `True` or `False` in the \"Died\" column, depending on if they are alive or dead. \n",
    "\n",
    "Run the cell below to view the study data that has been created from the summary statistics. "
   ]
  },
  {
   "cell_type": "code",
   "execution_count": 69,
   "metadata": {},
   "outputs": [
    {
     "data": {
      "text/html": [
       "<table border=\"1\" class=\"dataframe\">\n",
       "    <thead>\n",
       "        <tr>\n",
       "            <th>Age</th> <th>Condition</th> <th>Died</th> <th>Participated</th>\n",
       "        </tr>\n",
       "    </thead>\n",
       "    <tbody>\n",
       "        <tr>\n",
       "            <td>0-34</td> <td>Diet     </td> <td>True </td> <td>True        </td>\n",
       "        </tr>\n",
       "        <tr>\n",
       "            <td>0-34</td> <td>Diet     </td> <td>True </td> <td>True        </td>\n",
       "        </tr>\n",
       "        <tr>\n",
       "            <td>0-34</td> <td>Diet     </td> <td>True </td> <td>True        </td>\n",
       "        </tr>\n",
       "        <tr>\n",
       "            <td>0-34</td> <td>Diet     </td> <td>False</td> <td>True        </td>\n",
       "        </tr>\n",
       "        <tr>\n",
       "            <td>0-34</td> <td>Diet     </td> <td>False</td> <td>True        </td>\n",
       "        </tr>\n",
       "        <tr>\n",
       "            <td>0-34</td> <td>Diet     </td> <td>False</td> <td>True        </td>\n",
       "        </tr>\n",
       "        <tr>\n",
       "            <td>0-34</td> <td>Diet     </td> <td>False</td> <td>True        </td>\n",
       "        </tr>\n",
       "        <tr>\n",
       "            <td>0-34</td> <td>Diet     </td> <td>False</td> <td>True        </td>\n",
       "        </tr>\n",
       "        <tr>\n",
       "            <td>0-34</td> <td>Diet     </td> <td>False</td> <td>True        </td>\n",
       "        </tr>\n",
       "        <tr>\n",
       "            <td>0-34</td> <td>Diet     </td> <td>False</td> <td>True        </td>\n",
       "        </tr>\n",
       "    </tbody>\n",
       "</table>\n",
       "<p>... (9413 rows omitted)</p>"
      ],
      "text/plain": [
       "Age  | Condition | Died  | Participated\n",
       "0-34 | Diet      | True  | True\n",
       "0-34 | Diet      | True  | True\n",
       "0-34 | Diet      | True  | True\n",
       "0-34 | Diet      | False | True\n",
       "0-34 | Diet      | False | True\n",
       "0-34 | Diet      | False | True\n",
       "0-34 | Diet      | False | True\n",
       "0-34 | Diet      | False | True\n",
       "0-34 | Diet      | False | True\n",
       "0-34 | Diet      | False | True\n",
       "... (9413 rows omitted)"
      ]
     },
     "execution_count": 69,
     "metadata": {},
     "output_type": "execute_result"
    }
   ],
   "source": [
    "minnesota_data = Table(['Age', 'Condition', 'Died', 'Participated'])\n",
    "for row in mortality_summary.rows:\n",
    "    count = np.arange(0, row.item('Total'))\n",
    "    t = Table().with_column('Died', count < row.item('Deaths'))\n",
    "    t = t.with_column('Age', row.Age)\n",
    "    t = t.with_column('Condition', row.Condition)\n",
    "    t = t.with_column('Participated', True)\n",
    "    minnesota_data.append(t)\n",
    "minnesota_data"
   ]
  },
  {
   "cell_type": "markdown",
   "metadata": {},
   "source": [
    "We'll need to look at the breakdown for death rates for both the treatment (diet) and control groups."
   ]
  },
  {
   "cell_type": "markdown",
   "metadata": {
    "deletable": false,
    "editable": false
   },
   "source": [
    "**Question 2:** Create a table named `summed_mn_data`, with three columns and two rows. The three columns should be \"Condition\", \"Died sum\", and \"Participated sum\". There should be one row for the diet group and one row for the control group, and each row should encode the total number of people who participated in that group and the total number of people who died in that group. \n",
    "<!--\n",
    "BEGIN QUESTION\n",
    "name: q4_2\n",
    "-->"
   ]
  },
  {
   "cell_type": "code",
   "execution_count": 70,
   "metadata": {},
   "outputs": [
    {
     "data": {
      "text/html": [
       "<table border=\"1\" class=\"dataframe\">\n",
       "    <thead>\n",
       "        <tr>\n",
       "            <th>Condition</th> <th>Died sum</th> <th>Participated sum</th>\n",
       "        </tr>\n",
       "    </thead>\n",
       "    <tbody>\n",
       "        <tr>\n",
       "            <td>Control  </td> <td>222     </td> <td>4738            </td>\n",
       "        </tr>\n",
       "        <tr>\n",
       "            <td>Diet     </td> <td>245     </td> <td>4685            </td>\n",
       "        </tr>\n",
       "    </tbody>\n",
       "</table>"
      ],
      "text/plain": [
       "Condition | Died sum | Participated sum\n",
       "Control   | 222      | 4738\n",
       "Diet      | 245      | 4685"
      ]
     },
     "execution_count": 70,
     "metadata": {},
     "output_type": "execute_result"
    }
   ],
   "source": [
    "summed_mn_data = minnesota_data.drop('Age').group('Condition', sum)\n",
    "summed_mn_data"
   ]
  },
  {
   "cell_type": "code",
   "execution_count": 71,
   "metadata": {
    "deletable": false,
    "editable": false
   },
   "outputs": [
    {
     "name": "stdout",
     "output_type": "stream",
     "text": [
      "~~~~~~~~~~~~~~~~~~~~~~~~~~~~~~~~~~~~~~~~~~~~~~~~~~~~~~~~~~~~~~~~~~~~~\n",
      "Running tests\n",
      "\n",
      "---------------------------------------------------------------------\n",
      "Test summary\n",
      "    Passed: 2\n",
      "    Failed: 0\n",
      "[ooooooooook] 100.0% passed\n",
      "\n"
     ]
    }
   ],
   "source": [
    "ok.grade(\"q4_2\");"
   ]
  },
  {
   "cell_type": "markdown",
   "metadata": {},
   "source": [
    "### Running a Hypothesis Test"
   ]
  },
  {
   "cell_type": "markdown",
   "metadata": {},
   "source": [
    "Using the `minnesota_data` data table, we want to explore how change in diet affects death rates among the subjects"
   ]
  },
  {
   "cell_type": "markdown",
   "metadata": {
    "deletable": false,
    "editable": false
   },
   "source": [
    "**Question 3:** Set up a null hypothesis and an alternative hypothesis that we can use to answer whether or not the unsaturated fat diet causes different rates of death in the two groups. We are interested in observing any change, not specifically an increase of decrease in death rates.\n",
    "<!--\n",
    "BEGIN QUESTION\n",
    "name: q4_3\n",
    "manual: true\n",
    "-->\n",
    "<!-- EXPORT TO PDF -->"
   ]
  },
  {
   "cell_type": "markdown",
   "metadata": {
    "export_pdf": true
   },
   "source": [
    "Null Hypothesis: The death rates associated with an unsaturated fat diet and a saturated fat diet are the\n",
    "same. Any difference in death rates is due to chance.\n",
    "Alternative Hypothesis: The death rates associated with an unsaturated fat diet and a saturated fat diet are\n",
    "different."
   ]
  },
  {
   "cell_type": "markdown",
   "metadata": {
    "deletable": false,
    "editable": false
   },
   "source": [
    "**Question 4:** In thinking of a test statistic, one researcher decides that the absolute difference in the number of people who died in the control group and the number of people who died in the diet group is a sufficient test statistic. Give one **specific** reason why this test statistic **will not** work. \n",
    "<!--\n",
    "BEGIN QUESTION\n",
    "name: q4_4\n",
    "manual: true\n",
    "-->\n",
    "<!-- EXPORT TO PDF -->"
   ]
  },
  {
   "cell_type": "markdown",
   "metadata": {
    "export_pdf": true
   },
   "source": [
    "Since we have different quantities in each group, we need to create a proportion in death rates in order to make a comparison."
   ]
  },
  {
   "cell_type": "markdown",
   "metadata": {},
   "source": [
    "To combat the problem above, we instead decide to use the the absolute difference in hazard rates between the two groups as our test statistic. **The *hazard rate* is defined as the proportion of people who died in a specific group out of the total number who participated in the study from that group.**"
   ]
  },
  {
   "cell_type": "markdown",
   "metadata": {
    "deletable": false,
    "editable": false
   },
   "source": [
    "**Question 5:** Define a new table `summed_mn_hazard_data` that contains the columns of `summed_mn_data` along with an additional column, `Hazard Rate`, that contains the hazard rates for each condition.\n",
    "<!--\n",
    "BEGIN QUESTION\n",
    "name: q4_5\n",
    "manual: true\n",
    "-->\n",
    "<!-- EXPORT TO PDF -->"
   ]
  },
  {
   "cell_type": "code",
   "execution_count": 83,
   "metadata": {
    "export_pdf": true
   },
   "outputs": [
    {
     "data": {
      "text/html": [
       "<table border=\"1\" class=\"dataframe\">\n",
       "    <thead>\n",
       "        <tr>\n",
       "            <th>Condition</th> <th>Died sum</th> <th>Participated sum</th> <th>Hazard Rate</th>\n",
       "        </tr>\n",
       "    </thead>\n",
       "    <tbody>\n",
       "        <tr>\n",
       "            <td>Control  </td> <td>222     </td> <td>4738            </td> <td>0.0468552  </td>\n",
       "        </tr>\n",
       "        <tr>\n",
       "            <td>Diet     </td> <td>245     </td> <td>4685            </td> <td>0.0522946  </td>\n",
       "        </tr>\n",
       "    </tbody>\n",
       "</table>"
      ],
      "text/plain": [
       "Condition | Died sum | Participated sum | Hazard Rate\n",
       "Control   | 222      | 4738             | 0.0468552\n",
       "Diet      | 245      | 4685             | 0.0522946"
      ]
     },
     "execution_count": 83,
     "metadata": {},
     "output_type": "execute_result"
    }
   ],
   "source": [
    "summed_mn_hazard_data = summed_mn_data.with_column('Hazard Rate', summed_mn_data.column('Died sum')/summed_mn_data.column('Participated sum'))\n",
    "summed_mn_hazard_data"
   ]
  },
  {
   "cell_type": "code",
   "execution_count": 84,
   "metadata": {
    "deletable": false,
    "editable": false
   },
   "outputs": [
    {
     "name": "stdout",
     "output_type": "stream",
     "text": [
      "~~~~~~~~~~~~~~~~~~~~~~~~~~~~~~~~~~~~~~~~~~~~~~~~~~~~~~~~~~~~~~~~~~~~~\n",
      "Running tests\n",
      "\n",
      "---------------------------------------------------------------------\n",
      "Test summary\n",
      "    Passed: 2\n",
      "    Failed: 0\n",
      "[ooooooooook] 100.0% passed\n",
      "\n"
     ]
    }
   ],
   "source": [
    "ok.grade(\"q4_5\");"
   ]
  },
  {
   "cell_type": "markdown",
   "metadata": {
    "deletable": false,
    "editable": false
   },
   "source": [
    "**Question 6:** Define a function `compute_hazard_difference` which takes in a table like `summed_mn_hazard_data` and returns the absolute difference between the hazard rates of the control group and the diet group. Use it to get the observed test statistic and assign it to `death_rate_observed_statistic`.\n",
    "\n",
    "<!--\n",
    "BEGIN QUESTION\n",
    "name: q4_6\n",
    "manual: true\n",
    "-->\n",
    "<!-- EXPORT TO PDF -->"
   ]
  },
  {
   "cell_type": "code",
   "execution_count": 85,
   "metadata": {
    "export_pdf": true
   },
   "outputs": [
    {
     "data": {
      "text/plain": [
       "0.005439343927004493"
      ]
     },
     "execution_count": 85,
     "metadata": {},
     "output_type": "execute_result"
    }
   ],
   "source": [
    "def compute_hazard_difference(tbl):\n",
    "    return abs(tbl.column('Hazard Rate').item(0)-tbl.column('Hazard Rate').item(1))\n",
    "\n",
    "death_rate_observed_statistic = compute_hazard_difference(summed_mn_hazard_data)\n",
    "death_rate_observed_statistic"
   ]
  },
  {
   "cell_type": "code",
   "execution_count": 86,
   "metadata": {
    "deletable": false,
    "editable": false
   },
   "outputs": [
    {
     "name": "stdout",
     "output_type": "stream",
     "text": [
      "~~~~~~~~~~~~~~~~~~~~~~~~~~~~~~~~~~~~~~~~~~~~~~~~~~~~~~~~~~~~~~~~~~~~~\n",
      "Running tests\n",
      "\n",
      "---------------------------------------------------------------------\n",
      "Test summary\n",
      "    Passed: 1\n",
      "    Failed: 0\n",
      "[ooooooooook] 100.0% passed\n",
      "\n"
     ]
    }
   ],
   "source": [
    "ok.grade(\"q4_6\");"
   ]
  },
  {
   "cell_type": "markdown",
   "metadata": {
    "deletable": false,
    "editable": false
   },
   "source": [
    "**Question 7:** We are now in a position to run a hypothesis test to help differentiate between our two hypothesis using our data. Define a function `complete_test` which takes in `tbl` a table like `minnesota_data`. It simulates samples and calculates the rate differences for these samples under the null hypothesis 500 times, and uses them to return a P-Value with respect to our observed data. Note that your function should use the values in `tbl` , and should not refer to `minnesota_table`!\n",
    "\n",
    "Hint: This is a very long, involved problem. Start by outlining the steps you'll need to execute in this function and address each separately. Small steps and comments will be very helpful. You've already written a lot of key steps!\n",
    "\n",
    "Note: Your code might take a couple of minutes to run.\n",
    "\n",
    "<!--\n",
    "BEGIN QUESTION\n",
    "name: q4_7\n",
    "-->"
   ]
  },
  {
   "cell_type": "code",
   "execution_count": 87,
   "metadata": {},
   "outputs": [
    {
     "data": {
      "text/plain": [
       "0.005439343927004493"
      ]
     },
     "execution_count": 87,
     "metadata": {},
     "output_type": "execute_result"
    }
   ],
   "source": [
    "m = minnesota_data.sample().column('Condition')\n",
    "s = minnesota_data.with_column('Condition', m)\n",
    "s = s.drop('Age').group('Condition', sum) \n",
    "p = s.with_column('Hazard Rate', s.column('Died sum')/s.column('Participated sum'))\n",
    "compute_hazard_difference(summed_mn_hazard_data)"
   ]
  },
  {
   "cell_type": "code",
   "execution_count": 88,
   "metadata": {},
   "outputs": [
    {
     "data": {
      "text/plain": [
       "1.0"
      ]
     },
     "execution_count": 88,
     "metadata": {},
     "output_type": "execute_result"
    }
   ],
   "source": [
    "def complete_test(t):\n",
    "    statistic_under_null = make_array()\n",
    "    for i in np.arange(500):      \n",
    "        shuffled_labels = t.sample().column('Condition')\n",
    "        new_labels = t.with_column('Condition', shuffled_labels)\n",
    "        grouped_condition = new_labels.drop('Age').group('Condition', sum)\n",
    "        with_hazard = grouped_condition.with_column('Hazard Rate', summed_mn_data.column('Died sum')/summed_mn_data.column('Participated sum'))\n",
    "        statistic_under_null = np.append( statistic_under_null, compute_hazard_difference(with_hazard))\n",
    "    return np.count_nonzero(statistic_under_null >= death_rate_observed_statistic) / len(statistic_under_null)\n",
    "    \n",
    "our_p_value = complete_test(minnesota_data)\n",
    "our_p_value"
   ]
  },
  {
   "cell_type": "code",
   "execution_count": 89,
   "metadata": {
    "deletable": false,
    "editable": false
   },
   "outputs": [
    {
     "name": "stdout",
     "output_type": "stream",
     "text": [
      "~~~~~~~~~~~~~~~~~~~~~~~~~~~~~~~~~~~~~~~~~~~~~~~~~~~~~~~~~~~~~~~~~~~~~\n",
      "Running tests\n",
      "\n",
      "---------------------------------------------------------------------\n",
      "Test summary\n",
      "    Passed: 1\n",
      "    Failed: 0\n",
      "[ooooooooook] 100.0% passed\n",
      "\n"
     ]
    }
   ],
   "source": [
    "ok.grade(\"q4_7\");"
   ]
  },
  {
   "cell_type": "markdown",
   "metadata": {
    "deletable": false,
    "editable": false
   },
   "source": [
    "**Question 8:** Using the P-Value above, can we conclude that the change in diet causes a difference in death rate? Assume a normal p-value cutoff of 0.05. Set `reject_null` to `True` if we reject the null hypothesis and `False` if we fail to reject the null hypothesis.\n",
    "\n",
    "\n",
    "<!--\n",
    "BEGIN QUESTION\n",
    "name: q4_8\n",
    "-->"
   ]
  },
  {
   "cell_type": "code",
   "execution_count": 90,
   "metadata": {},
   "outputs": [
    {
     "data": {
      "text/plain": [
       "False"
      ]
     },
     "execution_count": 90,
     "metadata": {},
     "output_type": "execute_result"
    }
   ],
   "source": [
    "reject_null = False\n",
    "reject_null"
   ]
  },
  {
   "cell_type": "code",
   "execution_count": 91,
   "metadata": {
    "deletable": false,
    "editable": false
   },
   "outputs": [
    {
     "name": "stdout",
     "output_type": "stream",
     "text": [
      "~~~~~~~~~~~~~~~~~~~~~~~~~~~~~~~~~~~~~~~~~~~~~~~~~~~~~~~~~~~~~~~~~~~~~\n",
      "Running tests\n",
      "\n",
      "---------------------------------------------------------------------\n",
      "Test summary\n",
      "    Passed: 1\n",
      "    Failed: 0\n",
      "[ooooooooook] 100.0% passed\n",
      "\n"
     ]
    }
   ],
   "source": [
    "ok.grade(\"q4_8\");"
   ]
  },
  {
   "cell_type": "markdown",
   "metadata": {
    "collapsed": true
   },
   "source": [
    "Congratulations! You have completed your own large scale case study into cause and effect surrounding one of the world's deadliest killers: cardiovascular disease. Your investigation has taken you through two important data sets and across decades of medical research.\n",
    "\n",
    "Run the next two cells to run all the tests at once and submit the project. "
   ]
  },
  {
   "cell_type": "code",
   "execution_count": 92,
   "metadata": {},
   "outputs": [
    {
     "data": {
      "application/javascript": [
       "IPython.notebook.save_checkpoint();"
      ],
      "text/plain": [
       "<IPython.core.display.Javascript object>"
      ]
     },
     "metadata": {},
     "output_type": "display_data"
    },
    {
     "data": {
      "application/javascript": [
       "IPython.notebook.save_notebook();"
      ],
      "text/plain": [
       "<IPython.core.display.Javascript object>"
      ]
     },
     "metadata": {},
     "output_type": "display_data"
    },
    {
     "name": "stdout",
     "output_type": "stream",
     "text": [
      "Saving notebook... Saved 'project2.ipynb'.\n",
      "Submit... 0.0% complete\n",
      "Could not submit: Late Submission of cal/data8/fa19/project2\n",
      "Backup... 100% complete\n",
      "Backup past deadline by 700 days, 19 hours, 42 minutes, and 46 seconds\n",
      "\n"
     ]
    }
   ],
   "source": [
    "_ = ok.submit()"
   ]
  },
  {
   "cell_type": "code",
   "execution_count": 93,
   "metadata": {},
   "outputs": [
    {
     "name": "stdout",
     "output_type": "stream",
     "text": [
      "Running all tests...\n",
      "~~~~~~~~~~~~~~~~~~~~~~~~~~~~~~~~~~~~~~~~~~~~~~~~~~~~~~~~~~~~~~~~~~~~~\n",
      "Running tests\n",
      "\n",
      "---------------------------------------------------------------------\n",
      "Test summary\n",
      "    Passed: 1\n",
      "    Failed: 0\n",
      "[ooooooooook] 100.0% passed\n",
      "\n",
      "~~~~~~~~~~~~~~~~~~~~~~~~~~~~~~~~~~~~~~~~~~~~~~~~~~~~~~~~~~~~~~~~~~~~~\n",
      "Running tests\n",
      "\n",
      "---------------------------------------------------------------------\n",
      "Test summary\n",
      "    Passed: 1\n",
      "    Failed: 0\n",
      "[ooooooooook] 100.0% passed\n",
      "\n",
      "~~~~~~~~~~~~~~~~~~~~~~~~~~~~~~~~~~~~~~~~~~~~~~~~~~~~~~~~~~~~~~~~~~~~~\n",
      "Running tests\n",
      "\n",
      "---------------------------------------------------------------------\n",
      "Test summary\n",
      "    Passed: 1\n",
      "    Failed: 0\n",
      "[ooooooooook] 100.0% passed\n",
      "\n",
      "~~~~~~~~~~~~~~~~~~~~~~~~~~~~~~~~~~~~~~~~~~~~~~~~~~~~~~~~~~~~~~~~~~~~~\n",
      "Running tests\n",
      "\n",
      "---------------------------------------------------------------------\n",
      "Test summary\n",
      "    Passed: 1\n",
      "    Failed: 0\n",
      "[ooooooooook] 100.0% passed\n",
      "\n",
      "~~~~~~~~~~~~~~~~~~~~~~~~~~~~~~~~~~~~~~~~~~~~~~~~~~~~~~~~~~~~~~~~~~~~~\n",
      "Running tests\n",
      "\n",
      "---------------------------------------------------------------------\n",
      "Test summary\n",
      "    Passed: 1\n",
      "    Failed: 0\n",
      "[ooooooooook] 100.0% passed\n",
      "\n",
      "~~~~~~~~~~~~~~~~~~~~~~~~~~~~~~~~~~~~~~~~~~~~~~~~~~~~~~~~~~~~~~~~~~~~~\n",
      "Running tests\n",
      "\n",
      "---------------------------------------------------------------------\n",
      "Test summary\n",
      "    Passed: 1\n",
      "    Failed: 0\n",
      "[ooooooooook] 100.0% passed\n",
      "\n",
      "~~~~~~~~~~~~~~~~~~~~~~~~~~~~~~~~~~~~~~~~~~~~~~~~~~~~~~~~~~~~~~~~~~~~~\n",
      "Running tests\n",
      "\n",
      "---------------------------------------------------------------------\n",
      "Test summary\n",
      "    Passed: 1\n",
      "    Failed: 0\n",
      "[ooooooooook] 100.0% passed\n",
      "\n",
      "~~~~~~~~~~~~~~~~~~~~~~~~~~~~~~~~~~~~~~~~~~~~~~~~~~~~~~~~~~~~~~~~~~~~~\n",
      "Running tests\n",
      "\n",
      "---------------------------------------------------------------------\n",
      "Test summary\n",
      "    Passed: 2\n",
      "    Failed: 0\n",
      "[ooooooooook] 100.0% passed\n",
      "\n",
      "~~~~~~~~~~~~~~~~~~~~~~~~~~~~~~~~~~~~~~~~~~~~~~~~~~~~~~~~~~~~~~~~~~~~~\n",
      "Running tests\n",
      "\n",
      "---------------------------------------------------------------------\n",
      "Test summary\n",
      "    Passed: 2\n",
      "    Failed: 0\n",
      "[ooooooooook] 100.0% passed\n",
      "\n",
      "~~~~~~~~~~~~~~~~~~~~~~~~~~~~~~~~~~~~~~~~~~~~~~~~~~~~~~~~~~~~~~~~~~~~~\n",
      "Running tests\n",
      "\n",
      "---------------------------------------------------------------------\n",
      "Test summary\n",
      "    Passed: 1\n",
      "    Failed: 0\n",
      "[ooooooooook] 100.0% passed\n",
      "\n",
      "~~~~~~~~~~~~~~~~~~~~~~~~~~~~~~~~~~~~~~~~~~~~~~~~~~~~~~~~~~~~~~~~~~~~~\n",
      "Running tests\n",
      "\n",
      "---------------------------------------------------------------------\n",
      "Test summary\n",
      "    Passed: 1\n",
      "    Failed: 0\n",
      "[ooooooooook] 100.0% passed\n",
      "\n",
      "~~~~~~~~~~~~~~~~~~~~~~~~~~~~~~~~~~~~~~~~~~~~~~~~~~~~~~~~~~~~~~~~~~~~~\n",
      "Running tests\n",
      "\n",
      "---------------------------------------------------------------------\n",
      "Test summary\n",
      "    Passed: 2\n",
      "    Failed: 0\n",
      "[ooooooooook] 100.0% passed\n",
      "\n",
      "~~~~~~~~~~~~~~~~~~~~~~~~~~~~~~~~~~~~~~~~~~~~~~~~~~~~~~~~~~~~~~~~~~~~~\n",
      "Running tests\n",
      "\n",
      "---------------------------------------------------------------------\n",
      "Test summary\n",
      "    Passed: 3\n",
      "    Failed: 0\n",
      "[ooooooooook] 100.0% passed\n",
      "\n",
      "~~~~~~~~~~~~~~~~~~~~~~~~~~~~~~~~~~~~~~~~~~~~~~~~~~~~~~~~~~~~~~~~~~~~~\n",
      "Running tests\n",
      "\n",
      "---------------------------------------------------------------------\n",
      "Test summary\n",
      "    Passed: 2\n",
      "    Failed: 0\n",
      "[ooooooooook] 100.0% passed\n",
      "\n",
      "~~~~~~~~~~~~~~~~~~~~~~~~~~~~~~~~~~~~~~~~~~~~~~~~~~~~~~~~~~~~~~~~~~~~~\n",
      "Running tests\n",
      "\n",
      "---------------------------------------------------------------------\n",
      "Test summary\n",
      "    Passed: 1\n",
      "    Failed: 0\n",
      "[ooooooooook] 100.0% passed\n",
      "\n",
      "~~~~~~~~~~~~~~~~~~~~~~~~~~~~~~~~~~~~~~~~~~~~~~~~~~~~~~~~~~~~~~~~~~~~~\n",
      "Running tests\n",
      "\n",
      "---------------------------------------------------------------------\n",
      "Test summary\n",
      "    Passed: 2\n",
      "    Failed: 0\n",
      "[ooooooooook] 100.0% passed\n",
      "\n",
      "~~~~~~~~~~~~~~~~~~~~~~~~~~~~~~~~~~~~~~~~~~~~~~~~~~~~~~~~~~~~~~~~~~~~~\n",
      "Running tests\n",
      "\n",
      "---------------------------------------------------------------------\n",
      "Test summary\n",
      "    Passed: 2\n",
      "    Failed: 0\n",
      "[ooooooooook] 100.0% passed\n",
      "\n",
      "~~~~~~~~~~~~~~~~~~~~~~~~~~~~~~~~~~~~~~~~~~~~~~~~~~~~~~~~~~~~~~~~~~~~~\n",
      "Running tests\n",
      "\n",
      "---------------------------------------------------------------------\n",
      "Test summary\n",
      "    Passed: 1\n",
      "    Failed: 0\n",
      "[ooooooooook] 100.0% passed\n",
      "\n",
      "~~~~~~~~~~~~~~~~~~~~~~~~~~~~~~~~~~~~~~~~~~~~~~~~~~~~~~~~~~~~~~~~~~~~~\n",
      "Running tests\n",
      "\n",
      "---------------------------------------------------------------------\n",
      "Test summary\n",
      "    Passed: 1\n",
      "    Failed: 0\n",
      "[ooooooooook] 100.0% passed\n",
      "\n",
      "~~~~~~~~~~~~~~~~~~~~~~~~~~~~~~~~~~~~~~~~~~~~~~~~~~~~~~~~~~~~~~~~~~~~~\n",
      "Running tests\n",
      "\n",
      "---------------------------------------------------------------------\n",
      "Test summary\n",
      "    Passed: 1\n",
      "    Failed: 0\n",
      "[ooooooooook] 100.0% passed\n",
      "\n",
      "~~~~~~~~~~~~~~~~~~~~~~~~~~~~~~~~~~~~~~~~~~~~~~~~~~~~~~~~~~~~~~~~~~~~~\n",
      "Running tests\n",
      "\n",
      "---------------------------------------------------------------------\n",
      "Test summary\n",
      "    Passed: 2\n",
      "    Failed: 0\n",
      "[ooooooooook] 100.0% passed\n",
      "\n",
      "~~~~~~~~~~~~~~~~~~~~~~~~~~~~~~~~~~~~~~~~~~~~~~~~~~~~~~~~~~~~~~~~~~~~~\n",
      "Running tests\n",
      "\n",
      "---------------------------------------------------------------------\n",
      "Test summary\n",
      "    Passed: 1\n",
      "    Failed: 0\n",
      "[ooooooooook] 100.0% passed\n",
      "\n",
      "~~~~~~~~~~~~~~~~~~~~~~~~~~~~~~~~~~~~~~~~~~~~~~~~~~~~~~~~~~~~~~~~~~~~~\n",
      "Running tests\n",
      "\n",
      "---------------------------------------------------------------------\n",
      "Test summary\n",
      "    Passed: 2\n",
      "    Failed: 0\n",
      "[ooooooooook] 100.0% passed\n",
      "\n",
      "~~~~~~~~~~~~~~~~~~~~~~~~~~~~~~~~~~~~~~~~~~~~~~~~~~~~~~~~~~~~~~~~~~~~~\n",
      "Running tests\n",
      "\n",
      "---------------------------------------------------------------------\n",
      "Test summary\n",
      "    Passed: 2\n",
      "    Failed: 0\n",
      "[ooooooooook] 100.0% passed\n",
      "\n",
      "~~~~~~~~~~~~~~~~~~~~~~~~~~~~~~~~~~~~~~~~~~~~~~~~~~~~~~~~~~~~~~~~~~~~~\n",
      "Running tests\n",
      "\n",
      "---------------------------------------------------------------------\n",
      "Test summary\n",
      "    Passed: 1\n",
      "    Failed: 0\n",
      "[ooooooooook] 100.0% passed\n",
      "\n",
      "~~~~~~~~~~~~~~~~~~~~~~~~~~~~~~~~~~~~~~~~~~~~~~~~~~~~~~~~~~~~~~~~~~~~~\n",
      "Running tests\n",
      "\n",
      "---------------------------------------------------------------------\n",
      "Test summary\n",
      "    Passed: 1\n",
      "    Failed: 0\n",
      "[ooooooooook] 100.0% passed\n",
      "\n",
      "~~~~~~~~~~~~~~~~~~~~~~~~~~~~~~~~~~~~~~~~~~~~~~~~~~~~~~~~~~~~~~~~~~~~~\n",
      "Running tests\n",
      "\n",
      "---------------------------------------------------------------------\n",
      "Test summary\n",
      "    Passed: 1\n",
      "    Failed: 0\n",
      "[ooooooooook] 100.0% passed\n",
      "\n",
      "Finished running all tests.\n"
     ]
    }
   ],
   "source": [
    "# For your convenience, you can run this cell to run all the tests at once!\n",
    "import os\n",
    "print(\"Running all tests...\")\n",
    "_ = [ok.grade(q[:-3]) for q in os.listdir(\"tests\") if q.startswith('q') and len(q) <= 10]\n",
    "print(\"Finished running all tests.\")"
   ]
  },
  {
   "cell_type": "code",
   "execution_count": null,
   "metadata": {},
   "outputs": [],
   "source": []
  }
 ],
 "metadata": {
  "celltoolbar": "Edit Metadata",
  "kernelspec": {
   "display_name": "Python 3 (ipykernel)",
   "language": "python",
   "name": "python3"
  },
  "language_info": {
   "codemirror_mode": {
    "name": "ipython",
    "version": 3
   },
   "file_extension": ".py",
   "mimetype": "text/x-python",
   "name": "python",
   "nbconvert_exporter": "python",
   "pygments_lexer": "ipython3",
   "version": "3.9.7"
  }
 },
 "nbformat": 4,
 "nbformat_minor": 1
}
